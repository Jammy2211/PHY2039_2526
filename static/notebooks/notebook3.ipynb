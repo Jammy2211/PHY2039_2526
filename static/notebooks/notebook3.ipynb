{
 "cells": [
  {
   "cell_type": "markdown",
   "metadata": {},
   "source": [
    "MAS1801 Python Practical 3\n",
    "==========================\n",
    "\n",
    "Welcome to the handout for the third week of Python material.\n",
    "\n",
    "#### To Hand in this week:\n",
    "\n",
    "Upload your solutions to:\n",
    "\n",
    "-   Exercise 3.5\n",
    "\n",
    "to NESS by midnight this **Sunday 2nd Neverember**.\n",
    "<a href=\"../introduction_and_handouts/uploading_to_ness.html\" target=\"_blank\">Click here to view instructions on how to upload to NESS</a>.\n",
    "\n",
    "Logical operators\n",
    "-----------------\n",
    "\n",
    "Recall from handout 1 that we can query, for example which values of an\n",
    "array are greater than 10:"
   ]
  },
  {
   "cell_type": "code",
   "execution_count": null,
   "metadata": {},
   "outputs": [],
   "source": [
    "import numpy as np\n",
    "x = np.arange(0,30)\n",
    "x[x>10]"
   ]
  },
  {
   "cell_type": "markdown",
   "metadata": {},
   "source": [
    "The command `x>10` returns a boolean (or array of booleans in this\n",
    "case). The `>` is known as a logical operator. Others which can be used\n",
    "to make up such an expression are as follows:\n",
    "\n",
    "| **Operator** |      **Description**     |\n",
    "|:-------------|:------------------------:|\n",
    "| \\<           |         Less than        |\n",
    "| \\>           |       Greater than       |\n",
    "| \\<=          |   Less than or equal to  |\n",
    "| \\>=          | Greater than or equal to |\n",
    "| ==           |         Equal to         |\n",
    "| !=           |       Not equal to       |\n",
    "| a and b      |         is a OR b        |\n",
    "| a or b       |        is a AND b        |\n",
    "\n",
    "Here are some more examples"
   ]
  },
  {
   "cell_type": "code",
   "execution_count": null,
   "metadata": {},
   "outputs": [],
   "source": [
    "a = 3\n",
    "print(a <= 3)        # True\n",
    "print(a < 5 or a > 25)   # True\n",
    "print(a < 5 and a > 25)  # False"
   ]
  },
  {
   "cell_type": "markdown",
   "metadata": {},
   "source": [
    "These will form an important part of the next section on control flow.\n",
    "\n",
    "Control Flow\n",
    "------------\n",
    "\n",
    "This section introduces loops and if statements, part of a family of\n",
    "tools used by programmers and referred to generically as control flow.\n",
    "\n",
    "### For Loops\n",
    "\n",
    "A ‘for loop’ is used when we would like to repeat a piece of code many\n",
    "times, usually incrementing a value so that something slightly different\n",
    "happens at each iteration. The basic construction of a for loop is as\n",
    "follows:"
   ]
  },
  {
   "cell_type": "code",
   "execution_count": null,
   "metadata": {},
   "outputs": [],
   "source": [
    "for n in range(1,6):\n",
    "    # do something with n"
   ]
  },
  {
   "cell_type": "markdown",
   "metadata": {},
   "source": [
    "Notice the syntax, importantly the colon at the end of the `for` line,\n",
    "and the indentation. It doesn’t really matter what the indentation is, a\n",
    "tab or some spaces - Python enthusiast will tell you that 4 spaces is\n",
    "best - the important thing is that you are consistent!\n",
    "\n",
    "Go on try it without"
   ]
  },
  {
   "cell_type": "code",
   "execution_count": null,
   "metadata": {},
   "outputs": [],
   "source": [
    "for n in range(1,6):\n",
    "# do something with n"
   ]
  },
  {
   "cell_type": "markdown",
   "metadata": {},
   "source": [
    "Yep, you get an error!\n",
    "\n",
    "The comment labelled “do something with n” indicites exactly that,\n",
    "usually you would do something with the current value of $n$. The loop,\n",
    "in this case, runs 5 times, the first time $n=1$, then $n=2$ and so on\n",
    "until $n=5$, and then it stops.\n",
    "\n",
    "So here my choice of “doing something” is to print the value of $n^2$:"
   ]
  },
  {
   "cell_type": "code",
   "execution_count": null,
   "metadata": {},
   "outputs": [],
   "source": [
    "for n in range(1,6):\n",
    "    print(n**2)"
   ]
  },
  {
   "cell_type": "markdown",
   "metadata": {},
   "source": [
    "We could get fancy and print some text alongside the value:"
   ]
  },
  {
   "cell_type": "code",
   "execution_count": null,
   "metadata": {},
   "outputs": [],
   "source": [
    "for n in range(1,6):\n",
    "    print(\"The value squared is {}\".format(n**2))"
   ]
  },
  {
   "cell_type": "markdown",
   "metadata": {},
   "source": [
    "Note the syntax too for inserting my number into the string at each\n",
    "iteration. We could spend a whole practical looking at string\n",
    "formatting… [here’s a\n",
    "reference](https://docs.code%20.python.org/3/library/string.html#string-formatting)\n",
    "\n",
    "The `range(1,6)` could be any list, so we can do this, for example"
   ]
  },
  {
   "cell_type": "code",
   "execution_count": null,
   "metadata": {},
   "outputs": [],
   "source": [
    "for n in [4,1,5,6]:\n",
    "    print(n)"
   ]
  },
  {
   "cell_type": "markdown",
   "metadata": {},
   "source": [
    "Or even other data types,"
   ]
  },
  {
   "cell_type": "code",
   "execution_count": null,
   "metadata": {},
   "outputs": [],
   "source": [
    "bears = [\"koala\", \"panda\", \"sun\"]\n",
    "for x in bears:\n",
    "    print(x)"
   ]
  },
  {
   "cell_type": "markdown",
   "metadata": {},
   "source": [
    "The loop could do pretty much anything with n. For example here I add\n",
    "the values of n by initialising a variable s, and then adding n to it at\n",
    "each step of the loop:"
   ]
  },
  {
   "cell_type": "code",
   "execution_count": null,
   "metadata": {},
   "outputs": [],
   "source": [
    "# Intitialise a variable\n",
    "s = 0\n",
    "\n",
    "# Loop through adding n each time\n",
    "for n in range(1,6):\n",
    "    s += n\n",
    "\n",
    "# print final value\n",
    "print(s)"
   ]
  },
  {
   "cell_type": "markdown",
   "metadata": {},
   "source": [
    "Notice that the line break and subsequent unindent marks the end of the\n",
    "for loop contents.\n",
    "\n",
    "The `s += n` adds `n` to the curent `s` vale and is equivalent to\n",
    "`s = s + n`.\n",
    "\n",
    "`+=` is known as an assignment operator, and there others such as `*=`\n",
    "e.g. `s *= n` equivalent to `s = s * n`.\n",
    "\n",
    "### Exercise 3.1\n",
    "\n",
    "One thing that we might like to do is to make some calculation inside\n",
    "each iteration of the for loop and to store its value somewhere.\n",
    "Consider this example:"
   ]
  },
  {
   "cell_type": "code",
   "execution_count": null,
   "metadata": {},
   "outputs": [],
   "source": [
    "x = []     \n",
    "for n in range(1,6):\n",
    "    x.append(n**3)"
   ]
  },
  {
   "cell_type": "markdown",
   "metadata": {},
   "source": [
    "-   What do you think the object `x` will look like at the end of the\n",
    "    loop? Run the code and check.\n",
    "-   What does the list method `append` do?\n",
    "-   Can you think of another way (better and faster way in fact) to\n",
    "    obtain `x` from the values used in `n` (see handout 1 hand in\n",
    "    exercise)?\n",
    "\n",
    "### While Loops\n",
    "\n",
    "Loops aren’t always faster, but can offer a lot of flexibility. For\n",
    "example a `while` loop can run whilst a certain condition is satisfied,\n",
    "e.g."
   ]
  },
  {
   "cell_type": "code",
   "execution_count": null,
   "metadata": {},
   "outputs": [],
   "source": [
    "s = 0   # some value we'll add to\n",
    "n = 0;   # this is my counter\n",
    "\n",
    "while s < 1000:\n",
    "   n += 1;    # increment the counter\n",
    "   s += n;    # add to s  \n",
    "\n",
    "# Output the results\n",
    "print(\"s is equal to {}\".format(s))"
   ]
  },
  {
   "cell_type": "markdown",
   "metadata": {},
   "source": [
    "Here, the `s < 1000` is a logical expression, it returns either true or\n",
    "false, and so the while loop can be read “while s \\< 1000 is true”. Note\n",
    "that you might expect the final value of `s` to be less than 1000. Have\n",
    "a read through the code logic to convince yourself that it is sensible\n",
    "that its value should be greater than 1000.\n",
    "\n",
    "### If statements\n",
    "\n",
    "An `if` statement ensures that a bit of code is only executed if a\n",
    "condition is met:"
   ]
  },
  {
   "cell_type": "code",
   "execution_count": null,
   "metadata": {},
   "outputs": [],
   "source": [
    "x = 2\n",
    "if x >= 2:\n",
    "   print(\"that is true\")"
   ]
  },
  {
   "cell_type": "markdown",
   "metadata": {},
   "source": [
    "The `print` command is only executed “if x \\>= 2” is true. On the other\n",
    "hand here,"
   ]
  },
  {
   "cell_type": "code",
   "execution_count": null,
   "metadata": {},
   "outputs": [],
   "source": [
    "x = 1\n",
    "if x >= 2:\n",
    "   print(\"that is true\")"
   ]
  },
  {
   "cell_type": "markdown",
   "metadata": {},
   "source": [
    "the `print` command in the if statement is not executed.\n",
    "\n",
    "That isn’t the whole story: we can use `if`…`else`…, with the command\n",
    "after `else` acting as a fall back, for example,"
   ]
  },
  {
   "cell_type": "code",
   "execution_count": null,
   "metadata": {},
   "outputs": [],
   "source": [
    "x = 2\n",
    "if x < 2:\n",
    "  print(\"x is less than 2\")\n",
    "else:\n",
    "  print(\"Oh no!\")"
   ]
  },
  {
   "cell_type": "markdown",
   "metadata": {},
   "source": [
    "Or, for even more options, `if`…`elif`…`else`…"
   ]
  },
  {
   "cell_type": "code",
   "execution_count": null,
   "metadata": {},
   "outputs": [],
   "source": [
    "x = 2\n",
    "if x < 2:\n",
    "    print(\"x is less than 2\")\n",
    "elif x == 2:\n",
    "    print(\"Something else\")\n",
    "else:\n",
    "    print(\"Fall back plan\")"
   ]
  },
  {
   "cell_type": "markdown",
   "metadata": {},
   "source": [
    "Take note again of the indenting. This is particularly important for\n",
    "nested clauses. The following is an alternative to the `while` loop\n",
    "above:"
   ]
  },
  {
   "cell_type": "code",
   "execution_count": null,
   "metadata": {},
   "outputs": [],
   "source": [
    "s = 0\n",
    "for n in range(100):\n",
    "    n += 1    # increment the counter\n",
    "    s += n    # calculate the new sum  \n",
    "    if s > 1000:\n",
    "        break\n",
    "\n",
    "# Output the results\n",
    "print(s)"
   ]
  },
  {
   "cell_type": "markdown",
   "metadata": {},
   "source": [
    "Here the command `break` ends the for loop when `s > 1000`. Of course\n",
    "this wasn’t as good as our while loop as we had to guess how many\n",
    "iterations to use (i.e. that 100 was large enough). Notice how we can\n",
    "see which commands go with the `if` and `for` respectively, thanks to\n",
    "the indenting.\n",
    "\n",
    "### Control flow and vector elements\n",
    "\n",
    "Recall that we can query a single element of a vector like this:"
   ]
  },
  {
   "cell_type": "code",
   "execution_count": null,
   "metadata": {},
   "outputs": [],
   "source": [
    "x = [2,5,8,5];\n",
    "print(x[2])"
   ]
  },
  {
   "cell_type": "markdown",
   "metadata": {},
   "source": [
    "We can also update the value inside a vector:"
   ]
  },
  {
   "cell_type": "code",
   "execution_count": null,
   "metadata": {},
   "outputs": [],
   "source": [
    "x = [2,5,8,5]\n",
    "x[2] = 4\n",
    "print(x)"
   ]
  },
  {
   "cell_type": "markdown",
   "metadata": {},
   "source": [
    "We could use this inside a for loop. Remember earlier how we filled a\n",
    "list with values from a series using vector arithmetic? Suppose we try\n",
    "to fill an array t with values. We might expect that we could do this to\n",
    "update the n-th element of `t` at each iteration:"
   ]
  },
  {
   "cell_type": "code",
   "execution_count": null,
   "metadata": {},
   "outputs": [],
   "source": [
    "t = []\n",
    "for n in range(0,10):\n",
    "    t[n] = n**2"
   ]
  },
  {
   "cell_type": "markdown",
   "metadata": {},
   "source": [
    "but not quite. Python is happy over-writing array values, but isn’t\n",
    "happy if they don’t yet exist. The solution is to initialise `t` as an\n",
    "empty vector first using the `np.zeros()` function"
   ]
  },
  {
   "cell_type": "code",
   "execution_count": null,
   "metadata": {},
   "outputs": [],
   "source": [
    "t = np.zeros(10)\n",
    "for n in range(0,10):\n",
    "    t[n] = n**2"
   ]
  },
  {
   "cell_type": "markdown",
   "metadata": {},
   "source": [
    "then the code works perfectly. Check with"
   ]
  },
  {
   "cell_type": "code",
   "execution_count": null,
   "metadata": {},
   "outputs": [],
   "source": [
    "print(t)"
   ]
  },
  {
   "cell_type": "markdown",
   "metadata": {},
   "source": [
    "Note this is the same as"
   ]
  },
  {
   "cell_type": "code",
   "execution_count": null,
   "metadata": {},
   "outputs": [],
   "source": [
    "n = np.arange(0,10)\n",
    "t = n**2"
   ]
  },
  {
   "cell_type": "markdown",
   "metadata": {},
   "source": [
    "and that this way (using vector arithmetic) is much more efficient;\n",
    "using for loops is not always the best solution. I take a look at the\n",
    "performance of the above two options in an interlude shortly, but not\n",
    "before a couple of exercises…\n",
    "\n",
    "### Exercise 3.1\n",
    "\n",
    "-   Use the function `np.random.randint()`, introduced last week\n",
    "    (`help(np.random.randint` if you can’t remember), to generate a\n",
    "    random integer from 1 to 6 (like a dice roll).\n",
    "\n",
    "-   Create a for loop which rolls *two* dice several times (hint: use\n",
    "    the above command twice to get two numbers at each step). Say 100\n",
    "    times, so a for loop with `for i in range(100)` would do it.\n",
    "\n",
    "-   Display the sum of the two dice at each step using `print()`.\n",
    "\n",
    "-   Modify your code to add a message displaying a celebratory message\n",
    "    each time a double is rolled.\n",
    "\n",
    "### For loops plot example\n",
    "\n",
    "In the lecture this week I did this example"
   ]
  },
  {
   "cell_type": "code",
   "execution_count": null,
   "metadata": {},
   "outputs": [],
   "source": [
    "import matplotlib.pyplot as plt\n",
    "import numpy as np\n",
    "\n",
    "# Vector of x values\n",
    "x = np.linspace(0,8,100)\n",
    "\n",
    "# Plot f(x)=xe^(ax) for a from 1 to 5\n",
    "for a in range(1,6):\n",
    "    f = x*np.exp(-a*x)\n",
    "    plt.plot(x,f)\n",
    "\n",
    "\n",
    "plt.show()\n",
    "\n",
    "# make it pretty..."
   ]
  },
  {
   "cell_type": "markdown",
   "metadata": {},
   "source": [
    "Use this as a template to help you tackle the following exercise:\n",
    "\n",
    "### Exercise 3.2\n",
    "\n",
    "Curves of the form\n",
    "\n",
    "$$y^2 = x^3 + n$$\n",
    "\n",
    "for integer $n$, are known as\n",
    "<a href=\"http://mathworld.wolfram.com/MordellCurve.html\" target=\"_blank\">Mordell Curves</a>\n",
    "and are of interest in exploring the relationship between square and\n",
    "cube numbers (particularly for integer $x$ and $y$).\n",
    "\n",
    "Use a for loop to make a plot of the curves with $n=1,2\\ldots10$ for\n",
    "$-3\\le x\\le 3$. \\[*Hint: take the square root on the right and plot both\n",
    "the positive and negative solution at each iteration*\\].\n",
    "\n",
    "You should get something like this:\n",
    "\n",
    "<img src=\"attachment:./build/default/static/images/week3/mordellcurves.png\" style=\"width:100.0%\" />\n",
    "\n",
    "### Code timing\n",
    "\n",
    "This is optional, if you’re keen… The Python module *time* has a\n",
    "function `time()` that you can use to time your code (think we have\n",
    "enough “times” in that sentance!).\n",
    "\n",
    "Copy the following code into a Python script and run it…"
   ],
   "attachments": {
    "./build/default/static/images/week3/mordellcurves.png": {
     "image/png": "[encoded data removed]"
    }
   }
  },
  {
   "cell_type": "code",
   "execution_count": null,
   "metadata": {},
   "outputs": [],
   "source": [
    "# If your nmax is too big put your cursor in the\n",
    "# console and use CTRL-C to stop execution!\n",
    "\n",
    "import time\n",
    "import numpy as np\n",
    "\n",
    "# Size of vector\n",
    "nmax = 1000000;\n",
    "\n",
    "# Test using for loop\n",
    "print(\"Testing for loop\")\n",
    "start = time.time()  \n",
    "x = np.zeros(nmax)\n",
    "for n in np.arange(nmax):\n",
    "    x[n] = n**3+n**2+n\n",
    "    \n",
    "end = time.time()\n",
    "print(end-start)\n",
    "\n",
    "# Test using vector arithmetic\n",
    "print(\"Testing vector arithmetic\")\n",
    "start = time.time()      \n",
    "n = np.arange(nmax)\n",
    "x = n**3+n**2+n\n",
    "end = time.time()\n",
    "print(end-start)"
   ]
  },
  {
   "cell_type": "markdown",
   "metadata": {},
   "source": [
    "Which was fastest, vector arithmetic or a for loop? If neither took too\n",
    "long then add a zero to `nmax`. Be careful not to kill your machine\n",
    "though (see useful hint at the top of the script)!\n",
    "\n",
    "Functions\n",
    "=========\n",
    "\n",
    "Python makes it possible to write your own functions, which take some\n",
    "input and return a value or values, in just the same way as Python’s\n",
    "built-in functions. This helps to keep your Python code as modular as\n",
    "possible.\n",
    "\n",
    "The syntax for creating a function is as follows:"
   ]
  },
  {
   "cell_type": "code",
   "execution_count": null,
   "metadata": {},
   "outputs": [],
   "source": [
    "def my_func():\n",
    "    print(\"My function prints this\")"
   ]
  },
  {
   "cell_type": "markdown",
   "metadata": {},
   "source": [
    "Note a similar syntax as for control flow: the function begins with the\n",
    "keyword `def` and then the function name “my\\_func”. This is followd by\n",
    "input arguments inside brackets - for this function there are none, and\n",
    "finally a colon. The contents of the function are then indented.\n",
    "\n",
    "We can call the function with"
   ]
  },
  {
   "cell_type": "code",
   "execution_count": null,
   "metadata": {},
   "outputs": [],
   "source": [
    "my_func()"
   ]
  },
  {
   "cell_type": "markdown",
   "metadata": {},
   "source": [
    "either from the same file or the Console.\n",
    "\n",
    "Now let’s add an input parameter to our function and a more descriptive\n",
    "name:"
   ]
  },
  {
   "cell_type": "code",
   "execution_count": null,
   "metadata": {},
   "outputs": [],
   "source": [
    "def cuddle(animal):\n",
    "    print(\"I would like to cuddle a \" + animal)\n",
    "\n",
    "cuddle(\"koala\")\n",
    "cuddle(\"panda\")\n",
    "cuddle(\"sun bear\")"
   ]
  },
  {
   "cell_type": "markdown",
   "metadata": {},
   "source": [
    "Did I mention that I like bears?\n",
    "\n",
    "We can also set a default value by using parameter = … in the\n",
    "parentheses. This default is used if the input parameter is not set."
   ]
  },
  {
   "cell_type": "code",
   "execution_count": null,
   "metadata": {},
   "outputs": [],
   "source": [
    "def cuddle(animal = \"bear\"):\n",
    "    print(\"I would like to cuddle a \" + animal)\n",
    "\n",
    "cuddle(\"koala\")\n",
    "cuddle(\"panda\")\n",
    "cuddle(\"sun bear\")\n",
    "cuddle()"
   ]
  },
  {
   "cell_type": "markdown",
   "metadata": {},
   "source": [
    "Any data type can be sent to a function. Here’s a list, with a for loop\n",
    "to print each value - pay careful attention to the indenting:"
   ]
  },
  {
   "cell_type": "code",
   "execution_count": null,
   "metadata": {},
   "outputs": [],
   "source": [
    "def print_my_list(list):\n",
    "    for x in list:\n",
    "        print(x)\n",
    "\n",
    "print_my_list([1,5,2,6])"
   ]
  },
  {
   "cell_type": "markdown",
   "metadata": {},
   "source": [
    "And a simple one with a number"
   ]
  },
  {
   "cell_type": "code",
   "execution_count": null,
   "metadata": {},
   "outputs": [],
   "source": [
    "def square_a_number(x):\n",
    "    print(x**2)\n",
    "\n",
    "square_a_number(2)"
   ]
  },
  {
   "cell_type": "markdown",
   "metadata": {},
   "source": [
    "All of the above examples print something. The functions we have been\n",
    "using however return a value which can be assigned to a variable. For\n",
    "example at the moment this does not do what we might like"
   ]
  },
  {
   "cell_type": "code",
   "execution_count": null,
   "metadata": {},
   "outputs": [],
   "source": [
    "x = square_a_number(2)"
   ]
  },
  {
   "cell_type": "markdown",
   "metadata": {},
   "source": [
    "To return a value (or values) from a function we need to use a `return`\n",
    "statement. This is done as follows:"
   ]
  },
  {
   "cell_type": "code",
   "execution_count": null,
   "metadata": {},
   "outputs": [],
   "source": [
    "def square_a_number(x):\n",
    "    return x**2\n",
    "\n",
    "x = square_a_number(5)\n",
    "print(x)"
   ]
  },
  {
   "cell_type": "markdown",
   "metadata": {},
   "source": [
    "Note that the `x` in the function argument and the `x` outside the\n",
    "function are completely unrelated. This is known as the scope of a\n",
    "variable.\n",
    "\n",
    "Now let’s extend this by accepting two input arguments:"
   ]
  },
  {
   "cell_type": "code",
   "execution_count": null,
   "metadata": {},
   "outputs": [],
   "source": [
    "def show_me_the_bigger(a,b):\n",
    "    print(max([a,b]))\n",
    "\n",
    "show_me_the_bigger(4,5)"
   ]
  },
  {
   "cell_type": "markdown",
   "metadata": {},
   "source": [
    "### Exercise 3.3\n",
    "\n",
    "Write a function called `cube_and_add` that takes in $x$ and $y$ and\n",
    "returns $x^3+y^3$. Test your function with"
   ]
  },
  {
   "cell_type": "code",
   "execution_count": null,
   "metadata": {},
   "outputs": [],
   "source": [
    "cube_and_add(3,5)\n",
    "cube_and_add(np.arange(3),np.arange(3))"
   ]
  },
  {
   "cell_type": "markdown",
   "metadata": {},
   "source": [
    "### Exercise 3.4\n",
    "\n",
    "Extend what you did in exercise 3.2 by writing a function called\n",
    "`diceroll` which returns the total result of rolling $n$ dice (the\n",
    "function takes in `n`, simulates the roll of $n$ dice and returns the\n",
    "total of the dice faces).\n",
    "\n",
    "Complete the code below to make a histogram of 100 rolls of 3 dice:"
   ]
  },
  {
   "cell_type": "code",
   "execution_count": null,
   "metadata": {},
   "outputs": [],
   "source": [
    "import matplotlib.pyplot as plt\n",
    "import numpy as np\n",
    "\n",
    "def dice(n):\n",
    "    # fill this in with your function (I suggest a for loop)\n",
    "    \n",
    "# store the results in a vector \n",
    "results = np.zeros(100)\n",
    "for i in range(100):\n",
    "    results[i] = dice(3)\n",
    "\n",
    "# plot results\n",
    "plt.hist(results)"
   ]
  },
  {
   "cell_type": "markdown",
   "metadata": {},
   "source": [
    "### Error messages\n",
    "\n",
    "Just like built in functions, you might like to raise an error in your\n",
    "function this can be do through `raise Exception()`"
   ]
  },
  {
   "cell_type": "code",
   "execution_count": null,
   "metadata": {},
   "outputs": [],
   "source": [
    "def cuddle(animal = \"bear\"):\n",
    "    \n",
    "    # Raise an error if input not a string\n",
    "    if not isinstance(animal, str):\n",
    "        raise Exception(\"input argument animal should be a string\")\n",
    "        \n",
    "    print(\"I would like to cuddle a \" + animal)\n",
    "\n",
    "\n",
    "# Test the function\n",
    "cuddle(\"koala\")\n",
    "cuddle()\n",
    "cuddle(3)"
   ]
  },
  {
   "cell_type": "markdown",
   "metadata": {},
   "source": [
    "### Try and except\n",
    "\n",
    "The try and except block is used to catch and handle exceptions. Python\n",
    "executes code following the try statement, and if there is an exception\n",
    "then the code that follows the except statement is executed."
   ]
  },
  {
   "cell_type": "code",
   "execution_count": null,
   "metadata": {},
   "outputs": [],
   "source": [
    "def cuddle(animal = \"bear\"):  \n",
    "    try:\n",
    "        print(\"I would like to cuddle a \" + animal)\n",
    "    except:\n",
    "        print(\"Nothing was cuddled. Possibly non-string input?\")\n",
    "    \n",
    "    \n",
    "cuddle(\"koala\")\n",
    "cuddle()\n",
    "cuddle(3)"
   ]
  },
  {
   "cell_type": "markdown",
   "metadata": {},
   "source": [
    "### Exercise 3.5\\*\n",
    "\n",
    "<a href=\"https://en.wikipedia.org/wiki/Bh%C4%81skara_I\" target=\"_blank\">Bhaskara I</a>\n",
    "was an Indian mathematician and astronomer around in the 7th century. He\n",
    "came up with this brilliant approximation for sine:\n",
    "\n",
    "$$ \\sin x\\approx {\\frac {16x(\\pi -x)}{5\\pi ^{2}-4x(\\pi -x)}} $$\n",
    "\n",
    "where $x$ is in radians.\n",
    "\n",
    "-   Write a function in its own file which takes in an angle $x$ and\n",
    "    returns the value of the approximation.\n",
    "\n",
    "-   Make a plot of Bhaskara’s approximation as a function of x, on the\n",
    "    same axes as `np.sin()`. In what range is the approximation\n",
    "    reasonable?\n",
    "\n",
    "-   Write a separate function which takes two values as input - an exact\n",
    "    and approximate value - and returns the\n",
    "    <a href=\"https://sciencenotes.org/calculate-percent-error/\" target=\"_blank\">percentage error</a>.\n",
    "    Use your function to make a plot of the percentage error in the\n",
    "    above range.\n",
    "\n",
    "### Exercise 3.6\n",
    "\n",
    "Finally, here’s another exercise, in case you’re all finished. I’ll go\n",
    "through this one at the next lecture. Don’t hand in this one!\n",
    "\n",
    "The Basel problem, first posed by Pietro Mengoli in 1644, asks for the\n",
    "summation of the reciprocals of the squares of the natural numbers…\n",
    "\n",
    "$$ \\sum _{n=1}^{\\infty }{\\frac {1}{n^{2}}}={\\frac {1}{1^{2}}}+{\\frac {1}{2^{2}}}+{\\frac {1}{3^{2}}}+\\cdots $$\n",
    "\n",
    "In 1734, Leonhard Euler found that the exact sum has the value\n",
    "$\\pi^2/6$.\n",
    "\n",
    "Use a for loop to store the value of the series for each of the first\n",
    "200 iterations and plot the values to demonstrate that they approach\n",
    "Euler’s solution."
   ]
  }
 ],
 "nbformat": 4,
 "nbformat_minor": 5,
 "metadata": {}
}

