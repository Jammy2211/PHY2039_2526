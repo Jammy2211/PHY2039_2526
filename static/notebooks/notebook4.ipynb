{
 "cells": [
  {
   "cell_type": "markdown",
   "metadata": {},
   "source": [
    "MAS1801 Python Practical 4\n",
    "==========================\n",
    "\n",
    "Welcome to the handout for the fourth week of Python material.\n",
    "\n",
    "#### To Hand in this week:\n",
    "\n",
    "-   Exercise 4.3\n",
    "\n",
    "Recap on last week\n",
    "------------------\n",
    "\n",
    "Last week we looked at creating functions in Python. For example"
   ]
  },
  {
   "cell_type": "code",
   "execution_count": null,
   "metadata": {},
   "outputs": [],
   "source": [
    "def add_numbers(x,y):\n",
    "    return (x+y)\n",
    "\n",
    "def sub_numbers(x,y):\n",
    "    return (x-y)\n",
    "\n",
    "def return_biggest(x,y):\n",
    "    return max([x,y])"
   ]
  },
  {
   "cell_type": "markdown",
   "metadata": {},
   "source": [
    "and called them with, for example"
   ]
  },
  {
   "cell_type": "code",
   "execution_count": null,
   "metadata": {},
   "outputs": [],
   "source": [
    "add_numbers(2,4)\n",
    "sub_numbers(2,4)\n",
    "return_biggest(2,4)"
   ]
  },
  {
   "cell_type": "markdown",
   "metadata": {},
   "source": [
    "These are clearly ridiculous examples, but that’s OK for now as we’re\n",
    "going to use them to illustrate how to set up your own Python modules.\n",
    "\n",
    "Modules\n",
    "-------\n",
    "\n",
    "A module, essentially, is just a bunch of Python code. The point of them\n",
    "is that they (as you might expect) allow you to make your code very\n",
    "modular.\n",
    "\n",
    "So lets say that we want to re-use those three functions above. Let’s\n",
    "place them inside a module and then show how they can be called by\n",
    "importing from another Python script, in the same way as we import\n",
    "modules like numpy and matplotlib.\n",
    "\n",
    "Place the following into a blank file and save it with some sort of\n",
    "sensible filename. I’m going to call my file *my\\_maths.py*"
   ]
  },
  {
   "cell_type": "code",
   "execution_count": null,
   "metadata": {},
   "outputs": [],
   "source": [
    "# Contents of the file my_maths.py\n",
    "\n",
    "def add_numbers(x,y):\n",
    "    return (x+y)\n",
    "\n",
    "def sub_numbers(x,y):\n",
    "    return (x-y)\n",
    "\n",
    "def return_biggest(x,y):\n",
    "    return max([x,y])"
   ]
  },
  {
   "cell_type": "markdown",
   "metadata": {},
   "source": [
    "### Python’s search path\n",
    "\n",
    "Before we continue, we need to talk about the concept of Python’s\n",
    "*path*. The path is the place that Python searches to find modules. It\n",
    "searches the following:\n",
    "\n",
    "-   the directory where your current script is (the working directory)\n",
    "-   some standard locations specified by the installation\n",
    "-   some other locations that might have been added by the user\n",
    "\n",
    "You can view the places Python looks with the command `sys.path`"
   ]
  },
  {
   "cell_type": "code",
   "execution_count": null,
   "metadata": {},
   "outputs": [],
   "source": [
    "import sys\n",
    "sys.path"
   ]
  },
  {
   "cell_type": "markdown",
   "metadata": {},
   "source": [
    "Note that this won’t list your current directory (it will figure this\n",
    "out on the fly).\n",
    "\n",
    "The easiest way to work with modules to get started is to have your\n",
    "module file and the file you are using to import the module in the same\n",
    "directory. We’ll do that here.\n",
    "\n",
    "### Importing your module\n",
    "\n",
    "So I now have a file *my\\_maths.py*. **In the same directory** start a\n",
    "new blank file and place the following command into it"
   ]
  },
  {
   "cell_type": "code",
   "execution_count": null,
   "metadata": {},
   "outputs": [],
   "source": [
    "# This is my new file\n",
    "import my_maths\n",
    "print(my_maths.add_numbers(2,5))"
   ]
  },
  {
   "cell_type": "markdown",
   "metadata": {},
   "source": [
    "Even better, let’s add a shorthand for our module as we did with `np`\n",
    "and `plt`."
   ]
  },
  {
   "cell_type": "code",
   "execution_count": null,
   "metadata": {},
   "outputs": [],
   "source": [
    "# This is my new file\n",
    "import my_maths as mym\n",
    "print(mym.add_numbers(2,5))"
   ]
  },
  {
   "cell_type": "markdown",
   "metadata": {},
   "source": [
    "That’s great. In the console the following will display the contents of\n",
    "our module"
   ]
  },
  {
   "cell_type": "code",
   "execution_count": null,
   "metadata": {},
   "outputs": [],
   "source": [
    "dir(mym)"
   ]
  },
  {
   "cell_type": "markdown",
   "metadata": {},
   "source": [
    "You’ll notice there’s a few built in things and then the functions that\n",
    "we defined.\n",
    "\n",
    "Let’s do some more:"
   ]
  },
  {
   "cell_type": "code",
   "execution_count": null,
   "metadata": {},
   "outputs": [],
   "source": [
    "print(mym.return_biggest(2,5))\n",
    "print(mym.sub_numbers(2,5))"
   ]
  },
  {
   "cell_type": "markdown",
   "metadata": {},
   "source": [
    "It’s not just functions that can go in your module. Modify your module\n",
    "and define a variable called `magic_number` - assign your favourite\n",
    "number to it. Mine is 27."
   ]
  },
  {
   "cell_type": "code",
   "execution_count": null,
   "metadata": {},
   "outputs": [],
   "source": [
    "# Contents of the file my_maths.py\n",
    "\n",
    "def add_numbers(x,y):\n",
    "    return (x+y)\n",
    "\n",
    "def sub_numbers(x,y):\n",
    "    return (x-y)\n",
    "\n",
    "def return_biggest(x,y):\n",
    "    return max([x,y])\n",
    "\n",
    "magic_number = 27"
   ]
  },
  {
   "cell_type": "markdown",
   "metadata": {},
   "source": [
    "Then in your new file (or the Console)"
   ]
  },
  {
   "cell_type": "code",
   "execution_count": null,
   "metadata": {},
   "outputs": [],
   "source": [
    "print(mym.magic_number)"
   ]
  },
  {
   "cell_type": "markdown",
   "metadata": {},
   "source": [
    "Let’s add something a bit more extensive. I’m going to import matplotlib\n",
    "and numpy at the top of my module"
   ]
  },
  {
   "cell_type": "code",
   "execution_count": null,
   "metadata": {},
   "outputs": [],
   "source": [
    "import matplotlib.pyplot as plt\n",
    "import numpy as np"
   ]
  },
  {
   "cell_type": "markdown",
   "metadata": {},
   "source": [
    "and include a function to plot a family of curves"
   ]
  },
  {
   "cell_type": "code",
   "execution_count": null,
   "metadata": {},
   "outputs": [],
   "source": [
    "def plot_family(n,m):\n",
    "    x = np.linspace(-2,2,100)\n",
    "    for i in range(-m,m+1):\n",
    "        plt.plot(x,x**n+i)\n",
    "        \n",
    "    plt.show()"
   ]
  },
  {
   "cell_type": "code",
   "execution_count": null,
   "metadata": {},
   "outputs": [],
   "source": [
    "# Contents of the file my_maths.py\n",
    "\n",
    "import matplotlib.pyplot as plt\n",
    "import numpy as np\n",
    "\n",
    "def add_numbers(x,y):\n",
    "    return (x+y)\n",
    "\n",
    "def sub_numbers(x,y):\n",
    "    return (x-y)\n",
    "\n",
    "def return_biggest(x,y):\n",
    "    return max([x,y])\n",
    "\n",
    "magic_number = 27\n",
    "\n",
    "def plot_family(n,m):\n",
    "    \"\"\"\n",
    "    plot_family plots the family of curves x^n+i for i between -m and m\n",
    "    \"\"\"\n",
    "    x = np.linspace(-2,2,100)\n",
    "    for i in range(-m,m+1):\n",
    "        plt.plot(x,x**n+i)\n",
    "        \n",
    "    plt.show()\n"
   ]
  },
  {
   "cell_type": "code",
   "execution_count": null,
   "metadata": {},
   "outputs": [],
   "source": [
    "mym.plot_family(2,4)\n",
    "mym.plot_family(3,4)"
   ]
  },
  {
   "cell_type": "markdown",
   "metadata": {},
   "source": [
    "Yes, it’s still a little silly, but you have to admit that’s pretty\n",
    "cool!\n",
    "\n",
    "### Adding help to functions and modules\n",
    "\n",
    "If you are going to have large files full of functions and other stuff\n",
    "then you will quickly forget what everything does. A so-called\n",
    "*docstring* at the start of a function or modulewill act as its help."
   ]
  },
  {
   "cell_type": "code",
   "execution_count": null,
   "metadata": {},
   "outputs": [],
   "source": [
    "def plot_family(n,m):\n",
    "    \"\"\"\n",
    "    plot_family plots the family of curves x^n + i for i between -m and m\n",
    "    \"\"\"\n",
    "    x = np.linspace(-2,2,100)\n",
    "    for i in range(-m,m+1):\n",
    "        plt.plot(x,x**n+i)\n",
    "        \n",
    "    plt.show()"
   ]
  },
  {
   "cell_type": "code",
   "execution_count": null,
   "metadata": {},
   "outputs": [],
   "source": [
    "help(mym.plot_family)"
   ]
  },
  {
   "cell_type": "markdown",
   "metadata": {},
   "source": [
    "Let’s add that to every function and also add a docstring as the first\n",
    "line in the module. This is my new *my\\_maths.py*"
   ]
  },
  {
   "cell_type": "code",
   "execution_count": null,
   "metadata": {},
   "outputs": [],
   "source": [
    "\"\"\"\n",
    "Module containing ridiculous maths stuff\n",
    "\"\"\"\n",
    "\n",
    "import matplotlib.pyplot as plt\n",
    "import numpy as np\n",
    "\n",
    "def add_numbers(x,y):\n",
    "    \"\"\"Add numbers x and y\"\"\"\n",
    "    return (x+y)\n",
    "\n",
    "def sub_numbers(x,y):\n",
    "    \"\"\"Subtract y from x\"\"\"\n",
    "    return (x-y)\n",
    "\n",
    "def return_biggest(x,y):\n",
    "    \"\"\"Return the max of x and y\"\"\"\n",
    "    return max([x,y])\n",
    "\n",
    "magic_number = 27\n",
    "\n",
    "def plot_family(n,m):\n",
    "    \"\"\"\n",
    "    plot_family plots the family of curves x^n+i for i between -m and m\n",
    "    \"\"\"\n",
    "    x = np.linspace(-2,2,100)\n",
    "    for i in range(-m,m+1):\n",
    "        plt.plot(x,x**n+i)\n",
    "        \n",
    "    plt.show()"
   ]
  },
  {
   "cell_type": "markdown",
   "metadata": {},
   "source": [
    "If I reload the module and run the help for the module itself I get"
   ]
  },
  {
   "cell_type": "code",
   "execution_count": null,
   "metadata": {
    "data-code-dir": "input",
    "data-gutter-symbol": ">>>"
   },
   "outputs": [],
   "source": [
    "import my_maths as mym"
   ]
  },
  {
   "cell_type": "code",
   "execution_count": null,
   "metadata": {
    "data-code-dir": "output"
   },
   "outputs": [],
   "source": [
    "Help on module my_maths:\n",
    "\n",
    "NAME\n",
    "    my_maths - Module containing ridiculous maths stuff\n",
    "\n",
    "FUNCTIONS\n",
    "    add_numbers(x, y)\n",
    "        Add numbers x and y\n",
    "    \n",
    "    plot_family(n, m)\n",
    "        plot_family plots the family of curves x^n+i for i between -m and m\n",
    "    \n",
    "    return_biggest(x, y)\n",
    "        Return the max of x and y\n",
    "    \n",
    "    sub_numbers(x, y)\n",
    "        Subtract y from x\n",
    "\n",
    "DATA\n",
    "    magic_number = 27\n",
    "\n",
    "FILE\n",
    "    /Users/chris/.../my_maths.py"
   ]
  },
  {
   "cell_type": "markdown",
   "metadata": {},
   "source": [
    "Exercise 4.1 {.exercise}\n",
    "\n",
    "Write your own module called “sequences” in a file *sequences.py* which\n",
    "contains some functions to return some common integer sequences. I’ll\n",
    "give you one for your module which is quite tricky (have a read through\n",
    "and try to follow it) and then I’ll suggest some easier ones for you to\n",
    "add:"
   ]
  },
  {
   "cell_type": "code",
   "execution_count": null,
   "metadata": {},
   "outputs": [],
   "source": [
    "\"\"\"\n",
    "Add your own cool info about your module here\n",
    "\"\"\"\n",
    "\n",
    "import numpy as np\n",
    "\n",
    "def fibonacci(n):\n",
    "    \"\"\"\n",
    "    print n values from the fibonacci sequence\n",
    "    \"\"\"\n",
    "    f = np.zeros(n, dtype=int)   # initialise a vector for f\n",
    "    \n",
    "    if n > 0:\n",
    "        f[0] = 0\n",
    "    if n > 1:\n",
    "        f[1] = 1\n",
    "    if n > 2:\n",
    "        for i in range(2,n):\n",
    "            f[i] = f[i-2] + f[i-1]\n",
    "        \n",
    "    print(f)"
   ]
  },
  {
   "cell_type": "markdown",
   "metadata": {},
   "source": [
    "Then I can do"
   ]
  },
  {
   "cell_type": "code",
   "execution_count": null,
   "metadata": {},
   "outputs": [],
   "source": [
    "import sequences as sq\n",
    "sq.fibonacci(10)"
   ]
  },
  {
   "cell_type": "markdown",
   "metadata": {},
   "source": [
    "Add the following sequences to your module, each one with some help.\n",
    "\n",
    "-   the triangular numbers $x_n = n(n+1)/2$\n",
    "\n",
    "-   square numbers $x_n = n^2$\n",
    "\n",
    "-   cube numbers $x_n = n^3$\n",
    "\n",
    "-   Lucas sequence (as for Fibonacci but with different seed - see\n",
    "    [Wikipedia](https://en.wikipedia.org/wiki/Lucas_number) and modify\n",
    "    my function!).\n",
    "\n",
    "Python Classes\n",
    "--------------\n",
    "\n",
    "The purpose of the functions and module above is very clear: rather than\n",
    "code up a sequence from scratch in the future, we can re-use code that\n",
    "is already written. And we have a place where similar functions are kept\n",
    "together.\n",
    "\n",
    "*(Text below borrowed from\n",
    "https://en.wikibooks.org/wiki/A\\_Beginner%27s\\_Python\\_Tutorial/Classes)*\n",
    "\n",
    "\"Of course, functions have their limitations. Functions don’t store any\n",
    "information like variables do - every time a function is run, it starts\n",
    "afresh. However, certain functions and variables are related to each\n",
    "other very closely, and need to interact with each other a lot. For\n",
    "example, imagine you have a golf club. It has information about it\n",
    "(i.e. variables) like the length of the shaft, the material of the grip,\n",
    "and the material of the head. It also has functions associated with it,\n",
    "like the function of swinging your golf club, or the function of\n",
    "breaking it in pure frustration. For those functions, you need to know\n",
    "the variables of the shaft length, head material, etc.\n",
    "\n",
    "That can easily be worked around with normal functions. Parameters\n",
    "affect the effect of a function. But what if a function needs to affect\n",
    "variables? What happens if each time you use your golf club, the shaft\n",
    "gets weaker, the grip on the handle wears away a little, you get that\n",
    "little more frustrated, and a new scratch is formed on the head of the\n",
    "club? A function cannot do that. A function only makes one output, not\n",
    "four or five, or five hundred. What is needed is a way to group\n",
    "functions and variables that are closely related into one place so that\n",
    "they can interact with each other.\n",
    "\n",
    "Chances are that you also have more than one golf club. Without classes,\n",
    "you need to write a whole heap of code for each different golf club.\n",
    "This is a pain, seeing that all clubs share common features, it is just\n",
    "that some have changed properties - like what the shaft is made of, and\n",
    "its weight. The ideal situation would be to have a design of your basic\n",
    "golf club. Each time you create a new club, simply specify its\n",
    "attributes - the length of its shaft, its weight, etc.\n",
    "\n",
    "Or what if you want a golf club, which has added extra features? Maybe\n",
    "you decide to attach a clock to your golf club (why, I don’t know - it\n",
    "was your idea). Does this mean that we have to create this golf club\n",
    "from scratch? We would have to write code first for our basic golf club,\n",
    "plus all of that again, and the code for the clock, for our new design.\n",
    "Wouldn’t it be better if we were to just take our existing golf club,\n",
    "and then tack the code for the clock to it?\n",
    "\n",
    "These problems are what a thing called object-oriented-programming\n",
    "solves. It puts functions and variables together in a way that they can\n",
    "see each other and work together, be replicated, and altered as needed,\n",
    "and not when unneeded. And we use a thing called a ‘class’ to do this.\"\n",
    "\n",
    "### Using classes\n",
    "\n",
    "We’ve actually already used classes earlier in the course. When we\n",
    "create an object `x` like this"
   ]
  },
  {
   "cell_type": "code",
   "execution_count": null,
   "metadata": {},
   "outputs": [],
   "source": [
    "x =[2,6,1,7,2,2,4,2]"
   ]
  },
  {
   "cell_type": "markdown",
   "metadata": {},
   "source": [
    "We are creating an object with the class “list”. You can see this with\n",
    "the slightly weird looking command"
   ]
  },
  {
   "cell_type": "code",
   "execution_count": null,
   "metadata": {},
   "outputs": [],
   "source": [
    "x.__class__"
   ]
  },
  {
   "cell_type": "markdown",
   "metadata": {},
   "source": [
    "functions encapsulated in underscores `__something__` are functions that\n",
    "are special to Python.\n",
    "\n",
    "A class is a description - a blueprint if you like - for how the object\n",
    "will be created and what functions and variables might go with it. In\n",
    "setting up `x`, Python has used this blueprint to create the object and\n",
    "give us access to what are called *methods* appropriate to this type of\n",
    "object. We’ve seen some of these already:"
   ]
  },
  {
   "cell_type": "code",
   "execution_count": null,
   "metadata": {},
   "outputs": [],
   "source": [
    "x.reverse()"
   ]
  },
  {
   "cell_type": "markdown",
   "metadata": {},
   "source": [
    "which reverses the list’s order. Or"
   ]
  },
  {
   "cell_type": "code",
   "execution_count": null,
   "metadata": {},
   "outputs": [],
   "source": [
    "x.sort()"
   ]
  },
  {
   "cell_type": "markdown",
   "metadata": {},
   "source": [
    "which sorts the list."
   ]
  },
  {
   "cell_type": "code",
   "execution_count": null,
   "metadata": {},
   "outputs": [],
   "source": [
    "x.count(2)  # The number of times 2 appears in the list"
   ]
  },
  {
   "cell_type": "markdown",
   "metadata": {},
   "source": [
    "You can see more with"
   ]
  },
  {
   "cell_type": "code",
   "execution_count": null,
   "metadata": {},
   "outputs": [],
   "source": [
    "dir(x)"
   ]
  },
  {
   "cell_type": "markdown",
   "metadata": {},
   "source": [
    "### Creating a class\n",
    "\n",
    "We’re going to work through an example creating a class that we will\n",
    "call “Rectangle”. It’s going to be a blueprint for creating - you\n",
    "guessed it - a rectangle!\n",
    "\n",
    "The class is set up a little bit like a function and starts with a\n",
    "command like"
   ]
  },
  {
   "cell_type": "code",
   "execution_count": null,
   "metadata": {},
   "outputs": [],
   "source": [
    "class Rectangle: "
   ]
  },
  {
   "cell_type": "markdown",
   "metadata": {},
   "source": [
    "The first thing to do is to describe what happens when an object is\n",
    "created using this class. This is done using some of that special\n",
    "underscore notation we saw a little earlier: a special function called\n",
    "**init**"
   ]
  },
  {
   "cell_type": "code",
   "execution_count": null,
   "metadata": {},
   "outputs": [],
   "source": [
    "class Rectangle: \n",
    "\n",
    "    def __init__(self, x, y):\n",
    "        self.x = x\n",
    "        self.y = y"
   ]
  },
  {
   "cell_type": "markdown",
   "metadata": {},
   "source": [
    "The class refers to its own object as `self` and the init function sets\n",
    "properties x and y when an object is created.\n",
    "\n",
    "The class is called with, for example"
   ]
  },
  {
   "cell_type": "code",
   "execution_count": null,
   "metadata": {},
   "outputs": [],
   "source": [
    "r = Rectangle(2,3)"
   ]
  },
  {
   "cell_type": "markdown",
   "metadata": {},
   "source": [
    "This creates an object `r` of class “Rectangle”.\n",
    "\n",
    "Note that `r` is not a number, it is not a list, or any other type of\n",
    "object that Python recognises. It’s a Rectangle - your own type of\n",
    "object!!"
   ]
  },
  {
   "cell_type": "code",
   "execution_count": null,
   "metadata": {},
   "outputs": [],
   "source": [
    "print(r)"
   ]
  },
  {
   "cell_type": "markdown",
   "metadata": {},
   "source": [
    "Just take that in for a second, it’s pretty cool! We can already do some\n",
    "stuff:"
   ]
  },
  {
   "cell_type": "code",
   "execution_count": null,
   "metadata": {},
   "outputs": [],
   "source": [
    "print(r.x)\n",
    "print(r.y)"
   ]
  },
  {
   "cell_type": "markdown",
   "metadata": {},
   "source": [
    "and we can see these “methods” with"
   ]
  },
  {
   "cell_type": "code",
   "execution_count": null,
   "metadata": {},
   "outputs": [],
   "source": [
    "dir(r)"
   ]
  },
  {
   "cell_type": "markdown",
   "metadata": {},
   "source": [
    "Now let’s get stuck in and add some other methods"
   ]
  },
  {
   "cell_type": "code",
   "execution_count": null,
   "metadata": {},
   "outputs": [],
   "source": [
    "# Define the class Rectangle\n",
    "class Rectangle: \n",
    "\n",
    "    def __init__(self, x, y):\n",
    "        self.x = x\n",
    "        self.y = y\n",
    "\n",
    "    def area(self):\n",
    "        return self.x * self.y\n"
   ]
  },
  {
   "cell_type": "code",
   "execution_count": null,
   "metadata": {},
   "outputs": [],
   "source": [
    "# Create a rectangle\n",
    "r = Rectangle(2,3)\n",
    "r.area()"
   ]
  },
  {
   "cell_type": "markdown",
   "metadata": {},
   "source": [
    "Notice that again the class refers to itself with `self`, so its own x\n",
    "attribute is referred to through `self.x`.\n",
    "\n",
    "Let’s add some more"
   ]
  },
  {
   "cell_type": "code",
   "execution_count": null,
   "metadata": {},
   "outputs": [],
   "source": [
    "# Define the class Rectangle\n",
    "class Rectangle: \n",
    "\n",
    "    def __init__(self, x, y):\n",
    "        self.x = x\n",
    "        self.y = y\n",
    "\n",
    "    def area(self):\n",
    "        return self.x * self.y\n",
    "\n",
    "    def perimeter(self):\n",
    "        return 2 * self.x + 2 * self.y\n",
    "\n",
    "    def is_square(self):\n",
    "        return (self.x == self.y)\n",
    "\n",
    "    def scale(self, s):\n",
    "        self.x *= s\n",
    "        self.y *= s"
   ]
  },
  {
   "cell_type": "code",
   "execution_count": null,
   "metadata": {},
   "outputs": [],
   "source": [
    "\n",
    "# Create a rectangle\n",
    "r = Rectangle(2,3)\n",
    "print(r.area())\n",
    "print(r.perimeter())\n",
    "print(r.is_square())\n",
    "\n",
    "r2 = Rectangle(2,2)\n",
    "print(r2.is_square())\n",
    "\n",
    "r2.scale(2)\n",
    "print(r2.x)\n",
    "print(r2.y)\n",
    "print(r2.area())"
   ]
  },
  {
   "cell_type": "markdown",
   "metadata": {},
   "source": [
    "So I now have methods to return the perimeter, area, dimensions of the\n",
    "rectangle, and a function which returns a boolean to tell us whether\n",
    "it’s a square. Finally let’s add another attribute to the `__init__`\n",
    "function"
   ]
  },
  {
   "cell_type": "code",
   "execution_count": null,
   "metadata": {},
   "outputs": [],
   "source": [
    "# Define the class Rectangle\n",
    "class Rectangle: \n",
    "\n",
    "    def __init__(self, x, y):\n",
    "        self.x = x\n",
    "        self.y = y\n",
    "        self.colour = \"y\"  # default colour yellow  \n",
    "\n",
    "...\n"
   ]
  },
  {
   "cell_type": "markdown",
   "metadata": {},
   "source": [
    "The new attribute is the rectangle’s colour (can you see where this is\n",
    "going?!). And we’ll add a method to set the colour"
   ]
  },
  {
   "cell_type": "code",
   "execution_count": null,
   "metadata": {},
   "outputs": [],
   "source": [
    "    ...\n",
    "\n",
    "    def set_colour(self, col):\n",
    "        self.colour = col\n",
    "    \n",
    "    ..."
   ]
  },
  {
   "cell_type": "markdown",
   "metadata": {},
   "source": [
    "And finally lets draw the rectangle! I’ve googled some commands to do\n",
    "so…"
   ]
  },
  {
   "cell_type": "code",
   "execution_count": null,
   "metadata": {},
   "outputs": [],
   "source": [
    "\n",
    "    def draw(self):\n",
    "        import matplotlib.pyplot as plt\n",
    "        import matplotlib.patches as patches\n",
    "        fig,ax = plt.subplots()\n",
    "        rect = patches.Rectangle((0,0), self.x, self.y, color=self.colour)\n",
    "        ax.add_patch(rect)\n",
    "        ax.set_xlim(0,self.x)\n",
    "        ax.set_ylim(0,self.y)\n",
    "        plt.show()\n"
   ]
  },
  {
   "cell_type": "markdown",
   "metadata": {},
   "source": [
    "The whole thing now looks like"
   ]
  },
  {
   "cell_type": "code",
   "execution_count": null,
   "metadata": {},
   "outputs": [],
   "source": [
    "\n",
    "class Rectangle: \n",
    "\n",
    "    def __init__(self, x, y):\n",
    "        self.x = x\n",
    "        self.y = y\n",
    "        self.colour = \"y\"  # default colour yellow  \n",
    "\n",
    "    def area(self):\n",
    "        return self.x * self.y\n",
    "\n",
    "    def perimeter(self):\n",
    "        return 2 * self.x + 2 * self.y\n",
    "\n",
    "    def is_square(self):\n",
    "        return (self.x == self.y)\n",
    "\n",
    "    def scale(self, s):\n",
    "        self.x *= s\n",
    "        self.y *= s\n",
    "        \n",
    "    def set_colour(self, col):\n",
    "        self.colour = col\n",
    "        \n",
    "    def draw(self):\n",
    "        import matplotlib.pyplot as plt\n",
    "        import matplotlib.patches as patches\n",
    "        fig,ax = plt.subplots()\n",
    "        rect = patches.Rectangle((0,0), self.x, self.y, color=self.colour)\n",
    "        ax.add_patch(rect)\n",
    "        ax.set_xlim(0,self.x)\n",
    "        ax.set_ylim(0,self.y)\n",
    "        plt.axis('equal')\n",
    "        plt.show()\n"
   ]
  },
  {
   "cell_type": "code",
   "execution_count": null,
   "metadata": {},
   "outputs": [],
   "source": [
    "r = Rectangle(2,6)\n",
    "r.draw()\n",
    "\n",
    "r = Rectangle(3,2)\n",
    "r.set_colour(\"r\")\n",
    "r.draw()"
   ]
  },
  {
   "cell_type": "markdown",
   "metadata": {},
   "source": [
    "### Exercise 4.2\n",
    "\n",
    "Move this class into its own file *shapes.py*. You should now be able to\n",
    "do"
   ]
  },
  {
   "cell_type": "code",
   "execution_count": null,
   "metadata": {},
   "outputs": [],
   "source": [
    "import shapes as sp\n",
    "\n",
    "r = sp.Rectangle(2,6)\n",
    "r.draw()"
   ]
  },
  {
   "cell_type": "markdown",
   "metadata": {},
   "source": [
    "### Exercise 4.3\n",
    "\n",
    "Inside the same file, copy the Rectangle class over to a Cuboid class.\n",
    "Add / modify the following methods:\n",
    "\n",
    "-   Change the init function so that a z dimension is also defined\n",
    "-   Change `area` to a `volume` method\n",
    "-   Remove `perimeter`\n",
    "-   Add a `surface_area` method\n",
    "-   Change `is_square` to `is_cube`\n",
    "\n",
    "(Optional)\n",
    "\n",
    "-   Do anything else that could be could be interesting\n",
    "-   Change the plot to plot a cuboid. You’ll need a good Google search -\n",
    "    try [this thread on Stack Overflow for\n",
    "    starters](https://stackoverflow.com/questions/49277753/python-matplotlib-plotting-cuboids?noredirect=1&lq=1)."
   ]
  }
 ],
 "nbformat": 4,
 "nbformat_minor": 5,
 "metadata": {}
}

