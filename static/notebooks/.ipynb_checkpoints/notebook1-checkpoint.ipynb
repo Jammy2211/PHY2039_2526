{
 "cells": [
  {
   "cell_type": "markdown",
   "metadata": {},
   "source": [
    "MAS1801 Python Practical 1\n",
    "==========================\n",
    "\n",
    "Welcome to the handout for the first week of Python material.\n",
    "\n",
    "#### To Hand in this week:\n",
    "\n",
    "Upload your solutions to:\n",
    "\n",
    "-   Exercise 1.8\n",
    "\n",
    "to NESS by midnight this **Sunday 18th Neverember**.\n",
    "<a href=\"../introduction_and_handouts/uploading_to_ness.html\" target=\"_blank\">Click here to view instructions on how to upload to NESS</a>.\n",
    "\n",
    "Using these handouts\n",
    "--------------------\n",
    "\n",
    "In the practical sessions you will be working through one of these\n",
    "(virtual) handouts. If you want a printable version then hit the link\n",
    "“Download chapter as PDF”.\n",
    "\n",
    "You might need some scrap paper for some of the exercises. If you don’t\n",
    "have any then let me know.\n",
    "\n",
    "You should try out commands: I suggest copying the bits of code like\n",
    "this one"
   ],
   "id": "f478a33b502c285c"
  },
  {
   "cell_type": "code",
   "execution_count": null,
   "metadata": {
    "data-code-dir": "input",
    "data-gutter-symbol": ">>>"
   },
   "outputs": [],
   "source": [
    "x = 2"
   ],
   "id": "3ef23ec7d12e5e98"
  },
  {
   "cell_type": "markdown",
   "metadata": {},
   "source": [
    "into the Spyder and exploring them by changing variables and so on. When\n",
    "you see text formatted like this: `x`, I am referring to variables or\n",
    "other bits of code.\n",
    "\n",
    "I suggest you set up your windows like this:\n",
    "\n",
    "\\*\\* pic/vid \\*\\*\n",
    "\n",
    "Whilst you are working through, I’ll wander round, as will my fab\n",
    "postgraduate helpers; just stick your hand up or give me a shout if\n",
    "you’d like any assistance. Don’t be afraid to ask questions, no matter\n",
    "how silly they might seem.\n",
    "\n",
    "My handouts have some items in them along the way. They go like this…\n",
    "\n",
    "### Interlude\n",
    "\n",
    "This is an interlude, which contains something either totally off-topic,\n",
    "usually not assessed and just there for a bit of fun. Yes, programming\n",
    "can be fun! :-)\n",
    "\n",
    "### Exercise\n",
    "\n",
    "This is an exercise. Sometimes there’ll be an answer, sometimes they are\n",
    "just to get you thinking. I’ll release solutions and comments for each\n",
    "of these next week. I suggest that you try them as you reach them in the\n",
    "notes and that you save your answers into a script file (which we’ll\n",
    "find out about later in this handout).\n",
    "\n",
    "### Exercise\\*\n",
    "\n",
    "This is an exercise that you need to hand in this week (there may be\n",
    "more than one, though not this week).\n",
    "\n",
    "Python and Spyder\n",
    "-----------------\n",
    "\n",
    "### About Python\n",
    "\n",
    "A bit of blurb to go in here\n",
    "\n",
    "We are going to be using the the integrated development environment\n",
    "(IDE) Spyder to run our Python code. Spyder is open source and\n",
    "cross-platform, so you can **insert link re installing on own machine**\n",
    "\n",
    "#### Python 2 and Python 3\n",
    "\n",
    "Quick explanation\n",
    "\n",
    "### Launching Spyder\n",
    "\n",
    "How to launch spyder\n",
    "\n",
    "### Spyder windows\n",
    "\n",
    "A bit of info about the various windows in Spyder\n",
    "\n",
    "<!-- Python as a calculator -->\n",
    "\n",
    "Python as a calculator\n",
    "----------------------\n",
    "\n",
    "The simplest way to use Python is to enter a command in the *Console*\n",
    "and allow Python to execute it and return the result. I’m showing you\n",
    "the command and output here, but feel free to copy and paste or write\n",
    "commands in Python to follow along. The *\\>\\>\\>* represents the Python\n",
    "prompt, which varies with IDE. Copy and paste, or enter, the code after\n",
    "the prompt into Spyder."
   ],
   "id": "6b54da646d7cf84c"
  },
  {
   "cell_type": "code",
   "execution_count": null,
   "metadata": {
    "data-code-dir": "input",
    "data-gutter-symbol": ">>>"
   },
   "outputs": [],
   "source": [
    "2+2"
   ],
   "id": "932aa4eaa8d347a9"
  },
  {
   "cell_type": "code",
   "execution_count": null,
   "metadata": {
    "data-code-dir": "input",
    "data-gutter-symbol": ">>>"
   },
   "outputs": [],
   "source": [
    "2/3"
   ],
   "id": "14fcb0d5deb9f9e0"
  },
  {
   "cell_type": "markdown",
   "metadata": {},
   "source": [
    "Note that you can access the value of any previous output using\n",
    "`Out[n]`. This is a little bit like the `Ans` on your calculator (well,\n",
    "on my calculator at least).\n",
    "\n",
    "<!-- Variable assignment -->\n",
    "\n",
    "Variable Assignment\n",
    "-------------------\n",
    "\n",
    "You can assign values to variables, in the Console again, we’re going to\n",
    "set a variable `x` equal to -3:"
   ],
   "id": "3422882caa2c56d3"
  },
  {
   "cell_type": "code",
   "execution_count": null,
   "metadata": {
    "data-code-dir": "input",
    "data-gutter-symbol": ">>>"
   },
   "outputs": [],
   "source": [
    "x = -3"
   ],
   "id": "1eda49656c52b974"
  },
  {
   "cell_type": "markdown",
   "metadata": {},
   "source": [
    "Note that Python is pretty quiet - it doesn’t make a lot of fuss. You\n",
    "can see that `x` has definitely been set in the *Variable explorer*, but\n",
    "if you want to display its value in the Console:"
   ],
   "id": "3652cbfea542701c"
  },
  {
   "cell_type": "code",
   "execution_count": null,
   "metadata": {
    "data-code-dir": "input",
    "data-gutter-symbol": ">>>"
   },
   "outputs": [],
   "source": [
    "x"
   ],
   "id": "907ca30c30c7a2ca"
  },
  {
   "cell_type": "markdown",
   "metadata": {},
   "source": [
    "or as we’ll do later from scripts using the funtion `print()`"
   ],
   "id": "b27e1483c584f481"
  },
  {
   "cell_type": "code",
   "execution_count": null,
   "metadata": {
    "data-code-dir": "input",
    "data-gutter-symbol": ">>>"
   },
   "outputs": [],
   "source": [
    "print(x)"
   ],
   "id": "8511c45f8585a67"
  },
  {
   "cell_type": "markdown",
   "metadata": {},
   "source": [
    "Let’s let $y=x^2$. This can be done like this:"
   ],
   "id": "64de5f90ce506f37"
  },
  {
   "cell_type": "code",
   "execution_count": null,
   "metadata": {
    "data-code-dir": "input",
    "data-gutter-symbol": ">>>"
   },
   "outputs": [],
   "source": [
    "y = x**2"
   ],
   "id": "8245d0235ee68ca2"
  },
  {
   "cell_type": "markdown",
   "metadata": {},
   "source": [
    "Take a look again at the *Variable explorer*. Here you can keep an eye\n",
    "on the type and value of variables.\n",
    "\n",
    "There are some rules to follow when naming and using variables:\n",
    "\n",
    "-   Python is case sensitive, so the variable `x` is not the same as\n",
    "    `X`.\n",
    "-   variable names can contain numbers, but cannot start with a number.\n",
    "-   variable names cannot contain spaces (however you can use an\n",
    "    underscore if you like).\n",
    "-   when we do more extensive code, descriptive variable names will help\n",
    "    when you come back to look at your code.\n",
    "\n",
    "### Arithmetic operators\n",
    "\n",
    "You might have expected to use `^` in place of `**`. Here are Python’s\n",
    "arithmetic operators in a useful table\n",
    "\n",
    "| Operator    | Example input | Example Output |\n",
    "|-------------|---------------|----------------|\n",
    "| \\+          | `2 + 2`       | 4              |\n",
    "| \\-          | `3 - 2`       | 1              |\n",
    "| \\*          | `2 * 3`       | 6              |\n",
    "| /           | `4 / 2`       | 2              |\n",
    "| \\*\\*        | `2 ** 3`      | 8              |\n",
    "| % (modulus) | `10 % 3`      | 1              |\n",
    "\n",
    "Go ahead and play around with some of these commands in the Console.\n",
    "\n",
    "\\*Note that an alternative to \\*\\* is the function `pow()`. Let’s talk\n",
    "about functions next, after an interlude…\n",
    "\n",
    "### Interlude 1.1\n",
    "\n",
    "You can use modular arithmetic to figure out if a year is a leap year\n",
    "(year divides by 4). Like next year:"
   ],
   "id": "6b6d14a8759a8c3"
  },
  {
   "cell_type": "code",
   "execution_count": null,
   "metadata": {
    "data-code-dir": "input",
    "data-gutter-symbol": ">>>"
   },
   "outputs": [],
   "source": [
    "2020 % 4"
   ],
   "id": "eaed5aa450f0b2d"
  },
  {
   "cell_type": "markdown",
   "metadata": {},
   "source": [
    "But did you also know that keeping our (Gregorian) calendar in line with\n",
    "the time required for the Earth to revolve about the Sun requires more\n",
    "correction than this? As an additional fix, a year that is divisible by\n",
    "100 is a leap year only if it is also divisible by 400. I won’t make it\n",
    "to 2100, but you might… and you may be surprised to find it isn’t a leap\n",
    "year. Off…topic…\n",
    "\n",
    "<!-- Using functions -->\n",
    "\n",
    "Using Functions\n",
    "---------------\n",
    "\n",
    "The function `pow` can also be used to square a number, or in fact to\n",
    "raise any number to a power."
   ],
   "id": "c41d566e60b11e17"
  },
  {
   "cell_type": "code",
   "execution_count": null,
   "metadata": {
    "data-code-dir": "input",
    "data-gutter-symbol": ">>>"
   },
   "outputs": [],
   "source": [
    "pow(x,2)"
   ],
   "id": "9795b72aa144036f"
  },
  {
   "cell_type": "code",
   "execution_count": null,
   "metadata": {
    "data-code-dir": "input",
    "data-gutter-symbol": ">>>"
   },
   "outputs": [],
   "source": [
    "pow(x,3)"
   ],
   "id": "efe7c93b64bfa6ca"
  },
  {
   "cell_type": "markdown",
   "metadata": {},
   "source": [
    "The function `pow()` is known as a built-in function - it is one that is\n",
    "part of Python’s standard library. To do more with Python we need to\n",
    "find out how to use more of these…\n",
    "\n",
    "Much like a mathematical function, a function on a computer takes some\n",
    "input, does some stuff and returns some output.\n",
    "\n",
    "In the command"
   ],
   "id": "ca8f728ce188159d"
  },
  {
   "cell_type": "code",
   "execution_count": null,
   "metadata": {
    "data-code-dir": "input",
    "data-gutter-symbol": ">>>"
   },
   "outputs": [],
   "source": [
    "pow(x, 2)"
   ],
   "id": "f32ccefdcc2cd629"
  },
  {
   "cell_type": "markdown",
   "metadata": {},
   "source": [
    "The `x` and `2` are the input *arguments* to the function. `pow()`\n",
    "computes $x^2$ and returns its value. The output from a function could\n",
    "be assigned to a new variable:"
   ],
   "id": "f2c07850a810560f"
  },
  {
   "cell_type": "code",
   "execution_count": null,
   "metadata": {
    "data-code-dir": "input",
    "data-gutter-symbol": ">>>"
   },
   "outputs": [],
   "source": [
    "y = pow(x, 2)"
   ],
   "id": "70d94dcf3a5f52ea"
  },
  {
   "cell_type": "markdown",
   "metadata": {},
   "source": [
    "Here are some functions that we’ll use from the Python standard library\n",
    "\n",
    "| function  | Description                                         |\n",
    "|:----------|:----------------------------------------------------|\n",
    "| `abs()`   | Return the absolute value of a number               |\n",
    "| `len()`   | Return the length of an object                      |\n",
    "| `max()`   | Find the largest value in a list or similar object  |\n",
    "| `min()`   | Find the smallest value in a list or similar object |\n",
    "| `print()` | Print the value of an object                        |\n",
    "| `round()` | Round a number to a specified precision             |\n",
    "| `sum()`   | Sum the values in a list or similar object          |\n",
    "\n",
    "Lets take a look at a couple of examples"
   ],
   "id": "faf744813240c6c4"
  },
  {
   "cell_type": "code",
   "execution_count": null,
   "metadata": {
    "data-code-dir": "input",
    "data-gutter-symbol": ">>>"
   },
   "outputs": [],
   "source": [
    "abs(-3)"
   ],
   "id": "7780a53803c272cc"
  },
  {
   "cell_type": "code",
   "execution_count": null,
   "metadata": {
    "data-code-dir": "input",
    "data-gutter-symbol": ">>>"
   },
   "outputs": [],
   "source": [
    "round(2.555,2)"
   ],
   "id": "ca0ee74f881a3d01"
  },
  {
   "cell_type": "markdown",
   "metadata": {},
   "source": [
    "So we can square a number, find its absolute value - good start - but as\n",
    "physicists we are going to want to do a lot more. We might expect to\n",
    "be able to do"
   ],
   "id": "7f1e69663dc236c2"
  },
  {
   "cell_type": "code",
   "execution_count": null,
   "metadata": {
    "data-code-dir": "input",
    "data-gutter-symbol": ">>>"
   },
   "outputs": [],
   "source": [
    "cos(0)"
   ],
   "id": "28d7bf3cb15dfad6"
  },
  {
   "cell_type": "markdown",
   "metadata": {},
   "source": [
    "But this returns an error message. Why? Python is very modular, and its\n",
    "standard library only contains common, but fairly limited functions.\n",
    "\n",
    "Getting help\n",
    "------------\n",
    "\n",
    "You can find out what a function does, and what it expects as input\n",
    "arguments using another function: `help`"
   ],
   "id": "6104f44c51bb7a76"
  },
  {
   "cell_type": "code",
   "execution_count": null,
   "metadata": {
    "data-code-dir": "input",
    "data-gutter-symbol": ">>>"
   },
   "outputs": [],
   "source": [
    "help(pow)"
   ],
   "id": "3affa1607c8ad9bf"
  },
  {
   "cell_type": "markdown",
   "metadata": {},
   "source": [
    "You can even do"
   ],
   "id": "f3b29337e9fd5a44"
  },
  {
   "cell_type": "code",
   "execution_count": null,
   "metadata": {
    "data-code-dir": "input",
    "data-gutter-symbol": ">>>"
   },
   "outputs": [],
   "source": [
    "help(help)"
   ],
   "id": "90ee1afdf02910bf"
  },
  {
   "cell_type": "markdown",
   "metadata": {},
   "source": [
    "if you like!\n",
    "\n",
    "There is an alternative interactive way of getting help in Spyder. Click\n",
    "on the Help tab on the right and you will prompted to explore your code\n",
    "using CTRL-I - this can be in the Console or the Editor window when we\n",
    "use that later. Move your cursor, say to the `print()` function a couple\n",
    "of commands ago, and press that button combination to get some nicely\n",
    "formatted information.\n",
    "\n",
    "\\*\\* animation here \\*\\*\n",
    "\n",
    "To get more information you can also consult the online documentation.\n",
    "Click on *Help* nad then *online documentation* and choose the *Python 3\n",
    "documentation* item.\n",
    "\n",
    "\\*\\* image or animation here \\*\\*\n",
    "\n",
    "Python modules\n",
    "--------------\n",
    "\n",
    "Modules are Python files which can contain function definitions (and\n",
    "possibly other stuff) that can be imported into your code. Later we will\n",
    "see how we can create our own modules, but for now we’ll learn how to\n",
    "import an existing one using the `import statement`. Try this out in the\n",
    "Editor:"
   ],
   "id": "42af54df9fcdff23"
  },
  {
   "cell_type": "code",
   "execution_count": null,
   "metadata": {
    "data-code-dir": "input",
    "data-gutter-symbol": ">>>"
   },
   "outputs": [],
   "source": [
    "import math"
   ],
   "id": "855c232b37609493"
  },
  {
   "cell_type": "markdown",
   "metadata": {},
   "source": [
    "This imports the `math` module and will be imported quietly\n",
    "(successfully). Try running the same command with a different name and\n",
    "you will see what happens when a module cannot be found by Python, e.g."
   ],
   "id": "ae5586f1e84de6c4"
  },
  {
   "cell_type": "code",
   "execution_count": null,
   "metadata": {
    "data-code-dir": "input",
    "data-gutter-symbol": ">>>"
   },
   "outputs": [],
   "source": [
    "import maths"
   ],
   "id": "38e2daa1788f80fe"
  },
  {
   "cell_type": "markdown",
   "metadata": {},
   "source": [
    "gives the error *ModuleNotFoundError: No module named ‘maths’*.\n",
    "\n",
    "Returning to our correct `math` module, the reference guide\n",
    "https://docs.code .python.org/3/library/math.html contains a full list\n",
    "of the functions and definitions contained in the `math` module and we\n",
    "note that there is a function `cos`."
   ],
   "id": "4f14e4af8b96ae95"
  },
  {
   "cell_type": "code",
   "execution_count": null,
   "metadata": {
    "data-code-dir": "input",
    "data-gutter-symbol": ">>>"
   },
   "outputs": [],
   "source": [
    "import math\n",
    "y = math.cos(0)"
   ],
   "id": "e9e2e86f96541b86"
  },
  {
   "cell_type": "markdown",
   "metadata": {},
   "source": [
    "Note the syntax to use the `cos` function from the `math` package. This\n",
    "is important, because there may be (are in fact any seond) other modules\n",
    "which also have a `cos` function.\n",
    "\n",
    "### The `numpy` module\n",
    "\n",
    "The *numpy* module declares itself “the fundamental package for\n",
    "scientific computing with Python”. It is a key module that we will use a\n",
    "lot.\n",
    "\n",
    "Load the module with"
   ],
   "id": "c3a0ef703b92275d"
  },
  {
   "cell_type": "code",
   "execution_count": null,
   "metadata": {
    "data-code-dir": "input",
    "data-gutter-symbol": ">>>"
   },
   "outputs": [],
   "source": [
    "import numpy"
   ],
   "id": "a0a71e7e56e451df"
  },
  {
   "cell_type": "markdown",
   "metadata": {},
   "source": [
    "Just like the `math` module it also has a `cos` function"
   ],
   "id": "3ca5dd05b5cdf4d0"
  },
  {
   "cell_type": "code",
   "execution_count": null,
   "metadata": {
    "data-code-dir": "input",
    "data-gutter-symbol": ">>>"
   },
   "outputs": [],
   "source": [
    "numpy.cos(0)"
   ],
   "id": "505b562daa4a3508"
  },
  {
   "cell_type": "markdown",
   "metadata": {},
   "source": [
    "And an awful lot more"
   ],
   "id": "12c07663faba1a02"
  },
  {
   "cell_type": "code",
   "execution_count": null,
   "metadata": {
    "data-code-dir": "input",
    "data-gutter-symbol": ">>>"
   },
   "outputs": [],
   "source": [
    "numpy.sqrt(numpy.pi)"
   ],
   "id": "d2e00215f40aad0e"
  },
  {
   "cell_type": "markdown",
   "metadata": {},
   "source": [
    "It’s pretty laborious writing out “numpy” every time you run a command,\n",
    "so Python has a shortcut. You can do this:"
   ],
   "id": "710c7af0064fe41c"
  },
  {
   "cell_type": "code",
   "execution_count": null,
   "metadata": {
    "data-code-dir": "input",
    "data-gutter-symbol": ">>>"
   },
   "outputs": [],
   "source": [
    "import numpy as np"
   ],
   "id": "5f40307fde4275ce"
  },
  {
   "cell_type": "markdown",
   "metadata": {},
   "source": [
    "and then"
   ],
   "id": "ca16208d65cc70eb"
  },
  {
   "cell_type": "code",
   "execution_count": null,
   "metadata": {
    "data-code-dir": "input",
    "data-gutter-symbol": ">>>"
   },
   "outputs": [],
   "source": [
    "np.cos(np.pi)"
   ],
   "id": "5beb2d6320e46414"
  },
  {
   "cell_type": "markdown",
   "metadata": {},
   "source": [
    "Let’s use some functions from the *numpy* module to do our first\n",
    "exercise…\n",
    "\n",
    "### Exercise 1.1\n",
    "\n",
    "The hyperbolic sine function $\\sinh(x)$ can be defined in terms of\n",
    "exponentials as:\n",
    "\n",
    "$$ \\sinh(x)=\\frac{e^x-e^{-x}}{2}. $$\n",
    "\n",
    "-   Use the function `exp` to calculate $\\sinh(\\pi)$ using the\n",
    "    expression on the right of the above equation.\n",
    "-   Verify that you get the same answer with the command `sinh(pi)`.\n",
    "\n",
    "Note that the above documentation tells us that there is both a function\n",
    "`math.exp` as well as a mathematical constant `math.e`. Either could be\n",
    "used here.\n",
    "\n",
    "Data Types\n",
    "----------\n",
    "\n",
    "An understanding of different data types is important for any\n",
    "programming language.\n",
    "\n",
    "Following on from some of the trigonometry in the previous section, have\n",
    "a go at this:"
   ],
   "id": "2bfdfab5a9e0466b"
  },
  {
   "cell_type": "code",
   "execution_count": null,
   "metadata": {
    "data-code-dir": "input",
    "data-gutter-symbol": ">>>"
   },
   "outputs": [],
   "source": [
    "z = np.sin(np.pi/3)"
   ],
   "id": "750bae91a45ec51d"
  },
  {
   "cell_type": "markdown",
   "metadata": {},
   "source": [
    "We all know that $\\sin(\\pi/3)=\\sqrt{3/2}$, but we don’t get a nicely\n",
    "answer like this (try it and you will get 0.8660254037844386). Python\n",
    "makes its computations in what is known as floating point arithmetic (by\n",
    "default); when it makes its calculation it thinks of pi as a decimal,\n",
    "hence the decimal output. There are symbolic mathematics packages for\n",
    "Python but we won’t use those in this module.\n",
    "\n",
    "In the variable explorer you will find that the type of the variable `z`\n",
    "is a *float*. You might also have some integers with type *int* still in\n",
    "your workspace. Let’s find out more about these and other data types…\n",
    "\n",
    "The function `type` can tell us the data type of a variable.\n",
    "\n",
    "### Integers\n",
    "\n",
    "Python stores integers as a separate data type which it calls *int*.\n",
    "Why? Well there’s no point in storing a load of decimal places if you\n",
    "have whole numbers."
   ],
   "id": "673e475fc8ea4bdb"
  },
  {
   "cell_type": "code",
   "execution_count": null,
   "metadata": {
    "data-code-dir": "input",
    "data-gutter-symbol": ">>>"
   },
   "outputs": [],
   "source": [
    "type(2)"
   ],
   "id": "3ee6fb3ae29ea836"
  },
  {
   "cell_type": "markdown",
   "metadata": {},
   "source": [
    "Other data types can be converted to integers using the function `int`.\n",
    "Here `x` is a decimal number."
   ],
   "id": "a04851dde59d3445"
  },
  {
   "cell_type": "code",
   "execution_count": null,
   "metadata": {
    "data-code-dir": "input",
    "data-gutter-symbol": ">>>"
   },
   "outputs": [],
   "source": [
    "x = 2.0\n",
    "int(x)"
   ],
   "id": "57a5e800c42690c1"
  },
  {
   "cell_type": "markdown",
   "metadata": {},
   "source": [
    "Note that the intended use is not rounding or formatting numbers. We’ll\n",
    "come back to that later.\n",
    "\n",
    "### Floating point numbers\n",
    "\n",
    "In the last section we dealt with some decimal numbers… strictly\n",
    "speaking these were really what are called floating-point numbers, and\n",
    "Python refers to them as a *float*."
   ],
   "id": "b5d13b2176deff34"
  },
  {
   "cell_type": "code",
   "execution_count": null,
   "metadata": {
    "data-code-dir": "input",
    "data-gutter-symbol": ">>>"
   },
   "outputs": [],
   "source": [
    "type(math.pi)"
   ],
   "id": "5b04695a603b0026"
  },
  {
   "cell_type": "markdown",
   "metadata": {},
   "source": [
    "The function `float` will take a different data type and turn it into a\n",
    "float. Here `x` is an integer."
   ],
   "id": "191f26feb834e3ad"
  },
  {
   "cell_type": "code",
   "execution_count": null,
   "metadata": {
    "data-code-dir": "input",
    "data-gutter-symbol": ">>>"
   },
   "outputs": [],
   "source": [
    "x = 2\n",
    "float(x)"
   ],
   "id": "c8d920debf9f8877"
  },
  {
   "cell_type": "markdown",
   "metadata": {},
   "source": [
    "### Complex numbers\n",
    "\n",
    "You may or not have already come across complex numbers. Well, this is\n",
    "as good a place as any to mention them, even if we don’t really use them\n",
    "in this bit of course.\n",
    "\n",
    "You can define a complex number as follows"
   ],
   "id": "36b9edca667b450a"
  },
  {
   "cell_type": "code",
   "execution_count": null,
   "metadata": {
    "data-code-dir": "input",
    "data-gutter-symbol": ">>>"
   },
   "outputs": [],
   "source": [
    "z = 2+3j\n",
    "type(z)"
   ],
   "id": "9a58b8a5b1a568d8"
  },
  {
   "cell_type": "markdown",
   "metadata": {},
   "source": [
    "and easily query its real and imaginary parts"
   ],
   "id": "41184c8d94dfc24"
  },
  {
   "cell_type": "code",
   "execution_count": null,
   "metadata": {
    "data-code-dir": "input",
    "data-gutter-symbol": ">>>"
   },
   "outputs": [],
   "source": [
    "z.real"
   ],
   "id": "e7751ec0879e643c"
  },
  {
   "cell_type": "code",
   "execution_count": null,
   "metadata": {
    "data-code-dir": "input",
    "data-gutter-symbol": ">>>"
   },
   "outputs": [],
   "source": [
    "z.imaj"
   ],
   "id": "c36a8903931a9e16"
  },
  {
   "cell_type": "markdown",
   "metadata": {},
   "source": [
    "### Booleans\n",
    "\n",
    "A boolean is an object that is either true or false and is referred to\n",
    "as type *bool* in Python. There are only two values for this data type:\n",
    "`True` and `False`"
   ],
   "id": "46706bab5f70557"
  },
  {
   "cell_type": "code",
   "execution_count": null,
   "metadata": {
    "data-code-dir": "input",
    "data-gutter-symbol": ">>>"
   },
   "outputs": [],
   "source": [
    "type(True)"
   ],
   "id": "9b0aea9e757b259a"
  },
  {
   "cell_type": "markdown",
   "metadata": {},
   "source": [
    "Note that computers store boolean values as 0s (for false) and 1s (for\n",
    "true), so the result of this sort of conversion is not surprising:"
   ],
   "id": "a5f636674e686f0"
  },
  {
   "cell_type": "code",
   "execution_count": null,
   "metadata": {
    "data-code-dir": "input",
    "data-gutter-symbol": ">>>"
   },
   "outputs": [],
   "source": [
    "int(True)"
   ],
   "id": "42aa8b536c020895"
  },
  {
   "cell_type": "code",
   "execution_count": null,
   "metadata": {
    "data-code-dir": "input",
    "data-gutter-symbol": ">>>"
   },
   "outputs": [],
   "source": [
    "bool(1)"
   ],
   "id": "deaf344aff3bd188"
  },
  {
   "cell_type": "markdown",
   "metadata": {},
   "source": [
    "### Strings\n",
    "\n",
    "*Strings* (words!), sometimes called character strings, could be used as\n",
    "part of data that we are working with, or when naming files, and so on.\n",
    "Python calls this type of data *str*.\n",
    "\n",
    "You can define a complex number as follows"
   ],
   "id": "c835f24e7b6e9967"
  },
  {
   "cell_type": "code",
   "execution_count": null,
   "metadata": {
    "data-code-dir": "input",
    "data-gutter-symbol": ">>>"
   },
   "outputs": [],
   "source": [
    "type(\"a string\")"
   ],
   "id": "3a072ce0ed421d55"
  },
  {
   "cell_type": "markdown",
   "metadata": {},
   "source": [
    "You can use either single or double quotes to enclose a string. Unlike\n",
    "other languages, there is no real precedent for using one over the\n",
    "other, but it’s best to stick with one and being consistent. In that\n",
    "spirit, I’m going for double quotes…\n",
    "\n",
    "### Exercise 1.2\n",
    "\n",
    "Assign some strings to two variables, preferably two words or phrases\n",
    "that when put together will be hilarious.\n",
    "\n",
    "-   Look up a function or method to join the two strings into one. What\n",
    "    is the technical name for this operation? When I say look up, Google\n",
    "    is your friend! *Other search engines are available.*\n",
    "-   Use the function `len` to find out how many characters are in your\n",
    "    masterpiece.\n",
    "\n",
    "Note that there are several ways to do this, some more sophisticated\n",
    "than others. What happens if you use your method to join a string and an\n",
    "integer? The simplest method of joining strings doesn’t allow this and\n",
    "returns an error. If you wanted to do such a thing then you may need\n",
    "another way.\n",
    "\n",
    "Lists and arrays\n",
    "----------------\n",
    "\n",
    "Lists and arrays are used by Python to store data in a vector- or\n",
    "matrix-like structure.\n",
    "\n",
    "### Lists\n",
    "\n",
    "Lists are very straightforward to set up. Place a comma-separated list\n",
    "of any variable type inside square brackets."
   ],
   "id": "26ad6d57229ebe6c"
  },
  {
   "cell_type": "code",
   "execution_count": null,
   "metadata": {
    "data-code-dir": "input",
    "data-gutter-symbol": ">>>"
   },
   "outputs": [],
   "source": [
    "x = [3,8,5,6]"
   ],
   "id": "c943d410ec01d0f0"
  },
  {
   "cell_type": "markdown",
   "metadata": {},
   "source": [
    "An element of the list can be accessed, or *indexed*, as follows,"
   ],
   "id": "55c21b04dea82f39"
  },
  {
   "cell_type": "code",
   "execution_count": null,
   "metadata": {
    "data-code-dir": "input",
    "data-gutter-symbol": ">>>"
   },
   "outputs": [],
   "source": [
    "x[3]"
   ],
   "id": "7523eb3c8fb5704d"
  },
  {
   "cell_type": "markdown",
   "metadata": {},
   "source": [
    "And individual elements can be set with,"
   ],
   "id": "8beb7348aa417394"
  },
  {
   "cell_type": "code",
   "execution_count": null,
   "metadata": {
    "data-code-dir": "input",
    "data-gutter-symbol": ">>>"
   },
   "outputs": [],
   "source": [
    "x[3] = 10"
   ],
   "id": "99bc7eccdda80564"
  },
  {
   "cell_type": "markdown",
   "metadata": {},
   "source": [
    "Note - **very important** - Python indexing begins at 0, not 1, i.e. the\n",
    "element with index 3 above is the fourth in the list! There are long and\n",
    "boring reasons why, which I won’t waste pixels with, but importantly\n",
    "this is different in other languages (including R, which you will learn\n",
    "next semester), so take care!\n",
    "\n",
    "Lists can be used with other data types too. For example strings:"
   ],
   "id": "3f198b09c1884764"
  },
  {
   "cell_type": "code",
   "execution_count": null,
   "metadata": {
    "data-code-dir": "input",
    "data-gutter-symbol": ">>>"
   },
   "outputs": [],
   "source": [
    "y = [\"oranges\",\"apples\",\"bananas\"]\n",
    "y[1]"
   ],
   "id": "edd32ff0c8e99bd5"
  },
  {
   "cell_type": "markdown",
   "metadata": {},
   "source": [
    "We are now in a position to use some more of the built-in functions that\n",
    "were introduced earlier in the handout."
   ],
   "id": "7d4b214205a318d5"
  },
  {
   "cell_type": "code",
   "execution_count": null,
   "metadata": {
    "data-code-dir": "input",
    "data-gutter-symbol": ">>>"
   },
   "outputs": [],
   "source": [
    "x = [1,5,7,2,4,6,3,9,1,-1]"
   ],
   "id": "9c746b6e2a9ec809"
  },
  {
   "cell_type": "code",
   "execution_count": null,
   "metadata": {
    "data-code-dir": "input",
    "data-gutter-symbol": ">>>"
   },
   "outputs": [],
   "source": [
    "len(x)"
   ],
   "id": "3657e8c11fdd5340"
  },
  {
   "cell_type": "code",
   "execution_count": null,
   "metadata": {
    "data-code-dir": "input",
    "data-gutter-symbol": ">>>"
   },
   "outputs": [],
   "source": [
    "min(x)"
   ],
   "id": "6ea821bfc90a13e6"
  },
  {
   "cell_type": "code",
   "execution_count": null,
   "metadata": {
    "data-code-dir": "input",
    "data-gutter-symbol": ">>>"
   },
   "outputs": [],
   "source": [
    "max(x)"
   ],
   "id": "ea355ecb55141e89"
  },
  {
   "cell_type": "code",
   "execution_count": null,
   "metadata": {
    "data-code-dir": "input",
    "data-gutter-symbol": ">>>"
   },
   "outputs": [],
   "source": [
    "sum(x)"
   ],
   "id": "17b07b7cac52ec8d"
  },
  {
   "cell_type": "markdown",
   "metadata": {},
   "source": [
    "### The `range` function\n",
    "\n",
    "The range function creates a sequence of integer numbers. We will use\n",
    "this a lot!\n",
    "\n",
    "With one argument, `range(stop)` for some integer `stop`, the function\n",
    "returns the sequence from 0 up to **but not including** `stop`."
   ],
   "id": "4d65251923e7be50"
  },
  {
   "cell_type": "code",
   "execution_count": null,
   "metadata": {},
   "outputs": [],
   "source": [
    "range(10)"
   ],
   "id": "f375ebf7b1194eaa"
  },
  {
   "cell_type": "markdown",
   "metadata": {},
   "source": [
    "creates a sequence of numbers $0,1,2\\cdots 9$.\n",
    "\n",
    "You can display these numbers in a list using the `list` function:"
   ],
   "id": "67b8ae2a14fb2842"
  },
  {
   "cell_type": "code",
   "execution_count": null,
   "metadata": {},
   "outputs": [],
   "source": [
    "list(range(10))"
   ],
   "id": "33785c34cfa1302c"
  },
  {
   "cell_type": "markdown",
   "metadata": {},
   "source": [
    "If `range` is given two arguments, it treats them as `range(start,stop)`\n",
    "and returns the sequence from `start` up to **but not including**\n",
    "`stop`."
   ],
   "id": "5aeaf9ec202a62d2"
  },
  {
   "cell_type": "code",
   "execution_count": null,
   "metadata": {},
   "outputs": [],
   "source": [
    "list(range(2,10))"
   ],
   "id": "a6c9eedf77b1b801"
  },
  {
   "cell_type": "markdown",
   "metadata": {},
   "source": [
    "returns the sequence $2,3,4\\cdots 9$.\n",
    "\n",
    "If range has a third argument then it does ‘list(start,stop,step)’"
   ],
   "id": "351163a43ced300c"
  },
  {
   "cell_type": "code",
   "execution_count": null,
   "metadata": {},
   "outputs": [],
   "source": [
    "list(range(2,10,2))"
   ],
   "id": "ba5b68bdae62b13c"
  },
  {
   "cell_type": "markdown",
   "metadata": {},
   "source": [
    "returns the sequence $2,4,6,8$.\n",
    "\n",
    "Just like before, we can query elements in a sequence"
   ],
   "id": "97c80de197e57d14"
  },
  {
   "cell_type": "code",
   "execution_count": null,
   "metadata": {},
   "outputs": [],
   "source": [
    "x = range(2,10,2)\n",
    "x[3]"
   ],
   "id": "1205372bde6ef256"
  },
  {
   "cell_type": "markdown",
   "metadata": {},
   "source": [
    "### Exercise 1.3\n",
    "\n",
    "Run the following command:\n",
    "\n",
    "``` octave\n",
    "list(range(2, -3))\n",
    "```\n",
    "\n",
    "-   What do you think was the intended sequence of numbers?\n",
    "-   What is the result instead?\n",
    "-   Can you figure out how to ‘fix’ it.\n",
    "\n",
    "### List methods\n",
    "\n",
    "*methods* in Python are similar to a little bit like a function: they\n",
    "are tasks associated with a particular type (technically class, we’ll\n",
    "come back to that later in the module) of object. In this case there are\n",
    "a number of methods associated with lists. Note that these change the\n",
    "list itself:"
   ],
   "id": "476b3b487338f2fb"
  },
  {
   "cell_type": "code",
   "execution_count": null,
   "metadata": {
    "data-code-dir": "input",
    "data-gutter-symbol": ">>>"
   },
   "outputs": [],
   "source": [
    "x = range(0,10)\n",
    "x.reverse()\n",
    "print(x)"
   ],
   "id": "dabf798c5103209a"
  },
  {
   "cell_type": "code",
   "execution_count": null,
   "metadata": {
    "data-code-dir": "input",
    "data-gutter-symbol": ">>>"
   },
   "outputs": [],
   "source": [
    "x = [2,7,3,8]\n",
    "x.sort()\n",
    "print(x)"
   ],
   "id": "1477bd442a93adf5"
  },
  {
   "cell_type": "code",
   "execution_count": null,
   "metadata": {
    "data-code-dir": "input",
    "data-gutter-symbol": ">>>"
   },
   "outputs": [],
   "source": [
    "x = [\"oranges\",\"bananas\"]\n",
    "x.append(\"apples\")\n",
    "print(x)"
   ],
   "id": "d2e4be25f5e27078"
  },
  {
   "cell_type": "markdown",
   "metadata": {},
   "source": [
    "Here is a [https://docs.code\n",
    ".python.org/3/tutorial/datastructures.html](reference%20page%20for%20more%20list%20methods).\n",
    "You can also view all of the methods available for any object using the\n",
    "`dir()` function."
   ],
   "id": "7e257377cebf134c"
  },
  {
   "cell_type": "code",
   "execution_count": null,
   "metadata": {
    "data-code-dir": "input",
    "data-gutter-symbol": ">>>"
   },
   "outputs": [],
   "source": [
    "dir(x)"
   ],
   "id": "f1a48b1a3a40266f"
  },
  {
   "cell_type": "markdown",
   "metadata": {},
   "source": [
    "### Exercise 1.4\n",
    "\n",
    "Consider the following:"
   ],
   "id": "ee82de24124d77ce"
  },
  {
   "cell_type": "code",
   "execution_count": null,
   "metadata": {
    "data-code-dir": "input",
    "data-gutter-symbol": ">>>"
   },
   "outputs": [],
   "source": [
    "fizzy_drinks = [\"Cola\", \"Lemonade\", \"Sparkling Water\"] \n",
    "stll_drinks = [\"Orange Juice\", \"Still Water\"]"
   ],
   "id": "a603092f1fc1894a"
  },
  {
   "cell_type": "markdown",
   "metadata": {},
   "source": [
    "Find a way to combine the two lists into one list named `all_drinks`\n",
    "(hint: use the method `copy()` followed by `extend()`) and then sort it\n",
    "alphabetically using `sort()`.\n",
    "\n",
    "### Limitation of lists\n",
    "\n",
    "This is all very neat and don’t forget about lists, as they are great!\n",
    "However, they are not ideal for arithmetic operations. I might well like\n",
    "to do something like the following"
   ],
   "id": "b5b8729dbebf0ac1"
  },
  {
   "cell_type": "code",
   "execution_count": null,
   "metadata": {
    "data-code-dir": "input",
    "data-gutter-symbol": ">>>"
   },
   "outputs": [],
   "source": [
    "x = [3,6,9]\n",
    "x/3"
   ],
   "id": "5f4666676b1b07cc"
  },
  {
   "cell_type": "markdown",
   "metadata": {},
   "source": [
    "and hope to get back\n",
    "\n",
    "    [1,2,3]\n",
    "\n",
    "however what I get back is\n",
    "\n",
    "    TypeError: unsupported operand type(s) for /: 'list' and 'int'\n",
    "\n",
    "Because we’re mathematicians, we are likely to want to do this sort of\n",
    "thing. Fortunately *numpy* is brilliant at this…\n",
    "\n",
    "Arrays in *numpy*\n",
    "-----------------\n",
    "\n",
    "Setting up a vector using numpy goes like this:"
   ],
   "id": "f9e76e05f4d859be"
  },
  {
   "cell_type": "code",
   "execution_count": null,
   "metadata": {
    "data-code-dir": "input",
    "data-gutter-symbol": ">>>"
   },
   "outputs": [],
   "source": [
    "import numpy as np\n",
    "a = np.array([3,6,9])"
   ],
   "id": "64382610dacce08a"
  },
  {
   "cell_type": "markdown",
   "metadata": {},
   "source": [
    "*numpy* also has support for sequences of numbers with a function\n",
    "`arange`."
   ],
   "id": "83c7693662874ef3"
  },
  {
   "cell_type": "code",
   "execution_count": null,
   "metadata": {
    "data-code-dir": "input",
    "data-gutter-symbol": ">>>"
   },
   "outputs": [],
   "source": [
    "np.arange(3,6)"
   ],
   "id": "eedd785200b82c5f"
  },
  {
   "cell_type": "code",
   "execution_count": null,
   "metadata": {
    "data-code-dir": "input",
    "data-gutter-symbol": ">>>"
   },
   "outputs": [],
   "source": [
    "np.arange(1,10,2)"
   ],
   "id": "959151cc562c743f"
  },
  {
   "cell_type": "markdown",
   "metadata": {},
   "source": [
    "Vector arithmetic\n",
    "-----------------\n",
    "\n",
    "We can now do some vector arithmetic. In the following command"
   ],
   "id": "185c1d2535a6afef"
  },
  {
   "cell_type": "code",
   "execution_count": null,
   "metadata": {
    "data-code-dir": "input",
    "data-gutter-symbol": ">>>"
   },
   "outputs": [],
   "source": [
    "import numpy as np\n",
    "x = np.array([3,6,9])\n",
    "y = x/3"
   ],
   "id": "1837c541adf6dfde"
  },
  {
   "cell_type": "markdown",
   "metadata": {},
   "source": [
    "each term in `x` is divided by 3, so that `y` is an array of length 3\n",
    "containing the values 1,2,3. The division is done ‘element-wise’.\n",
    "\n",
    "Similarly we can do vector multiplication"
   ],
   "id": "542e5b0bd1591ea4"
  },
  {
   "cell_type": "code",
   "execution_count": null,
   "metadata": {
    "data-code-dir": "input",
    "data-gutter-symbol": ">>>"
   },
   "outputs": [],
   "source": [
    "import numpy as np\n",
    "3*x"
   ],
   "id": "cf8f50939f951566"
  },
  {
   "cell_type": "markdown",
   "metadata": {},
   "source": [
    "and addition and subtraction"
   ],
   "id": "1fa5949c3ae54de1"
  },
  {
   "cell_type": "code",
   "execution_count": null,
   "metadata": {
    "data-code-dir": "input",
    "data-gutter-symbol": ">>>"
   },
   "outputs": [],
   "source": [
    "x = np.array([1,2,3])\n",
    "y = np.array([4,5,6])\n",
    "x + y"
   ],
   "id": "c256b86cd57b7cfb"
  },
  {
   "cell_type": "markdown",
   "metadata": {},
   "source": [
    "Similarly, functions which would normally be used for a scalar number\n",
    "operate element-wise. Consider for example `np.deg2rad()` which converts\n",
    "degrees to radians:"
   ],
   "id": "5b01d3d159424801"
  },
  {
   "cell_type": "code",
   "execution_count": null,
   "metadata": {
    "data-code-dir": "input",
    "data-gutter-symbol": ">>>"
   },
   "outputs": [],
   "source": [
    "a = np.array([0,90,180])\n",
    "np.deg2rad(a)"
   ],
   "id": "c796e4f84ffcccdb"
  },
  {
   "cell_type": "markdown",
   "metadata": {},
   "source": [
    "Let’s see how this works in practice by constructing some triangular\n",
    "numbers\n",
    "\n",
    "$$t_n = \\frac{n(n+1)}{2}$$\n",
    "\n",
    "Say we are interested in $n$ from 1 to 10. Let’s set up an array using\n",
    "`arange()`"
   ],
   "id": "24226bc594d4465d"
  },
  {
   "cell_type": "code",
   "execution_count": null,
   "metadata": {
    "data-code-dir": "input",
    "data-gutter-symbol": ">>>"
   },
   "outputs": [],
   "source": [
    "n = np.arange(1,11)"
   ],
   "id": "5061fb2cbf973f22"
  },
  {
   "cell_type": "markdown",
   "metadata": {},
   "source": [
    "Because all of the arithmetic is element-wise, the triangular numbers\n",
    "are simply given by"
   ],
   "id": "3c89951cdfe66fcb"
  },
  {
   "cell_type": "code",
   "execution_count": null,
   "metadata": {
    "data-code-dir": "input",
    "data-gutter-symbol": ">>>"
   },
   "outputs": [],
   "source": [
    "t = n*(n+1)/2"
   ],
   "id": "ed13cfaec8b9fa1"
  },
  {
   "cell_type": "markdown",
   "metadata": {},
   "source": [
    "### Exercise 1.5\n",
    "\n",
    "Using the above, find the sum of the first 100 triangle numbers.\n",
    "\n",
    "Querying and manipulating arrays\n",
    "--------------------------------\n",
    "\n",
    "Consider the following array set up using `arange`"
   ],
   "id": "1594f1f745f7dba4"
  },
  {
   "cell_type": "code",
   "execution_count": null,
   "metadata": {
    "data-code-dir": "input",
    "data-gutter-symbol": ">>>"
   },
   "outputs": [],
   "source": [
    "x = np.arange(0,15)"
   ],
   "id": "139f3bffe96a2bf1"
  },
  {
   "cell_type": "markdown",
   "metadata": {},
   "source": [
    "We saw earlier that, for example, the element with index 5 (6th in the\n",
    "list) can be found with"
   ],
   "id": "1c90eaf236b1240d"
  },
  {
   "cell_type": "code",
   "execution_count": null,
   "metadata": {
    "data-code-dir": "input",
    "data-gutter-symbol": ">>>"
   },
   "outputs": [],
   "source": [
    "x[0]"
   ],
   "id": "19bb5bd7dd4d1ab0"
  },
  {
   "cell_type": "markdown",
   "metadata": {},
   "source": [
    "And we can also use this to set a value"
   ],
   "id": "13476cda07f5d46d"
  },
  {
   "cell_type": "code",
   "execution_count": null,
   "metadata": {
    "data-code-dir": "input",
    "data-gutter-symbol": ">>>"
   },
   "outputs": [],
   "source": [
    "x[0] = 5"
   ],
   "id": "f6e34cc73a0a0ffb"
  },
  {
   "cell_type": "markdown",
   "metadata": {},
   "source": [
    "Using a similar idea, we can find the values greater than"
   ],
   "id": "5480d3dd4e6052a0"
  },
  {
   "cell_type": "code",
   "execution_count": null,
   "metadata": {
    "data-code-dir": "input",
    "data-gutter-symbol": ">>>"
   },
   "outputs": [],
   "source": [
    "x[x>10]"
   ],
   "id": "4f0ac6fda2e64bde"
  },
  {
   "cell_type": "markdown",
   "metadata": {},
   "source": [
    "We could also find the number of values"
   ],
   "id": "5d2c94165ba9fb65"
  },
  {
   "cell_type": "code",
   "execution_count": null,
   "metadata": {
    "data-code-dir": "input",
    "data-gutter-symbol": ">>>"
   },
   "outputs": [],
   "source": [
    "len(x[x>10])"
   ],
   "id": "cb542efed411c8bd"
  },
  {
   "cell_type": "markdown",
   "metadata": {},
   "source": [
    "Note that the command `x>10` returns an array of logicals"
   ],
   "id": "21d43bb040e88ae8"
  },
  {
   "cell_type": "code",
   "execution_count": null,
   "metadata": {
    "data-code-dir": "input",
    "data-gutter-symbol": ">>>"
   },
   "outputs": [],
   "source": [
    "x>10"
   ],
   "id": "e5cb1fbffd68ab4a"
  },
  {
   "cell_type": "markdown",
   "metadata": {},
   "source": [
    "i.e. a `True` or `False` for each element in the array. We’ll come back\n",
    "to logical expressions next week.\n",
    "\n",
    "### Exercise 1.6\n",
    "\n",
    "Look up the help for the *numpy* function `zeros()` to create a vector\n",
    "\n",
    "$$[0, 0, 0, 0, 1, 0, 0, 0, 0, 0]$$\n",
    "\n",
    "(i.e. don’t just add the elements individually)\n",
    "\n",
    "It’s likely that your array will contain floating point numbers. Take\n",
    "another look at the help for `zeros` and see if you set up the array\n",
    "with integers instead\n",
    "\n",
    "### Matrices in `numpy`\n",
    "\n",
    "From a programming point of view, a matrix is a two-dimensional array,\n",
    "and can also be set up using the *numpy* `array` function. The syntax is\n",
    "as follows"
   ],
   "id": "b2347c85cae6b181"
  },
  {
   "cell_type": "code",
   "execution_count": null,
   "metadata": {
    "data-code-dir": "input",
    "data-gutter-symbol": ">>>"
   },
   "outputs": [],
   "source": [
    "A = np.array([[2,1,3],[2,3,3],[1,2,0]])"
   ],
   "id": "2f27b9c6386429ec"
  },
  {
   "cell_type": "markdown",
   "metadata": {},
   "source": [
    "As for lists, the *numpy* array class of objects has methods. You can\n",
    "view these for our object `A` with"
   ],
   "id": "c8a107123b868e53"
  },
  {
   "cell_type": "code",
   "execution_count": null,
   "metadata": {
    "data-code-dir": "input",
    "data-gutter-symbol": ">>>"
   },
   "outputs": [],
   "source": [
    "dir(A)"
   ],
   "id": "6bd833894de3ff52"
  },
  {
   "cell_type": "markdown",
   "metadata": {},
   "source": [
    "The shape of a *numpy* array can be queried with the shape method"
   ],
   "id": "8106500e6ac44e07"
  },
  {
   "cell_type": "code",
   "execution_count": null,
   "metadata": {
    "data-code-dir": "input",
    "data-gutter-symbol": ">>>"
   },
   "outputs": [],
   "source": [
    "A.shape"
   ],
   "id": "52ddcbc8838281e1"
  },
  {
   "cell_type": "markdown",
   "metadata": {},
   "source": [
    "The methods for a numpy array include some common tasks used when\n",
    "working with matrices, for example"
   ],
   "id": "940052e07b182cc6"
  },
  {
   "cell_type": "code",
   "execution_count": null,
   "metadata": {
    "data-code-dir": "input",
    "data-gutter-symbol": ">>>"
   },
   "outputs": [],
   "source": [
    "A.transpose()"
   ],
   "id": "4fde0d8704019ad7"
  },
  {
   "cell_type": "markdown",
   "metadata": {},
   "source": [
    "*numpy* also has functions which operate on matrices, such as\n",
    "`numpy.linalg.inv()`, to calculate the inverse of a matrix."
   ],
   "id": "cb9ecf540d986373"
  },
  {
   "cell_type": "code",
   "execution_count": null,
   "metadata": {
    "data-code-dir": "input",
    "data-gutter-symbol": ">>>"
   },
   "outputs": [],
   "source": [
    "numpy.linalg.inv(A)"
   ],
   "id": "7f1598392da60dde"
  },
  {
   "cell_type": "markdown",
   "metadata": {},
   "source": [
    "The function `np.linalg.solve(A,b)` solves an equation in the matrix\n",
    "form $Ax=b$ for matrix $A$ and columb nector $b$. For example, let’s\n",
    "solve the system of linear equations\n",
    "\n",
    "$$ \n",
    "x +  y + z = 6 \\\\\n",
    "2y + 5z = −4   \\\\\n",
    "2x + 5y − z = 27   \\\\\n",
    "$$\n",
    "\n",
    "We’ll write the system in the form\n",
    "\n",
    "$$ Ax = b $$\n",
    "\n",
    "$$\n",
    "\\begin{pmatrix} 1 & 1 & 1 \\\\ 0 & 2 & 5 \\\\ 2 & 5 & -1 \\\\ \\end{pmatrix} \\begin{pmatrix} x \\\\ y \\\\ z\\end{pmatrix} = \\begin{pmatrix} 6 \\\\ -4 \\\\ 27\\end{pmatrix}\n",
    "$$\n",
    "\n",
    "and create `A` and `b` in Python using *numpy*"
   ],
   "id": "2960272017d69288"
  },
  {
   "cell_type": "code",
   "execution_count": null,
   "metadata": {
    "data-code-dir": "input",
    "data-gutter-symbol": ">>>"
   },
   "outputs": [],
   "source": [
    "A = np.array([[1,1,1],[0,2,3],[2,5,-1]])"
   ],
   "id": "ac4e242cee9ae822"
  },
  {
   "cell_type": "code",
   "execution_count": null,
   "metadata": {
    "data-code-dir": "input",
    "data-gutter-symbol": ">>>"
   },
   "outputs": [],
   "source": [
    "B = np.array([[6],[0],[27]])"
   ],
   "id": "de8d5c0570e7d633"
  },
  {
   "cell_type": "markdown",
   "metadata": {},
   "source": [
    "Then $x$ is then given by"
   ],
   "id": "cb91aa2f77f5e2b6"
  },
  {
   "cell_type": "code",
   "execution_count": null,
   "metadata": {
    "data-code-dir": "input",
    "data-gutter-symbol": ">>>"
   },
   "outputs": [],
   "source": [
    "x = np.linalg.solve(A,b) \n",
    "print(x)"
   ],
   "id": "6345644e615c6aec"
  },
  {
   "cell_type": "markdown",
   "metadata": {},
   "source": [
    "A matrix element can be accessed as `A[i][j]` where `i` is the row index\n",
    "and `j` the column index"
   ],
   "id": "b6e4137c0ba6ded5"
  },
  {
   "cell_type": "code",
   "execution_count": null,
   "metadata": {
    "data-code-dir": "input",
    "data-gutter-symbol": ">>>"
   },
   "outputs": [],
   "source": [
    "A[1][2]"
   ],
   "id": "4c1266fd7817855"
  },
  {
   "cell_type": "markdown",
   "metadata": {},
   "source": [
    "Or alternatively"
   ],
   "id": "c10522ce4a0c7835"
  },
  {
   "cell_type": "code",
   "execution_count": null,
   "metadata": {
    "data-code-dir": "input",
    "data-gutter-symbol": ">>>"
   },
   "outputs": [],
   "source": [
    "A[1,2]"
   ],
   "id": "f8cdb0eaf5fab520"
  },
  {
   "cell_type": "markdown",
   "metadata": {},
   "source": [
    "A colon acts as a ‘wilcard’, so this returns the first column (remember\n",
    "the first column has index 0),"
   ],
   "id": "ec0ffee060c3f222"
  },
  {
   "cell_type": "code",
   "execution_count": null,
   "metadata": {
    "data-code-dir": "input",
    "data-gutter-symbol": ">>>"
   },
   "outputs": [],
   "source": [
    "A[:,0]"
   ],
   "id": "3c9ae7871beaee36"
  },
  {
   "cell_type": "markdown",
   "metadata": {},
   "source": [
    "Read this as “show me the any row and the first column”. Similarly,"
   ],
   "id": "dc0124cf2d04143f"
  },
  {
   "cell_type": "code",
   "execution_count": null,
   "metadata": {
    "data-code-dir": "input",
    "data-gutter-symbol": ">>>"
   },
   "outputs": [],
   "source": [
    "A[0,:]"
   ],
   "id": "d316e1b7b763cfef"
  },
  {
   "cell_type": "markdown",
   "metadata": {},
   "source": [
    "gives the “first row and any column”.\n",
    "\n",
    "### Exercise 1.7\n",
    "\n",
    "Create the matrix\n",
    "\n",
    "$$\n",
    "\\begin{pmatrix} 1 & 2 & 3 & 4 & 5  \\\\ 6 & 7 & 8 & 9 & 10 \\\\ 11 & 12 & 13 & 14 & 15 \\end{pmatrix}\n",
    "$$\n",
    "\n",
    "There are three levels of sophistication here:\n",
    "\n",
    "-   Create the matrix entering individual elements.\n",
    "-   Create the matrix from the 3 sequences. You’ll need the *numpy*\n",
    "    functions `arange()` and `column_stack()` (see\n",
    "    `help(np.column_stack)`)\n",
    "-   Create the matrix from 1 sequence. Take a look at help(np.reshape).\n",
    "\n",
    "<!-- Working with files -->\n",
    "\n",
    "Python Scripts\n",
    "--------------\n",
    "\n",
    "Whilst the Console window is an important part of the environment,\n",
    "especially as it contains the output to our code, it’s not a convenient\n",
    "place to put multiple lines of code. And of course we’re going to need\n",
    "more code if we want to do amazing things with Python.\n",
    "\n",
    "You’ll have noticed that big space on the left of Spyder. This is the\n",
    "*Editor* and is used to edit files. We’ll use files to store our code,\n",
    "so that we can edit, save, re-open and re-use code.\n",
    "\n",
    "### Opening a blank file\n",
    "\n",
    "Hit the `New file` button or go to *File -\\> New file..*.\n",
    "\n",
    "\\*\\* pic \\*\\*\n",
    "\n",
    "You’ll have a file with a bunch of stuff at the top. The first two lines\n",
    "are comments (actually the first is known as a *shebang*) and the but in\n",
    "green is a multiline string. You can delete this bit if you like.\n",
    "\n",
    "Let’s go ahead and put some code into our file from earlier."
   ],
   "id": "15b0f2718f53f4b4"
  },
  {
   "cell_type": "code",
   "execution_count": null,
   "metadata": {
    "data-code-dir": "input",
    "data-gutter-symbol": ">>>"
   },
   "outputs": [],
   "source": [
    "import numpy as np\n",
    "x = np.arange(0,10)\n",
    "y = np.cos(x)"
   ],
   "id": "fb4392a5546d33e1"
  },
  {
   "cell_type": "markdown",
   "metadata": {},
   "source": [
    "Click the play button, or hit f5 to run the file. You will be prompted\n",
    "to save your file. It’s a good idea to give it a sensible name and\n",
    "location, maybe even think about creating a folder for today’s session.\n",
    "\n",
    "In the console you’ll see a line like"
   ],
   "id": "a8d16c00ee94b54d"
  },
  {
   "cell_type": "code",
   "execution_count": null,
   "metadata": {
    "data-code-dir": "input",
    "data-gutter-symbol": ">>>"
   },
   "outputs": [],
   "source": [
    "runfile('/Users/chris/.spyder-py3/myfile.py', wdir='/Users/chris/.spyder-py3')"
   ],
   "id": "ef6fe3cf590518b3"
  },
  {
   "cell_type": "markdown",
   "metadata": {},
   "source": [
    "but not much else. I did say that Python is quiet! Let’s use the `print`\n",
    "function to print out the value of y. Change your code in the editor to"
   ],
   "id": "f6ec91d5f2a05404"
  },
  {
   "cell_type": "code",
   "execution_count": null,
   "metadata": {
    "data-code-dir": "input",
    "data-gutter-symbol": ">>>"
   },
   "outputs": [],
   "source": [
    "import numpy as np\n",
    "x = np.arange(0,10)\n",
    "y = np.cos(x)\n",
    "print(y)"
   ],
   "id": "c9267a735e609cbb"
  },
  {
   "cell_type": "markdown",
   "metadata": {},
   "source": [
    "and you will see the value of `y` printed in the Console.\n",
    "\n",
    "Next week we’ll talk about best practices for commenting your files,\n",
    "which is very important. In brief, lines with a \\# are treated as\n",
    "comments"
   ],
   "id": "48bb5d5cf753815"
  },
  {
   "cell_type": "code",
   "execution_count": null,
   "metadata": {
    "data-code-dir": "input",
    "data-gutter-symbol": ">>>"
   },
   "outputs": [],
   "source": [
    "# import numpy\n",
    "import numpy as np\n",
    "\n",
    "# do some stuff\n",
    "x = np.arange(0,10)\n",
    "y = np.cos(x)\n",
    "\n",
    "# print y\n",
    "print(y)"
   ],
   "id": "4be0f2c8de31b887"
  },
  {
   "cell_type": "markdown",
   "metadata": {},
   "source": [
    "<!-- Hand In exercise -->\n",
    "\n",
    "### Exercise 1.8\\*\n",
    "\n",
    "In the 14th century, the Indian astronomer and mathematician, Madhava of\n",
    "Sangamagrama, proposed the following method for computing the value of\n",
    "the number $\\pi$:\n",
    "\n",
    "$$ \\pi = \\sqrt{12}\\sum_{k=0}^{n}\\frac{(-3)^{-k}}{2k+1} $$\n",
    "\n",
    "Madhava computed the first 21 terms in the series.\n",
    "\n",
    "-   Create a vector `k` containing the integers $0$ to $20$ using a\n",
    "    *numpy* array.\n",
    "-   Use `k` to create a new vector which contains the terms in the\n",
    "    series (*Hint: see the vector arithmetic section*).\n",
    "-   Use your vector to calculate $\\pi$ using Madhava’s method.\n",
    "-   To how many decimal places was Madhava correct?\n",
    "\n",
    "Put your commands into a .py script and upload it to NESS before\n",
    "Neversday at midnight.\n",
    "\n",
    "Next Time\n",
    "---------\n",
    "\n",
    "In the next session we will look at Python’s impressive plotting\n",
    "capabilities and my teaching materials will be a whole load more\n",
    "colourful!\n",
    "\n",
    "\\*\\* image to go in \\*\\*\n",
    "\n",
    "------------------------------------------------------------------------"
   ],
   "id": "4190d337e09c3699"
  }
 ],
 "nbformat": 4,
 "nbformat_minor": 5,
 "metadata": {}
}
