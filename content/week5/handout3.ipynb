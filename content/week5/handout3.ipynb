{
 "cells": [
  {
   "cell_type": "markdown",
   "metadata": {},
   "source": [
    "# Handout 3\n",
    "\n",
    "Welcome to the virtual handout for the third week of Python material. This week we will look at some background topics - control flow and functions - in part 1 and then consider some root finding algorithms in part 2.\n",
    "\n",
    "\n",
    "# 1) Background on functions and control flow.\n",
    "\n",
    "## Logical operators\n",
    "\n",
    "Recall that we use logical operators to determine whether a statement is true or false"
   ]
  },
  {
   "cell_type": "code",
   "execution_count": null,
   "metadata": {},
   "outputs": [],
   "source": [
    "x == 2\n",
    "x > 2"
   ]
  },
  {
   "cell_type": "markdown",
   "metadata": {},
   "source": [
    "Others which can be used to make up such an expression are as follows:\n",
    "\n",
    "**Operator**   |    **Description** \n",
    "---------------|-------------------------------\n",
    "<              |    Less than \n",
    ">              |    Greater than \n",
    "<=             |    Less than or equal to \n",
    ">=             |    Greater than or equal to \n",
    "==             |    Equal to \n",
    "!=             |     Not equal to\n",
    "a and b        |      is a AND b \n",
    "a or b         |     is a OR b \n",
    "\n",
    "Here are some more examples"
   ]
  },
  {
   "cell_type": "code",
   "execution_count": null,
   "metadata": {},
   "outputs": [],
   "source": [
    "a = 3\n",
    "print(a <= 3)        # True\n",
    "print(a < 5 or a > 25)   # True\n",
    "print(a < 5 and a > 25)  # False\n",
    "print(a % 2 == 0)  # False (is the remainder when divided by 2 zero - in other words is a even)"
   ]
  },
  {
   "cell_type": "markdown",
   "metadata": {},
   "source": [
    "These will form an important part of the next section on control flow.\n",
    "\n",
    "## Control Flow\n",
    "\n",
    "\n",
    "### For Loops\n",
    "\n",
    "A 'for loop' is used when we would like to repeat a piece of code many times, usually incrementing a value so that something slightly different happens at each iteration. \n",
    "\n",
    "The basic construction of a for loop is as follows:"
   ]
  },
  {
   "cell_type": "code",
   "execution_count": null,
   "metadata": {},
   "outputs": [],
   "source": [
    "for n in range(1,6):\n",
    "    # do something with n"
   ]
  },
  {
   "cell_type": "markdown",
   "metadata": {},
   "source": [
    "Notice the syntax, importantly the colon at the end of the `for` line. The comment labelled \"do something with n\" indicates exactly that, usually you would do something with the current value of $n$. The loop, in this case, runs 5 times, the first time $n=1$, then $n=2$ and so on until $n=5$, and then it stops. So here my choice of \"doing something\" is to print the value of $n^2$:"
   ]
  },
  {
   "cell_type": "code",
   "execution_count": null,
   "metadata": {},
   "outputs": [],
   "source": [
    "for n in range(1,6):\n",
    "  print(n**2)"
   ]
  },
  {
   "cell_type": "markdown",
   "metadata": {},
   "source": [
    "We could get fancy and print some text alongside the value:"
   ]
  },
  {
   "cell_type": "code",
   "execution_count": null,
   "metadata": {},
   "outputs": [],
   "source": [
    "for n in range(1,6):\n",
    "    print(\"The value squared is {}\".format(n**2))"
   ]
  },
  {
   "cell_type": "markdown",
   "metadata": {},
   "source": [
    "Note the syntax too for inserting my number into the string at each iteration. There are several ways to do this and we could spend a whole practical looking at string formatting... [here's a reference](https://docs.code.python.org/3/library/string.html#string-formatting)\n",
    "\n",
    "The `range(1,6)` could be any list, so we can do this, for example"
   ]
  },
  {
   "cell_type": "code",
   "execution_count": null,
   "metadata": {},
   "outputs": [],
   "source": [
    "for n in [4,1,5,6]:\n",
    "    print(n)"
   ]
  },
  {
   "cell_type": "markdown",
   "metadata": {},
   "source": [
    "Or even other data types,"
   ]
  },
  {
   "cell_type": "code",
   "execution_count": null,
   "metadata": {},
   "outputs": [],
   "source": [
    "bears = [\"koala\", \"panda\", \"sun\"]\n",
    "for x in bears:\n",
    "  print(x)"
   ]
  },
  {
   "cell_type": "markdown",
   "metadata": {},
   "source": [
    "The loop could do pretty much anything with `n`. For example here I add the values of n by initialising a variable s, and then adding n to it at each step of the loop:"
   ]
  },
  {
   "cell_type": "code",
   "execution_count": null,
   "metadata": {},
   "outputs": [],
   "source": [
    "# Intitialise a variable\n",
    "s = 0\n",
    "\n",
    "# Loop through adding n each time\n",
    "for n in range(1,6):\n",
    "    s += n\n",
    "\n",
    "# print final value\n",
    "print(s)"
   ]
  },
  {
   "cell_type": "markdown",
   "metadata": {},
   "source": [
    "Notice that the line break and subsequent unindent marks the end of the for loop contents.\n",
    "\n",
    "The `s += n` adds `n` to the current `s` value and is equivalent to `s = s + n`. \n",
    "\n",
    "`+=` is known as an assignment operator, and there are others such as `*=` e.g. `s *= n` equivalent to `s = s * n`.\n",
    "\n",
    "### Exercise 3.1 {: .exercise}\n",
    "\n",
    "<numbas-embed data-url=\"https://numbas.mathcentre.ac.uk/question/77901/python-factorial-for-loop/embed/?token=e7df95aa-52bd-462c-bb54-85805d2e39be\" data-id=\"exercise-3-1\" data-cta=\"Show Exercise\"></numbas-embed>\n",
    "\n",
    "\n",
    "\n",
    "### While Loops\n",
    "\n",
    "\n",
    "A `while` loop can run whilst a certain condition is satisfied, e.g."
   ]
  },
  {
   "cell_type": "code",
   "execution_count": null,
   "metadata": {},
   "outputs": [],
   "source": [
    "s = 0   # some value we'll add to\n",
    "n = 0   # this is my counter\n",
    "\n",
    "while s < 1000:\n",
    "   n += 1    # increment the counter\n",
    "   s += n    # add to s  \n",
    "\n",
    "# Output the results\n",
    "print(\"s is equal to {}\".format(s))"
   ]
  },
  {
   "cell_type": "markdown",
   "metadata": {},
   "source": [
    "Here, the `s < 1000` is a logical expression, it returns either true or false, and so the while loop can be read \"while s < 1000 is true\". Note that you might expect the final value of `s` to be less than 1000. Have a read through the code logic to convince yourself that it is sensible that its value should be greater than 1000.\n",
    "\n",
    "Note that it's easy to get stuck in an infinite while loop, if the condition that is set happens to never be satisfied. If this happens to you then the stop button in the Console, or CTRL-C will stop your code!\n",
    "\n",
    "\n",
    "### If statements\n",
    "\n",
    "\n",
    "An `if` statement ensures that a bit of code is only executed if a condition is met:"
   ]
  },
  {
   "cell_type": "code",
   "execution_count": null,
   "metadata": {},
   "outputs": [],
   "source": [
    "x = 2\n",
    "if x >= 2:\n",
    "   print(\"that is true\")"
   ]
  },
  {
   "cell_type": "markdown",
   "metadata": {},
   "source": [
    "The `print` command is only executed \"if x >= 2\" is true. On the other hand here,"
   ]
  },
  {
   "cell_type": "code",
   "execution_count": null,
   "metadata": {},
   "outputs": [],
   "source": [
    "x = 1\n",
    "if x >= 2:\n",
    "   print(\"that is true\")"
   ]
  },
  {
   "cell_type": "markdown",
   "metadata": {},
   "source": [
    "the `print` command in the if statement is not executed.\n",
    "\n",
    "That isn't the whole story: we can use `if`...`else`..., with the command after `else` acting as a fall back, for example,"
   ]
  },
  {
   "cell_type": "code",
   "execution_count": null,
   "metadata": {},
   "outputs": [],
   "source": [
    "x = 2\n",
    "if x < 2:\n",
    "  print(\"x is less than 2\")\n",
    "else:\n",
    "  print(\"x is not less than 2\")"
   ]
  },
  {
   "cell_type": "markdown",
   "metadata": {},
   "source": [
    "Or, for even more options, `if`...`elif`...`else`..."
   ]
  },
  {
   "cell_type": "code",
   "execution_count": null,
   "metadata": {},
   "outputs": [],
   "source": [
    "x = 2\n",
    "if x < 2:\n",
    "    print(\"x is less than 2\")\n",
    "elif x == 2:\n",
    "    print(\"x is equal to 2\")\n",
    "else:\n",
    "    print(\"x is greater than 2\")"
   ]
  },
  {
   "cell_type": "markdown",
   "metadata": {},
   "source": [
    "Take note again of the indenting. This is particularly important for nested clauses. The following is an alternative to the `while` loop above:"
   ]
  },
  {
   "cell_type": "code",
   "execution_count": null,
   "metadata": {},
   "outputs": [],
   "source": [
    "s = 0\n",
    "for n in range(100):\n",
    "    n += 1    # increment the counter\n",
    "    s += n    # calculate the new sum  \n",
    "    if s > 1000:\n",
    "        break\n",
    "\n",
    "# Output the results\n",
    "print(s)"
   ]
  },
  {
   "cell_type": "markdown",
   "metadata": {},
   "source": [
    "Here the command `break` ends the for loop when `s > 1000`. Of course this wasn't as good as our while loop as we had to guess how many iterations to use (i.e. that 100 was large enough). Notice how we can see which commands go with the `if` and `for` respectively, thanks to the indenting.\n",
    "\n",
    "\n",
    "\n",
    "\n",
    "### Control flow and array elements\n",
    "\n",
    "Recall that we can query a single element of a list or array like this:"
   ]
  },
  {
   "cell_type": "code",
   "execution_count": null,
   "metadata": {},
   "outputs": [],
   "source": [
    "x = [2,5,8,5]\n",
    "print(x[2])"
   ]
  },
  {
   "cell_type": "markdown",
   "metadata": {},
   "source": [
    "We can also update the value inside a list:"
   ]
  },
  {
   "cell_type": "code",
   "execution_count": null,
   "metadata": {},
   "outputs": [],
   "source": [
    "x = [2,5,8,5]\n",
    "x[2] = 4\n",
    "print(x)"
   ]
  },
  {
   "cell_type": "markdown",
   "metadata": {},
   "source": [
    "We could use this inside a for loop. Remember earlier how we filled a list with values from a series using elementwise arithmetic? Suppose we try to fill an array t with values. We might expect that we could do this to update the n-th element of `t` at each iteration, but not quite. Python is happy over-writing array values, but isn't happy if they don't yet exist. So this doesn't work:"
   ]
  },
  {
   "cell_type": "code",
   "execution_count": null,
   "metadata": {},
   "outputs": [],
   "source": [
    "t = []\n",
    "for n in range(0,10):\n",
    "  t[n] = n**2"
   ]
  },
  {
   "cell_type": "markdown",
   "metadata": {},
   "source": [
    "The solution is to either append, as we did in exercise 1"
   ]
  },
  {
   "cell_type": "code",
   "execution_count": null,
   "metadata": {},
   "outputs": [],
   "source": [
    "t = []\n",
    "for n in range(0,10):\n",
    "  t.append(n**2)"
   ]
  },
  {
   "cell_type": "markdown",
   "metadata": {},
   "source": [
    "or, using NumPy, initialise `t` as an empty array first using the `np.zeros()` function"
   ]
  },
  {
   "cell_type": "code",
   "execution_count": null,
   "metadata": {},
   "outputs": [],
   "source": [
    "import numpy as np\n",
    "t = np.zeros(10)\n",
    "for n in range(0,10):\n",
    "  t[n] = n**2"
   ]
  },
  {
   "cell_type": "markdown",
   "metadata": {},
   "source": [
    "then the code works perfectly. Check with"
   ]
  },
  {
   "cell_type": "code",
   "execution_count": null,
   "metadata": {},
   "outputs": [],
   "source": [
    "print(t)"
   ]
  },
  {
   "cell_type": "markdown",
   "metadata": {},
   "source": [
    "Note this is the same as"
   ]
  },
  {
   "cell_type": "code",
   "execution_count": null,
   "metadata": {},
   "outputs": [],
   "source": [
    "n = np.arange(0,10)\n",
    "t = n**2"
   ]
  },
  {
   "cell_type": "markdown",
   "metadata": {},
   "source": [
    "### Interlude: Code timing {: .interlude}\n",
    "\n",
    "The Python module *time* has a function `time()` that you can use to time your code (think we have enough \"times\" in that sentence!).\n",
    "\n",
    "Copy the following code into a Python script and run it..."
   ]
  },
  {
   "cell_type": "code",
   "execution_count": null,
   "metadata": {},
   "outputs": [],
   "source": [
    "# If your nmax is too big put your cursor in the\n",
    "# console and use CTRL-C to stop execution!\n",
    "\n",
    "import time\n",
    "import numpy as np\n",
    "\n",
    "# Size of array\n",
    "nmax = 1000000\n",
    "\n",
    "# Test using for loop\n",
    "print(\"Testing for loop\")\n",
    "start = time.time()  \n",
    "x = np.zeros(nmax)\n",
    "for n in np.arange(nmax):\n",
    "    x[n] = n**3+n**2+n\n",
    "    \n",
    "end = time.time()\n",
    "print(end-start)\n",
    "\n",
    "# Test using vector arithmetic\n",
    "print(\"Testing vector arithmetic\")\n",
    "start = time.time()      \n",
    "n = np.arange(nmax)\n",
    "x = n**3+n**2+n\n",
    "end = time.time()\n",
    "print(end-start)"
   ]
  },
  {
   "cell_type": "markdown",
   "metadata": {},
   "source": [
    "Which was fastest, vector arithmetic or a for loop? If neither took too long then add a zero to `nmax`. Be careful not to kill your machine though (see useful hint at the top of the script)!\n",
    "\n",
    "## List comprehension\n",
    "\n",
    "List comprehension is the fancy name for another way to iterate through lists (or NumPy arrays). The syntax is as follows"
   ]
  },
  {
   "cell_type": "code",
   "execution_count": null,
   "metadata": {},
   "outputs": [],
   "source": [
    "[expression for item in list]"
   ]
  },
  {
   "cell_type": "markdown",
   "metadata": {},
   "source": [
    "and it's a really neat way to do things like query which elements in a list satisfy a certain condition. Here's an example"
   ]
  },
  {
   "cell_type": "code",
   "execution_count": null,
   "metadata": {
    "attributes": {
     "classes": [
      "python "
     ],
     "id": ""
    }
   },
   "outputs": [],
   "source": [
    "a = [1,2,3,4,5,6]\n",
    "[x > 2 for x in a]"
   ]
  },
  {
   "cell_type": "code",
   "execution_count": null,
   "metadata": {
    "attributes": {
     "classes": [
      "output"
     ],
     "id": ""
    }
   },
   "outputs": [],
   "source": [
    "[False, False, True, True, True, True]"
   ]
  },
  {
   "cell_type": "markdown",
   "metadata": {},
   "source": [
    "or, with a slightly different syntax, return values that satisfy a condition. `%` is the modulo operator, so `x % 2` gives the remainder when `x` is divided by 2."
   ]
  },
  {
   "cell_type": "code",
   "execution_count": null,
   "metadata": {},
   "outputs": [],
   "source": [
    "even_numbers = [ x for x in a if x % 2 == 0]\n",
    "print(even_numbers)"
   ]
  },
  {
   "cell_type": "code",
   "execution_count": null,
   "metadata": {
    "attributes": {
     "classes": [
      "output"
     ],
     "id": ""
    }
   },
   "outputs": [],
   "source": [
    "[2, 4, 6]"
   ]
  },
  {
   "cell_type": "markdown",
   "metadata": {},
   "source": [
    "### Exercise 3.2 {: .exercise}\n",
    "\n",
    "Here's an exercise on list comprehension:\n",
    "\n",
    "\n",
    "<numbas-embed data-url=\"https://numbas.mathcentre.ac.uk/question/77923/list-comprehension/embed/?token=13575975-74e0-49db-899d-0324825f68e1\" data-id=\"exercise-3-2\" data-cta=\"Show Exercise\"></numbas-embed>\n",
    "\n",
    "\n",
    "\n",
    "\n",
    "\n",
    "\n",
    "## Functions\n",
    "\n",
    "Python makes it possible to write your own functions, which take some input and return a value or values, in just the same way as Python's built-in functions. This helps to keep your Python code as modular as possible.\n",
    "\n",
    "The syntax for creating a function is as follows:"
   ]
  },
  {
   "cell_type": "code",
   "execution_count": null,
   "metadata": {},
   "outputs": [],
   "source": [
    "def my_func():\n",
    "  print(\"My function prints this\")"
   ]
  },
  {
   "cell_type": "markdown",
   "metadata": {},
   "source": [
    "Note a similar syntax as for control flow: the function begins with the keyword `def` and then the function name \"my_func\". This is followed by input arguments inside brackets - for this function there are none, and finally a colon. The contents of the function are then indented. \n",
    "\n",
    "We can call the function with"
   ]
  },
  {
   "cell_type": "code",
   "execution_count": null,
   "metadata": {},
   "outputs": [],
   "source": [
    "my_func()"
   ]
  },
  {
   "cell_type": "markdown",
   "metadata": {},
   "source": [
    "either from the same file or the Console.\n",
    "\n",
    "Now let's add an input parameter to our function and a more descriptive name:"
   ]
  },
  {
   "cell_type": "code",
   "execution_count": null,
   "metadata": {},
   "outputs": [],
   "source": [
    "def zoo_visit(animal):\n",
    "  print(\"I went to the zoo and saw a {}\".format(animal))\n",
    "\n",
    "zoo_visit(\"koala\")\n",
    "zoo_visit(\"panda\")\n",
    "zoo_visit(\"sun bear\")"
   ]
  },
  {
   "cell_type": "markdown",
   "metadata": {},
   "source": [
    "Did I mention that I like bears?\n",
    "\n",
    "Any data type can be sent to a function. Here's a list, with a for loop to print each value - pay careful attention to the indenting:"
   ]
  },
  {
   "cell_type": "code",
   "execution_count": null,
   "metadata": {},
   "outputs": [],
   "source": [
    "def print_my_list(list):\n",
    "  for x in list:\n",
    "    print(x)\n",
    "\n",
    "print_my_list([1,5,2,6])"
   ]
  },
  {
   "cell_type": "markdown",
   "metadata": {},
   "source": [
    "And a simple one with a number"
   ]
  },
  {
   "cell_type": "code",
   "execution_count": null,
   "metadata": {},
   "outputs": [],
   "source": [
    "def square_a_number(x):\n",
    "  print(x**2)\n",
    "\n",
    "square_a_number(2)"
   ]
  },
  {
   "cell_type": "markdown",
   "metadata": {},
   "source": [
    "All of the above examples print something. The functions we have been using however return a value which can be assigned to a variable. For example at the moment this does not do what we might like"
   ]
  },
  {
   "cell_type": "code",
   "execution_count": null,
   "metadata": {},
   "outputs": [],
   "source": [
    "x = square_a_number(2)"
   ]
  },
  {
   "cell_type": "markdown",
   "metadata": {},
   "source": [
    "To return a value (or values) from a function we need to use a `return` statement. This is done as follows:"
   ]
  },
  {
   "cell_type": "code",
   "execution_count": null,
   "metadata": {},
   "outputs": [],
   "source": [
    "def square_a_number(x):\n",
    "  return x**2\n",
    "\n",
    "x = square_a_number(5)\n",
    "print(x)"
   ]
  },
  {
   "cell_type": "markdown",
   "metadata": {},
   "source": [
    "Note that the `x` in the function argument and the `x` outside the function are completely unrelated. This is known as the scope of a variable.\n",
    "\n",
    "Now let's extend this by accepting two input arguments:"
   ]
  },
  {
   "cell_type": "code",
   "execution_count": null,
   "metadata": {},
   "outputs": [],
   "source": [
    "def show_me_the_bigger(a,b):\n",
    "  print(max([a,b]))\n",
    "\n",
    "show_me_the_bigger(4,5)"
   ]
  },
  {
   "cell_type": "markdown",
   "metadata": {},
   "source": [
    "### Exercise 3.3 {: .exercise}\n",
    "\n",
    "Some function practice.\n",
    "\n",
    "<numbas-embed data-url=\"https://numbas.mathcentre.ac.uk/question/77921/cube-and-add/embed/?token=0ada47f0-dbe2-4328-8a44-f6d6221bbb4f\" data-id=\"exercise-3-3\" data-cta=\"Show Exercise\"></numbas-embed>\n",
    "\n",
    "\n",
    "### Exercise 3.4 {: .exercise}\n",
    "\n",
    "In this exercise we'll bring the work we did in exercise 3.1 into a function.\n",
    "\n",
    "<numbas-embed data-url=\"https://numbas.mathcentre.ac.uk/question/77903/python-factorial-function/embed/?token=522fd000-9e46-41e2-b2cc-0e98c00a297b\" data-id=\"exercise-3-4\" data-cta=\"Show Exercise\"></numbas-embed>\n",
    "\n",
    "\n",
    "### Function finishing touches\n",
    "\n",
    "#### Adding help to your function\n",
    "\n",
    "A comment contained within three quotes ```\"\"\"``` at the start of our custom function is used to display help. It is known as a *docstring* (documentation string)"
   ]
  },
  {
   "cell_type": "code",
   "execution_count": null,
   "metadata": {},
   "outputs": [],
   "source": [
    "import numpy as np\n",
    "import matplotlib.pyplot as plt\n",
    "\n",
    "def sin_plus_cos(x):\n",
    "   \"\"\" Takes in a value x and \n",
    "       returns cos(x)+sin(x) \"\"\"\n",
    "   return np.cos(x)+np.sin(x)\n"
   ]
  },
  {
   "cell_type": "markdown",
   "metadata": {},
   "source": [
    "Test your help with"
   ]
  },
  {
   "cell_type": "code",
   "execution_count": null,
   "metadata": {},
   "outputs": [],
   "source": [
    "help(sin_plus_cos)"
   ]
  },
  {
   "cell_type": "markdown",
   "metadata": {},
   "source": [
    "#### Error handling\n",
    "\n",
    "One thing that we haven't touched upon this week, but we will pick up next is error handling. In other words displaying sensible messages to the user of your function when the input is invalid or causes trouble. \n",
    "\n",
    "In particular we'll use this to return a message if the starting guess for our root finding algorithms causes trouble. \n",
    "\n",
    "***\n",
    "\n",
    "\n",
    "# 2) Root finding\n",
    "\n",
    "\n",
    "We are interested in using Python to find solutions to equations like\n",
    "\n",
    "$$ x^2 - 2 = 0 $$\n",
    "\n",
    "chosen because we know the answer, so can easily check our working! And later more complicated functions. \n",
    "\n",
    "<!--\n",
    "### What is an algorithm? \n",
    "\n",
    "An algorithm is a set of instructions (code) given to a computer (Python) to solve a problem. \n",
    "\n",
    "It is analagous to the instructions given to a cook to bake a cake. In that analogy, the cake is the problem, the cook is the computer and the recipe the computer code. \n",
    "\n",
    "I often find it useful to **sketch out** on a piece of paper what I'm going to put in my code before I start in **pseudo code** (a plain text description of the algorithm without too much concern for programming syntax). These are often entirely unreadable, and that's fine, they end up in the bin in no time at all, but when I prepared for this week, I knew I'd want to take a photo, so I made a special effort to keep my handwriting under control...\n",
    "\n",
    "![My tidy desk](/static/images/week2/sketch.jpg){width=70%}\n",
    "\n",
    "You might find it useful to do the same. If you do then the level of text vs coding is a very personal thing. There's no right or wrong way really - whatever helps you to go from a problem to a solution.\n",
    "\n",
    "\n",
    "### Algorithm practice\n",
    "\n",
    "Consider the task of finding out if an integer number is prime. I would break this into 3 points:\n",
    "\n",
    "* Ensure that the task is laid out in detail\n",
    "* Sketch out what the code will look like in pseudo code\n",
    "* Implement in Python\n",
    "\n",
    "**Step 1**, I've set out below a description of the task in detail\n",
    "\n",
    "* We will be starting with an integer number $n$, which might be the input to a function.\n",
    "* If $n > 1$ then it might be a prime number.\n",
    "* It is prime if it does not divide exactly by any of the numbers between $2$ and $n-1$ (will require a for loop).\n",
    "* The answer is going to be either \"yes\" or \"no\", which could be returned as a boolean, True or False.\n",
    "\n",
    "\n",
    "**Step 2**, let's now write down the step by step instructions in pseudo code"
   ]
  },
  {
   "cell_type": "code",
   "execution_count": null,
   "metadata": {},
   "outputs": [],
   "source": [
    "start with an integer number n\n",
    "if n is <= 1, then n is not prime\n",
    "if n is > 1\n",
    "  Assume n is prime unless we later find it isn't: so set n_prime = True\n",
    "  for i = each number between 2 and n-1\n",
    "     if n modulo i is 0\n",
    "        n_prime = False\n",
    "        exit the for loop (break)\n",
    "  return the value of n_prime"
   ]
  },
  {
   "cell_type": "markdown",
   "metadata": {},
   "source": [
    "Now **step 3**, let's try to code it up.\n",
    "\n",
    "#### Exercise 3.5 {: .exercise}\n",
    "\n",
    "Have a go at coding this in Python. Take it one step at a time inserting the syntax from earlier in the handout. As a hint, `n % i == 0` returns true if n divides by i without remainder.\n",
    "\n",
    "<button class=\"btn btn-primary toggle\" type=\"button\" data-toggle=\"collapse\" data-target=\"#exercise6\" aria-expanded=\"false\" aria-controls=\"exercise6\">\n",
    "<span id=\"txt\">Show</span> exercise >\n",
    "</button> \n",
    "<div class=\"collapse\" id=\"exercise6\">\n",
    "<iframe class=\"numbas\" data-src=\"../../static/numbas/week3/question-91625-function-is-prime/index.html\" src=\"about:blank\" id=\"exercise6\"></iframe>\n",
    "</div>\n",
    "\n",
    "-->\n",
    "\n",
    "\n",
    "## The Bisection Method\n",
    "\n",
    "The bisection method homes-in on a root of a function f(x) using systematic trial and error:\n",
    "\n",
    "* Identify lower and upper bounds $[x_l, x_h]$, such that $f(x_l)<0$ and $f(x_{h})>0$, The root $x_*$ is therefore in between: $x_l < x_* < x_h$.\n",
    "\n",
    "* Evaluate the function at the midpoint of the bound (is it positive or negative?) to eliminate half of the range.\n",
    "\n",
    "* Repeat until $x_h - x_l$ is sufficiently small.\n",
    "\n",
    "In the below animation (thanks Wikipedia!) the upper bound is $a$, lower bound is $b$ and the midpoint is $c$:\n",
    "\n",
    "![Animation of the bisection method](/static/images/week2/bisection_animation.gif){width=65%}\n",
    "\n",
    "The following exercise will guide you through the first few steps in that process.\n",
    "\n",
    "#### Exercise 3.5 {: .exercise}\n",
    "\n",
    "<numbas-embed data-url=\"https://numbas.mathcentre.ac.uk/question/77968/bisection-method-first-steps/embed/?token=21257cba-a07d-491c-ad34-04bd8929e76d\" data-id=\"exercise-3-5\" data-cta=\"Show Exercise\"></numbas-embed>\n",
    "\n",
    "\n",
    "\n",
    "\n",
    "### Bisection Method algorithm\n",
    "\n",
    "The algorithm can be coded up as follows, using a while loop to continue until the upper and lower bound are separated by a value less than some variable specified with `eps` (for epsilon)."
   ]
  },
  {
   "cell_type": "code",
   "execution_count": null,
   "metadata": {},
   "outputs": [],
   "source": [
    "# the function I'm interested in\n",
    "def func(x):\n",
    "    return x**2-2\n",
    "\n",
    "# initialise the upper and lower bounds. I'm choosing 1 and 2\n",
    "xl = 1 # Initial lower bound\n",
    "xh = 2 # Initial upper bound\n",
    "\n",
    "# Loop whiles xh - xl is bigger than eps, chosen to be small\n",
    "eps = 0.00000001\n",
    "\n",
    "while xh - xl > eps:\n",
    "\n",
    "    # find xmid\n",
    "    xmid = (xl+xh)/2\n",
    "\n",
    "    # Evaluate at xmid. If it's larger than zero move the upper bound down\n",
    "    if func(xmid) > 0:\n",
    "        xh = xmid\n",
    "    # else move the lower bound up\n",
    "    else:\n",
    "        xl = xmid\n",
    "\n",
    "    # print the midpoint\n",
    "    print(xmid)\n"
   ]
  },
  {
   "cell_type": "markdown",
   "metadata": {},
   "source": [
    "Note that my algorithm relies on my upper bound being greater than my lower bound. This works OK here, but you might like to change this so that the absolute difference is greater than epsilon.\n",
    "\n",
    "\n",
    "## The Newton-Raphson Method\n",
    "\n",
    "### Method description\n",
    "\n",
    "Newton’s method, also called the Newton-Raphson method, uses the derivative of the function $f(x)$ to move closer to the root $x_{*}$, starting from an initial guess for the root (not a range as used by the bisection method). \n",
    "\n",
    "The method goes as follows:\n",
    "\n",
    "* approximate the function by its gradient at some initial guess $x$\n",
    "\n",
    "* Find where the gradient crosses the x-axis\n",
    "\n",
    "* this point will generally be closer to the root than $x$ \n",
    "\n",
    "* repeat until the accuracy criterion is met. \n",
    "\n",
    "*Above: Schematic representation of Newton’s method for finding the root of $f(x) = x^2-2$, the curve shown as a thick black line. The initial guess is $x_0 = 3$ shown as a red circle, the red line through this circle is the gradient of $f(x)$ at $x_0$. The intercept of $f'(x_0)$ and the x-axis gives the new estimate for the root, $x_1$, the blue circle near $x = 1.8$. The gradient of $f(x)$ at $x_1$ is the blue line, which leads to the next estimate for the root, $x_2$, shown by the black circle near $x = 1.5$. And so on...*\n",
    "\n",
    "\n",
    "![Animation of the Newton-Raphson Method](/static/images/week2/newtonrhapson_animation.gif){width=65%}\n",
    "\n",
    "<small>Image: Wikipedia</small>\n",
    "\n",
    "We can derive the basic iteration by solving the equation for a straight line between two points, $y-y_1=m(x-x_1)$, to obtain the intersection of the $x$-axis and a tangent line to a curve $y = f(x)$. \n",
    "\n",
    "Suppose our starting guess\n",
    "for the root is $x_0$, so the corresponding y-coordinate is $f(x_0)$. The gradient at $x_0$ is $df(x_0)/dx = f'(x_0)$\n",
    "\n",
    "We want to know the value of x where the tangent line to the curve at $x_0$ (i.e. the gradient) crosses the x-axis. Call the intersection point $(x_1, y_1)$ where $y_1 = 0$. \n",
    "\n",
    "Using the equation for a straight\n",
    "line between two points, we have $f(x_0)-0=f'(x_0)(x_0-x_1)$, or\n",
    "\n",
    "$$x_1 = x_0-\\frac{f(x_0)}{f'(x_0)}$$\n",
    "\n",
    "The iteration steps for the Newton-Raphson Method are thus described by the recurrence relation\n",
    "\n",
    "$$ x_{n}=x_{n-1}-\\frac{f(x_{n-1})}{f'(x_{n-1})}$$\n",
    "\n",
    "Newton’s method is faster than the bisection method when it works. But its applicability is more\n",
    "restricted: f(x) must be smooth (differentiable everywhere), it is necessary to evaluate the derivative $f'$ and the starting point must be a pretty good guess. If these conditions are not met the algorithm may converge on the\n",
    "root very slowly or not converge at all.\n",
    "\n",
    "\n",
    "### Coding the Newton-Raphson Method\n",
    "\n",
    "In this case, we need to set up two Python functions, one for the function itself and one for its derivative:"
   ]
  },
  {
   "cell_type": "code",
   "execution_count": null,
   "metadata": {},
   "outputs": [],
   "source": [
    "def f(x):\n",
    "  return x**2 - 2"
   ]
  },
  {
   "cell_type": "code",
   "execution_count": null,
   "metadata": {},
   "outputs": [],
   "source": [
    "def dfdx(x):\n",
    "  return 2*x"
   ]
  },
  {
   "cell_type": "markdown",
   "metadata": {},
   "source": [
    "We could store each `x_n` in an array, but actually we only need memory of the most recent value for this method. So we could let a variable `x` be our initial guess"
   ]
  },
  {
   "cell_type": "code",
   "execution_count": null,
   "metadata": {},
   "outputs": [],
   "source": [
    "x = 3"
   ]
  },
  {
   "cell_type": "markdown",
   "metadata": {},
   "source": [
    "then overwrite it with an updated value for `x`, given by"
   ]
  },
  {
   "cell_type": "code",
   "execution_count": null,
   "metadata": {},
   "outputs": [],
   "source": [
    "x = x - f(x)/dfdx(x)"
   ]
  },
  {
   "cell_type": "code",
   "execution_count": null,
   "metadata": {
    "attributes": {
     "classes": [
      "output"
     ],
     "id": ""
    }
   },
   "outputs": [],
   "source": [
    "1.83"
   ]
  },
  {
   "cell_type": "markdown",
   "metadata": {},
   "source": [
    "Running that line again"
   ]
  },
  {
   "cell_type": "code",
   "execution_count": null,
   "metadata": {},
   "outputs": [],
   "source": [
    "x = x - f(x)/dfdx(x)"
   ]
  },
  {
   "cell_type": "code",
   "execution_count": null,
   "metadata": {
    "attributes": {
     "classes": [
      "output"
     ],
     "id": ""
    }
   },
   "outputs": [],
   "source": [
    "1.46"
   ]
  },
  {
   "cell_type": "markdown",
   "metadata": {},
   "source": [
    "and again"
   ]
  },
  {
   "cell_type": "code",
   "execution_count": null,
   "metadata": {},
   "outputs": [],
   "source": [
    "x = x - f(x)/dfdx(x)"
   ]
  },
  {
   "cell_type": "code",
   "execution_count": null,
   "metadata": {
    "attributes": {
     "classes": [
      "output"
     ],
     "id": ""
    }
   },
   "outputs": [],
   "source": [
    "1.41"
   ]
  },
  {
   "cell_type": "markdown",
   "metadata": {},
   "source": [
    "and so on. Note that as `x` approaches the root, `f(x)` approaches zero, so we could put this into a while loop as follows:"
   ]
  },
  {
   "cell_type": "code",
   "execution_count": null,
   "metadata": {},
   "outputs": [],
   "source": [
    "eps = 0.0000001\n",
    "while f(x)>eps:\n",
    "   x = x - f(x)/dfdx(x)"
   ]
  },
  {
   "cell_type": "markdown",
   "metadata": {},
   "source": [
    "The whole thing might look like"
   ]
  },
  {
   "cell_type": "code",
   "execution_count": null,
   "metadata": {},
   "outputs": [],
   "source": [
    "def f(x):\n",
    "  return x**2 - 2\n",
    "\n",
    "def dfdx(x):\n",
    "  return 2*x\n",
    "\n",
    "# Starting guess\n",
    "x = 3\n",
    "\n",
    "# Chose an epsilon value\n",
    "eps = 0.0000001\n",
    "\n",
    "# While loop \n",
    "while abs(f(x))>eps:\n",
    "   x = x - f(x)/dfdx(x)\n",
    "   \n",
    "print(x)"
   ]
  },
  {
   "cell_type": "markdown",
   "metadata": {},
   "source": [
    "Note that `f(x)>eps` relies on `f(x)` being positive, so I've changed this to `abs(f(x)) > eps` to be safer.\n",
    "\n",
    "\n",
    "#### Exercise 3.6 {: .exercise}\n",
    "\n",
    "\n",
    "<numbas-embed data-url=\"https://numbas.mathcentre.ac.uk/question/106823/newton-raphson-use-code/embed/?token=3025867d-bffd-4325-86e9-d749ad56fc59\" data-id=\"exercise-3-6\" data-cta=\"Show Exercise\"></numbas-embed>\n",
    "\n",
    "\n",
    "\n",
    "\n",
    "\n",
    "\n",
    "## Next time\n",
    "\n",
    "Next week we'll make these methods more sophisticated, including turning them into functions, and we'll look at some built-in Python functions for root finding.\n",
    "\n",
    "\n",
    "### Bonus Question {: .interlude}\n",
    "\n",
    "This week's bonus question comes from Greece / Libya.\n",
    "\n",
    "<numbas-embed data-url=\"https://numbas.mathcentre.ac.uk/question/106629/eratosthenes-and-the-stadia-simplification/embed/?token=b6f26ed4-10af-4e51-8795-098f2d429978\" data-id=\"exercise-3-7\" data-cta=\"Show Exercise\"></numbas-embed>"
   ]
  }
 ],
 "metadata": {},
 "nbformat": 4,
 "nbformat_minor": 4
}
