{
 "cells": [
  {
   "cell_type": "markdown",
   "metadata": {},
   "source": [
    "# MAS2806/PHY2039 Handout 2\n",
    "\n",
    "\n",
    "Welcome to the handout for the second week of Python material.\n",
    "\n",
    "\n",
    "## Recap: lists, arrays and plotting\n",
    "\n",
    "\n",
    "Last week we looked at creating lists in Python (square brackets):"
   ]
  },
  {
   "cell_type": "code",
   "execution_count": 35,
   "metadata": {},
   "outputs": [],
   "source": [
    "x = [5,3,2]"
   ]
  },
  {
   "cell_type": "markdown",
   "metadata": {},
   "source": [
    "but these had the limitation that it was not possible to, for example, square each value."
   ]
  },
  {
   "cell_type": "code",
   "execution_count": 36,
   "metadata": {},
   "outputs": [
    {
     "ename": "TypeError",
     "evalue": "unsupported operand type(s) for ** or pow(): 'list' and 'int'",
     "output_type": "error",
     "traceback": [
      "\u001b[0;31m---------------------------------------------------------------------------\u001b[0m",
      "\u001b[0;31mTypeError\u001b[0m                                 Traceback (most recent call last)",
      "\u001b[0;32m<ipython-input-36-7ae86c4b6ef1>\u001b[0m in \u001b[0;36m<module>\u001b[0;34m\u001b[0m\n\u001b[0;32m----> 1\u001b[0;31m \u001b[0mprint\u001b[0m\u001b[0;34m(\u001b[0m\u001b[0mx\u001b[0m\u001b[0;34m**\u001b[0m\u001b[0;36m2\u001b[0m\u001b[0;34m)\u001b[0m   \u001b[0;31m# returns an error!\u001b[0m\u001b[0;34m\u001b[0m\u001b[0;34m\u001b[0m\u001b[0m\n\u001b[0m",
      "\u001b[0;31mTypeError\u001b[0m: unsupported operand type(s) for ** or pow(): 'list' and 'int'"
     ]
    }
   ],
   "source": [
    "print(x**2)   # returns an error!"
   ]
  },
  {
   "cell_type": "markdown",
   "metadata": {},
   "source": [
    "We introduced the NumPy module, including a new object type that could accomodate element-wise arithmetic:"
   ]
  },
  {
   "cell_type": "code",
   "execution_count": null,
   "metadata": {},
   "outputs": [],
   "source": [
    "import numpy as np\n",
    "x = np.array([5,3,2])\n",
    "print(x**2)"
   ]
  },
  {
   "cell_type": "markdown",
   "metadata": {},
   "source": [
    "We saw several different ways to create a NumPy array:"
   ]
  },
  {
   "cell_type": "code",
   "execution_count": null,
   "metadata": {},
   "outputs": [],
   "source": [
    "x = np.array([5,3,2])   # Take a list as input, turn into an array\n",
    "y = np.arange(1,6)      # Sequence of values \n",
    "z = np.linspace(0,1,5)  # Linearly spaced values"
   ]
  },
  {
   "cell_type": "markdown",
   "metadata": {},
   "source": [
    "And we created some plots:"
   ]
  },
  {
   "cell_type": "code",
   "execution_count": null,
   "metadata": {},
   "outputs": [],
   "source": [
    "import numpy as np\n",
    "import matplotlib.pyplot as plt\n",
    "\n",
    "x = np.linspace(0,10,100)\n",
    "plt.plot(x,x**2)"
   ]
  },
  {
   "cell_type": "markdown",
   "metadata": {},
   "source": [
    "### Exercise 2.1: \n",
    "\n",
    "<a href=\"https://numbas.mathcentre.ac.uk/question/106150/numpy-array-functions/embed/?token=0a342d94-6a9f-48d7-804f-d1d539699fb4\">Go to the exercise on Numbas</a>\n",
    "\n",
    "Here's a quick exercise to reinforce these different ways of creating NumPy arrays (and lists) before we move on\n",
    "\n",
    "\n",
    "\n",
    "## `polyfit` and `polyval`\n",
    "\n",
    "Let's pick up where we left off last week:\n",
    "\n",
    "\n",
    "Last week we looked at the `polyfit` function, which uses the least-squares method to find the coefficients of the polynomial of a specified degree that best fits some data points:"
   ]
  },
  {
   "cell_type": "code",
   "execution_count": null,
   "metadata": {},
   "outputs": [],
   "source": [
    "p = np.polyfit(x, y, n)"
   ]
  },
  {
   "cell_type": "markdown",
   "metadata": {},
   "source": [
    "The input arguments are\n",
    "\n",
    "* `x`, a vector of independent data points.\n",
    "* `y`, a vector of dependent data points.\n",
    "* `n`, the degree of the polynomial to fit. \n",
    "\n",
    "And the output (`p` here) is a vector of coefficients for the specified polynomial."
   ]
  },
  {
   "cell_type": "code",
   "execution_count": null,
   "metadata": {},
   "outputs": [],
   "source": [
    "import numpy as np\n",
    "import matplotlib.pyplot as plt\n",
    "\n",
    "# Data points\n",
    "x = [1,2,3,4]\n",
    "y = [5.5,7.0,9.5,9.9]\n",
    "plt.plot(x,y,'x')\n",
    "\n",
    "# Fit a*x+b\n",
    "p = np.polyfit(x, y, 1)\n",
    "\n",
    "print(p)"
   ]
  },
  {
   "cell_type": "markdown",
   "metadata": {},
   "source": [
    "`polyfit` returns an array of two values. These are the values proposed for my two parameters $a$ and $b$. We read the above output as \n",
    "\n",
    "$$ 1.57x + 4.05 $$\n",
    "\n",
    "in other words the coefficents are read in descending powers.\n",
    "\n",
    "Recall that array elements can be retrieved by using their index (like the index of a book!), for example the first element in `p` has index 0 and is"
   ]
  },
  {
   "cell_type": "code",
   "execution_count": 37,
   "metadata": {},
   "outputs": [
    {
     "data": {
      "text/plain": [
       "0.3138880250360917"
      ]
     },
     "execution_count": 37,
     "metadata": {},
     "output_type": "execute_result"
    }
   ],
   "source": [
    "p[0]"
   ]
  },
  {
   "cell_type": "markdown",
   "metadata": {},
   "source": [
    "which will return the value 1.57.\n",
    "\n",
    "We can now use these values to construct a nice fit to our data. Let `x1` be a vector of points, let's say 100 values between 0 and 5. Then use the values in `p` to define `y1`, our best fit function."
   ]
  },
  {
   "cell_type": "code",
   "execution_count": 38,
   "metadata": {},
   "outputs": [
    {
     "data": {
      "text/plain": [
       "[<matplotlib.lines.Line2D at 0x1181d9cd0>]"
      ]
     },
     "execution_count": 38,
     "metadata": {},
     "output_type": "execute_result"
    },
    {
     "data": {
      "image/png": "[encoded data removed]",
      "text/plain": [
       "<Figure size 432x288 with 1 Axes>"
      ]
     },
     "metadata": {
      "needs_background": "light"
     },
     "output_type": "display_data"
    }
   ],
   "source": [
    "x1 = np.linspace(0,5,100)\n",
    "y1 = p[0]*x1+p[1]\n",
    "\n",
    "plt.plot(x1,y1)"
   ]
  },
  {
   "cell_type": "markdown",
   "metadata": {},
   "source": [
    "Notice that I've not typed in the values `1.57` and `4.05`: this is on purpose as it reduces the potential for error or rounding issues. \n",
    "\n",
    "### Using `polyval`\n",
    "\n",
    "<!--*[Link to the MATLAB documentation for polyval](https://uk.mathworks.com/help/matlab/ref/polyval.html){target=\"_blank\"}*-->\n",
    "\n",
    "Using `p[0]` and `p[1]` was an improvement on writing out the values from `p`. However, as we move to higher degree polynomials, the line"
   ]
  },
  {
   "cell_type": "code",
   "execution_count": 39,
   "metadata": {},
   "outputs": [],
   "source": [
    "y1 = p[0]*x1+p[1]"
   ]
  },
  {
   "cell_type": "markdown",
   "metadata": {},
   "source": [
    "is going to become more and more elaborate, for example for a quadratic it will be\n",
    "\n",
    "`y1 = p[0]*pow(x1,2)+p[1]*x1+p[2]`"
   ]
  },
  {
   "cell_type": "markdown",
   "metadata": {},
   "source": [
    "The NumPy function `polyval` is provided for convenience, to return a vector of values for a polynomial `p` evaluated along array `x`. It lets us re-write this specific line in the above code"
   ]
  },
  {
   "cell_type": "code",
   "execution_count": 40,
   "metadata": {},
   "outputs": [],
   "source": [
    "y1 = p[0]*x1+p[1]"
   ]
  },
  {
   "cell_type": "markdown",
   "metadata": {},
   "source": [
    "as"
   ]
  },
  {
   "cell_type": "code",
   "execution_count": 41,
   "metadata": {},
   "outputs": [],
   "source": [
    "y1 = np.polyval(p,x1)"
   ]
  },
  {
   "cell_type": "markdown",
   "metadata": {},
   "source": [
    "`polyval` takes the coefficients in `p`, identifies what the function is that is being fitted (based on the fact it is a polynomial and it can figure out the degree from the length of `p`) and uses that information to evaluate the polynomial at each of `x1`. Very clever.\n",
    "\n",
    "The values in `y1` are identical. The problem with the first of the two commands above is that we have *hard-coded* in that the polynomial is of degree 1. I can't change the degree of the polynomial in the `polyfit` function without also changing the definition of `y1`.\n",
    "\n",
    "The second way, using `polyval`, I can simply change the `polyfit` function and the rest takes care of itself:"
   ]
  },
  {
   "cell_type": "code",
   "execution_count": 43,
   "metadata": {},
   "outputs": [],
   "source": [
    "x = [1,2,3,4];\n",
    "y = [5.5,7.0,9.5,9.9];\n",
    "# You can change this line to change the degree\n",
    "p = np.polyfit(x,y,2)    \n",
    " # And this line works without any change\n",
    "y1 = np.polyval(p,x1)   "
   ]
  },
  {
   "cell_type": "markdown",
   "metadata": {},
   "source": [
    "So now the whole thing looks something like"
   ]
  },
  {
   "cell_type": "code",
   "execution_count": null,
   "metadata": {},
   "outputs": [],
   "source": [
    "import numpy as np\n",
    "import matplotlib.pyplot as plt\n",
    "\n",
    "# Data\n",
    "x = [1,2,3,4];\n",
    "y = [5.5,7.0,9.5,9.9];\n",
    "\n",
    "# Fit data using polyfit\n",
    "p = np.polyfit(x, y, 1)\n",
    "\n",
    "# Set up vector for curve using polyval\n",
    "x1 = np.linspace(0,5,100)\n",
    "y1 = np.polyval(p,x1)\n",
    "\n",
    "# Plot\n",
    "plt.plot(x,y,'x')\n",
    "plt.plot(x1,y1,'-')\n",
    "\n",
    "# Make pretty.."
   ]
  },
  {
   "cell_type": "markdown",
   "metadata": {},
   "source": [
    "\n",
    "\n",
    "## Higher degree polynomials\n",
    "\n",
    "\n",
    "Have a go at fitting a quadratic and cubic to the data points by changing the degree in the `polyfit` command. Ive plotted them all in one figure below using a for loop, but you can just have a go one at a time by changing this line."
   ]
  },
  {
   "cell_type": "code",
   "execution_count": null,
   "metadata": {},
   "outputs": [],
   "source": [
    "p = np.polyfit(x, y, 1)  "
   ]
  },
  {
   "cell_type": "markdown",
   "metadata": {},
   "source": [
    "to e.g."
   ]
  },
  {
   "cell_type": "code",
   "execution_count": null,
   "metadata": {},
   "outputs": [],
   "source": [
    "p = np.polyfit(x, y, 2)  "
   ]
  },
  {
   "cell_type": "markdown",
   "metadata": {},
   "source": [
    "\n",
    "Note how well the cubic function fits. We'll come back to that, after a bit of fun.\n",
    "\n",
    "\n",
    "\n",
    "### Exercise 2.2 \n",
    "\n",
    "<a href=\"https://numbas.mathcentre.ac.uk/question/77013/linear-fit-kelvin-s-thermometers/embed/?token=00d67d7e-4f1d-4022-b79d-51fa8ea80cfd\">Go to the exercise on Numbas</a>\n",
    "\n",
    "A bit of fitting to help figure out if Kelvin's thermometers are working.\n",
    "\n",
    "\n",
    "\n",
    "## Degrees of freedom\n",
    "\n",
    "It is important to appreciate that the best function to fit to some data is not necessarily the function that produces the smallest $S$. It is always possible to find an $(n-1)$th degree polynomial that passes exactly through $n$ data points. In the figure in the \"Higher degree Polynomials\" section, the cubic fit to the four data points is shown and it passes exactly through each point. However, data often has \"noise\" or uncertainty (in measurement for example), and these data points could very well have come from, for example, a linear relationship with some noise.\n",
    "\n",
    "The cubic fit has $S = 0$ (it is a perfect fit to the data) but this could be misleading; and at the extremeties of the plot the cubic fit deviates significantly, where there are no data points to verify that this is the behaviour.\n",
    "\n",
    "Another way to think about this is to compare the number of data points $n$ to the number of free parameters in the function $m$ (the degree plus one in the case of a polynomial). The difference between the two, $n-m$, is referred to as the number of **degrees of freedom**. Choosing the most informative function to model the data means considering the number of degrees of freedom (big is better, i.e. the number of data points much larger than the degree of the polynomial) and the residual (small is better, i.e. line closer to the data points). \n",
    "\n",
    "As a \"rule of thumb\", if two models have a similar residual, then the one with fewer parameters is preferable (unless you have a good reason to expect that, for example, the data belongs to a specific distribution.\n",
    "\n",
    "That's exactly the case in the following example, where we'll fit a quadratic (3 parameters) to 3 data points, but only because we know the form of the function already.\n",
    "\n",
    "### Example: Tyne Bridge\n",
    "\n",
    "Polynomials are used out there in the big wide world for all sorts of things, including designing things like churches, bridges and rollercoasters. \n",
    "\n",
    "The Tyne Bridge is an example of a parabolic bridge. Without going to some significant effort I can obtain only three data points to map out its shape. From Wikipedia, I see that its arch span is 162m and its maximum height 55m. I therefore propose the below 3 data points, letting $x$ be the horizontal position, $y$ the height of the arch and defining the base of the bridge on one side to be at $(0,0)$. Then,\n",
    "\n",
    "x    |  y  \n",
    "-----|-----  \n",
    "0    |  0   \n",
    "81   |  55\n",
    "162  |  0\n",
    "\n",
    "\n",
    "We don't actually need a computer for this one; you can calculate the equation for the height of the arch on pen and paper from the standard form of a parabola (which I've done for you), to find that the \"Tyne Bridge Equation\" (in the coordinate system that we have defined) is \n",
    "\n",
    "$$y = -\\frac{55}{81^2}\\left(x-81\\right)^2+55 \\quad\\text{(*)}$$\n",
    "\n",
    "Since we know that it is parabolic, i.e. its shape is based on a quadratic equation $ax^2+bx+c$, the fact that we can fit the three data points precisely will not be surprising in this case. And it won't give us any information that we didn't already know. However it does give us some nice practice in using `polyfit` and `polyval`\n",
    "\n",
    "So let's use polyfit again:"
   ]
  },
  {
   "cell_type": "code",
   "execution_count": null,
   "metadata": {},
   "outputs": [],
   "source": [
    "\n",
    "import numpy as np\n",
    "# data points\n",
    "x = [0,81,162];\n",
    "y = [0,55,0];\n",
    "\n",
    "# Fit using polyfit and polyval\n",
    "p = np.polyfit(x,y,2)\n",
    "\n",
    "print(p)"
   ]
  },
  {
   "cell_type": "markdown",
   "metadata": {},
   "source": [
    "which gives the output\n",
    "\n",
    " ```output\n",
    "[-8.38286847e-03  1.35802469e+00 -9.32374915e-15]\n",
    " ```\n",
    "\n",
    "In other words, polyfit suggests that the equation of the Tyne Bridge is $y \\approx -0.0084x^2+1.358x$. I note that equation (*) above expands to \n",
    "\n",
    "$$ y = -\\frac{55}{81^2}x^2+\\frac{110}{81}x$$\n",
    "\n",
    "which is consistent with the floating point numbers returned by `polyfit`. \n",
    "\n",
    "For a final check, I'm going to do some trickery to make sure that the axis grid has an equal ratio, which will allow us to see if our fit looks visually quite sensible."
   ]
  },
  {
   "cell_type": "code",
   "execution_count": null,
   "metadata": {},
   "outputs": [],
   "source": [
    "plt.axes().set_aspect('equal')"
   ]
  },
  {
   "cell_type": "markdown",
   "metadata": {},
   "source": [
    " That's quite enough engineering though, back to some maths now!\n",
    "\n",
    "\n",
    "## What if my function is not a polynomial?\n",
    "\n",
    "### Example: power law $f(x)=ax^b$\n",
    "\n",
    "Many elementary functions can be written in polynomial form by simple\n",
    "transformations. \n",
    "\n",
    "The function\n",
    "\n",
    "$$ y = ax^b $$\n",
    "\n",
    "where $a$ and $b$ are parameters, can be transformed to the linear polynomial \n",
    "\n",
    "$$ Y = bX + c $$ \n",
    "\n",
    "where $X = \\log(x)$, $Y = \\log(y)$ and $c = \\log(a)$. Let's see how it works:\n",
    "\n",
    "<!--<iframe src=\"https://campus.recap.ncl.ac.uk/Panopto/Pages/Embed.aspx?id=b5adf3a6-3a77-4c0a-8774-ac5f0165d692&autoplay=false&offerviewer=true&showtitle=false&showbrand=false&start=0&interactivity=none\" width=720 height=405 style=\"border: 1px solid #464646;\" allowfullscreen allow=\"autoplay\"></iframe>-->\n",
    "\n",
    "\n",
    "\n",
    "Suppose we have some data, to which we would like to fit a power-law function $y=a x^b$, in order to find $a$ and $b$."
   ]
  },
  {
   "cell_type": "code",
   "execution_count": null,
   "metadata": {},
   "outputs": [],
   "source": [
    "import numpy as np\n",
    "import matplotlib.pyplot as plt\n",
    "\n",
    "x = [1,3,5,7,9]\n",
    "y = [2.1,2.9,3.5,3.8,4.2]"
   ]
  },
  {
   "cell_type": "markdown",
   "metadata": {},
   "source": [
    "Given the above transformation, if we plot these on *log-log* axes then we can expect to see a straight line. Matplotlib has a plotting function called `loglog` which is exactly for this:"
   ]
  },
  {
   "cell_type": "code",
   "execution_count": null,
   "metadata": {},
   "outputs": [],
   "source": [
    "# Plot on log-log axes\n",
    "plt.loglog(x,y,'x')\n",
    "plt.xlabel('x')\n",
    "plt.ylabel('y')"
   ]
  },
  {
   "cell_type": "markdown",
   "metadata": {},
   "source": [
    "![](/static/images/week2/loglog.png){width=80%}\n",
    "\n",
    "Or alternatively we can plot (big) $Y$ versus $X$ (in other words $\\log(y)$ versus $\\log(x)$), and although the scale will be different, again a straight line:"
   ]
  },
  {
   "cell_type": "code",
   "execution_count": null,
   "metadata": {},
   "outputs": [],
   "source": [
    "X = np.log(x)      # don't forget Python is case sensitive\n",
    "Y = np.log(y)\t\t# so y and Y are different variables\n",
    "plt.plot(X,Y,'x')\n",
    "plt.xlabel('X = log(x)')\n",
    "plt.ylabel('Y = log(y)')"
   ]
  },
  {
   "cell_type": "markdown",
   "metadata": {},
   "source": [
    "![](/static/images/week2/loglog-2.png){width=80%}\n",
    "\n",
    "\n",
    "We can use `polyfit` and `polyval` to fit a linear function, note I'm using `log(x)` and `log(y)` inside the `polyfit` command."
   ]
  },
  {
   "cell_type": "code",
   "execution_count": null,
   "metadata": {},
   "outputs": [],
   "source": [
    "p = np.polyfit(np.log(x),np.log(y),1)    # np.polyfit(X,Y,1) would work too\n",
    "x1 = np.linspace(0,3,100)\n",
    "y1 = np.polyval(p,x1)\n",
    "\n",
    "# Plot\n",
    "plt.plot(X,Y,'x')\n",
    "plt.plot(x1,y1,'-')\n",
    "\n",
    "plt.xlabel('X = log(x)')\n",
    "plt.ylabel('Y = log(y)')"
   ]
  },
  {
   "cell_type": "markdown",
   "metadata": {},
   "source": [
    "![](/static/images/week2/loglog_fit.png){width=80%}\n",
    "\n",
    "\n",
    "Whilst running the above code, we can note  the output of `polyfit` (take a look at the value of `p`). This tells us that \n",
    "\n",
    "\\begin{align} \n",
    "b &= 0.314\\text{,}  \\\\\n",
    "c &= \\log(a) = 0.736 \\implies a = 2.087\\text{.}\n",
    "\\end{align}\n",
    "\n",
    "to 3 decimal places. Therefore our power law fit is \n",
    "\n",
    "$$f(x) = 2.087x^{\\left(0.314\\right)}$$\n",
    "\n",
    "We can verify that this looks sensible on a linear (lin-lin) plot of the original data:"
   ]
  },
  {
   "cell_type": "code",
   "execution_count": null,
   "metadata": {},
   "outputs": [],
   "source": [
    "x1 = np.linspace(0,10,100)\n",
    "\n",
    "plt.plot(x,y,'x')\n",
    "plt.plot(x1,2.087*pow(x1,0.314),'-')\n",
    "\n",
    "plt.xlabel('x')\n",
    "plt.ylabel('y')"
   ]
  },
  {
   "cell_type": "markdown",
   "metadata": {},
   "source": [
    "*Note it would have been better to retain accuracy by using the values in `p` without rounding.*\n",
    "\n",
    "\n",
    "### Exercise 2.3 \n",
    "\n",
    "\n",
    "<a href=\"https://numbas.mathcentre.ac.uk/question/77019/linearise-functions/embed/?token=44fa2f39-6a06-4738-aeb6-4c7880d2b85e\">Go to the exercise on Numbas</a>\n",
    "\n",
    "\n",
    "\n",
    "### Matplotlib functions for log plots\n",
    "\n",
    "\n",
    "Here are some using Matplotlib plotting commands to produce log plots: \n",
    "\n",
    "Command     |  Type of plot  \n",
    "------------|----------------\n",
    "`plot`      |   lin-lin       \n",
    "`semilogx`  |   log-lin     \n",
    "`semilogy`  |   lin-log       \n",
    "`loglog`    |   log-log      \n",
    "\n",
    "Note in each case, if imported in the usual way, they are prepended with `plt.`\n",
    "\n",
    "\n",
    "\n",
    "\n",
    "## Fitting more functions with `SciPy` \n",
    "\n",
    "SciPy is a scientific computing package. We're interested in the optimize submodule"
   ]
  },
  {
   "cell_type": "code",
   "execution_count": null,
   "metadata": {},
   "outputs": [],
   "source": [
    "import scipy.optimize as opt"
   ]
  },
  {
   "cell_type": "markdown",
   "metadata": {},
   "source": [
    "The function we're interested in is called `curve_fit`. It goes like this:"
   ]
  },
  {
   "cell_type": "code",
   "execution_count": null,
   "metadata": {},
   "outputs": [],
   "source": [
    "popt, pcov = opt.curve_fit(func, x, y) "
   ]
  },
  {
   "cell_type": "markdown",
   "metadata": {},
   "source": [
    "where the input arguments are\n",
    "\n",
    " * `x`, data for the independant variable\n",
    " * `y`, data for the dependant variable\n",
    " * `func`, a function to fit. The first argument should be `x` and any further fitting parameters should then follow.\n",
    "\n",
    "it outputs two things (my choice for the names here)\n",
    "\n",
    "* `popt`, the optimum parameters presented in an array. These will correspond to the fitting parameters specified in the function.\n",
    "* `pcov`, a covariance matrix for the fitting parameters. If this was a stats module we'd worry more about this, but for the purposes of this exercise all we need to know if smaller values = better fit.\n",
    "\n",
    "Here's an example. Note we need a function, which we're not recapping til next week. First here's some data"
   ]
  },
  {
   "cell_type": "code",
   "execution_count": null,
   "metadata": {},
   "outputs": [],
   "source": [
    "import numpy as np\n",
    "import scipy.optimize as opt\n",
    "\n",
    "# The data\n",
    "x = np.arange(0,2,0.1)\n",
    "y = np.array([1,2,4,5,6,6,5,5,4,3,2,0,-1,-1,-3,-2,-4,-3,-1,0])\n",
    "\n",
    "# Plot the data\n",
    "plt.plot(x,y,'x')"
   ]
  },
  {
   "cell_type": "markdown",
   "metadata": {},
   "source": [
    "We're going to try to fit $f(x) = a\\sin(bx)+c$, with three parameters $a$, $b$ and $c$. We set this up in a user-defined function which I've called `func` (if you haven't seen this before you will next week):"
   ]
  },
  {
   "cell_type": "code",
   "execution_count": null,
   "metadata": {},
   "outputs": [],
   "source": [
    "# function to define the fit parameters\n",
    "def func(x, a, b, c): \n",
    "    return a * np.sin(b*x) + c"
   ]
  },
  {
   "cell_type": "markdown",
   "metadata": {},
   "source": [
    "Note that this can be called with, for example `func(1,2,3,4)` which would return the value $f(1)$ with parameters $a=2$, $b=3$ and $c=4$.\n",
    "\n",
    "We now use the `curve_fit` function, providing this and the data."
   ]
  },
  {
   "cell_type": "code",
   "execution_count": null,
   "metadata": {},
   "outputs": [],
   "source": [
    "# Print the best fit parameters\n",
    "popt, pcov = opt.curve_fit(func, x, y) \n",
    "print(popt)"
   ]
  },
  {
   "cell_type": "markdown",
   "metadata": {},
   "source": [
    "Since I now know the best fit parameters we can construct a curve to make a plot:"
   ]
  },
  {
   "cell_type": "code",
   "execution_count": null,
   "metadata": {},
   "outputs": [],
   "source": [
    "# Construct a function to fit\n",
    "x1 = np.linspace(0,2,100)\n",
    "y1 = func(x1,popt[0],popt[1],popt[2])"
   ]
  },
  {
   "cell_type": "markdown",
   "metadata": {},
   "source": [
    "Then plot with"
   ]
  },
  {
   "cell_type": "code",
   "execution_count": null,
   "metadata": {},
   "outputs": [],
   "source": [
    "plt.plot(x,y,'x')\n",
    "plt.plot(x1,y1,'-')"
   ]
  },
  {
   "cell_type": "markdown",
   "metadata": {},
   "source": [
    "\n",
    "### Exercise 2.4\n",
    "\n",
    "Let's give `curve_fit` a go.\n",
    "\n",
    "<a href=\"https://numbas.mathcentre.ac.uk/question/77021/scipy-curve-fit/embed/?token=ca3f0c8e-2985-4a7b-8ab2-1714ae23e63a\">Go to the Numbas exercise</a>\n",
    "\n",
    "\n",
    "\n",
    "\n",
    "\n",
    "## How does `polyfit` work? {: .interlude}\n",
    "\n",
    "`polyfit` works by representing the problem as a vector-matrix system which\n",
    "it can solve for the coefficients. We'll come back to this in the linear algebra section of the course, so for at the moment this bit is just for info.\n",
    "\n",
    "Suppose there are $m$ data points, each measured at a particular value of the independent variable x,\n",
    "\n",
    "$$ y_1(x_1), y_2(x_2), \\cdots , y_m(x_m).$$ \n",
    "\n",
    "We want a model for $y(x)$, a continuous function that fits this data. One way to do this is to use\n",
    "a linear combination of simple functions, called basis functions, which are\n",
    "simply powers of $x$ for a polynomial,\n",
    "\n",
    "$$ f(x) = \\beta_nx^n + \\beta_{n-1}x^{n-1} + \\cdots + \\beta_2x^2 + \\beta_1x + \\beta_0 $$\n",
    "\n",
    "where $\\beta_j$, with $j = 0, 1, \\cdots , n$ are the coefficients of the $n$th degree polynomial.\n",
    "\n",
    "The problem boils down to finding the best values for the coefficients (the free parameters in the model). The system of equations can be written in the form\n",
    "\n",
    "$$ \\textrm{X}\\mathbf{\\beta} = \\mathbf{y} $$\n",
    "\n",
    "where \n",
    "\n",
    " * $\\mathbf{y}$ is an $m$-element vector (one value for each datapoint $y_i$)\n",
    " * $\\mathbf{\\beta}$ is an $(n + 1)$-element vector (one value for each parameter in the model)\n",
    " * and $\\textrm{X}$ is an $m$ by $(n + 1)$ matrix where each element is one of the basis functions $x^j$, evaluated at one of the values for $x_i$, $x^j(x_i)$\n",
    "\n",
    "If $m = n + 1$ (the number of data points is equal to the number of free parameters in the quadratic) then $\\textrm{X}$ is square, i.e. the number of data points is the same as the number of basis functions, and then this system of linear equations can be solved exactly.\n",
    "\n",
    "Usually though, the degree of the polynomial $n$ is smaller than the number of datapoints $m$; in this case Python finds the best values of $\\beta_j$ by minimising the sum of the squares of the residuals, the least-squares method. \n",
    "\n",
    "#### An example\n",
    "\n",
    "This all might seem more complicated than it really is, so let’s have a look at a simple example (which should look familiar from basic linear algebra). There are three data points $(x, y): (1, 3), (2, 9), (3, 19)$. To fit a quadratic\n",
    "function $y = ax^2 + bx + c$, we have $\\beta_2 = a$, $\\beta_1 = b$ and $\\beta_0 = c$. We can write this as the matrix equation\n",
    "\n",
    "$$\n",
    "\\begin{pmatrix}\n",
    "1 & 1 & 1 \\\\\n",
    "4 & 2 & 1 \\\\\n",
    "9 & 3 & 1 \n",
    "\\end{pmatrix}\n",
    "\\begin{pmatrix}\n",
    "a\\\\\n",
    "b\\\\\n",
    "c\n",
    "\\end{pmatrix}\n",
    "=\n",
    "\\begin{pmatrix}\n",
    "3 \\\\\n",
    "9 \\\\\n",
    "19\n",
    "\\end{pmatrix}\n",
    "$$\n",
    "\n",
    "which can  be solved by hand or with Python:"
   ]
  },
  {
   "cell_type": "code",
   "execution_count": null,
   "metadata": {},
   "outputs": [],
   "source": [
    "import numpy as np\n",
    "A = [[1,1,1],[4,2,1],[9,3,1]]\n",
    "y = [[3],[9],[19]]\n",
    "beta = np.linalg.solve(A,y)\n",
    "print(beta)"
   ]
  },
  {
   "cell_type": "markdown",
   "metadata": {},
   "source": [
    "to find $a = 2$, $b = 0$, $c = 1$ and therefore\n",
    "\n",
    "$$y = 2x^2 + 1$$\n",
    "\n",
    "## Handout 2 Summary\n",
    "\n",
    "That's all for today... we've seen that Python can do a pretty neat job of fitting polynomials, and we've worked through some examples of how to handle the fitting of other functions.\n",
    "\n",
    "### Next time\n",
    "\n",
    "Next week we'll look at root finding...\n",
    "\n",
    "### Bonus Question \n",
    "\n",
    "To celebrate Black History Month, here's a bonus question (actually on some basic Python commands) about the \"Virginia Calculator\", Thomas Fuller.\n",
    "\n",
    "\n",
    "<a href=\"https://numbas.mathcentre.ac.uk/question/106039/thomas-fuller-virginia-calculator/embed/?token=4345b924-7f15-4157-8b8c-3f575e040f9f\">Go to the exercise on Numbas</a>\n",
    "\n",
    "\n",
    "Check out the School's [other activities here](https://ncl.instructure.com/courses/32642/pages/black-history-month), including a film showing for staff and students next week.\n",
    "\n"
   ]
  },
  {
   "cell_type": "code",
   "execution_count": null,
   "metadata": {},
   "outputs": [],
   "source": []
  }
 ],
 "metadata": {
  "kernelspec": {
   "display_name": "Python 3",
   "language": "python",
   "name": "python3"
  },
  "language_info": {
   "codemirror_mode": {
    "name": "ipython",
    "version": 3
   },
   "file_extension": ".py",
   "mimetype": "text/x-python",
   "name": "python",
   "nbconvert_exporter": "python",
   "pygments_lexer": "ipython3",
   "version": "3.8.3"
  }
 },
 "nbformat": 4,
 "nbformat_minor": 4
}
