{
 "cells": [
  {
   "cell_type": "markdown",
   "metadata": {},
   "source": [
    "MAS1801 Python Practical 1\n",
    "==========================\n",
    "\n",
    "Welcome to the handout for the first week of Python material.\n",
    "\n",
    "#### To Hand in this week:\n",
    "\n",
    "Upload your solutions to:\n",
    "\n",
    "-   Exercise 1.8\n",
    "\n",
    "to NESS by midnight this **Sunday 18th Neverember**.\n",
    "<a href=\"../introduction_and_handouts/uploading_to_ness.html\" target=\"_blank\">Click here to view instructions on how to upload to NESS</a>.\n",
    "\n",
    "Using these handouts\n",
    "--------------------\n",
    "\n",
    "In the practical sessions you will be working through one of these\n",
    "(virtual) handouts. If you want a printable version then hit the link\n",
    "“Download chapter as PDF”.\n",
    "\n",
    "You might need some scrap paper for some of the exercises. If you don’t\n",
    "have any then let me know.\n",
    "\n",
    "You should try out commands: I suggest copying the bits of code like\n",
    "this one"
   ],
   "id": "2bd636061ff2dbae"
  },
  {
   "cell_type": "code",
   "execution_count": null,
   "metadata": {
    "data-code-dir": "input",
    "data-gutter-symbol": ">>>"
   },
   "outputs": [],
   "source": [
    "x = 2"
   ],
   "id": "58a3d3222a4844e"
  },
  {
   "cell_type": "markdown",
   "metadata": {},
   "source": [
    "into the Spyder and exploring them by changing variables and so on. When\n",
    "you see text formatted like this: `x`, I am referring to variables or\n",
    "other bits of code.\n",
    "\n",
    "I suggest you set up your windows like this:\n",
    "\n",
    "\\*\\* pic/vid \\*\\*\n",
    "\n",
    "Whilst you are working through, I’ll wander round, as will my fab\n",
    "postgraduate helpers; just stick your hand up or give me a shout if\n",
    "you’d like any assistance. Don’t be afraid to ask questions, no matter\n",
    "how silly they might seem.\n",
    "\n",
    "My handouts have some items in them along the way. They go like this…\n",
    "\n",
    "### Interlude\n",
    "\n",
    "This is an interlude, which contains something either totally off-topic,\n",
    "usually not assessed and just there for a bit of fun. Yes, programming\n",
    "can be fun! :-)\n",
    "\n",
    "### Exercise\n",
    "\n",
    "This is an exercise. Sometimes there’ll be an answer, sometimes they are\n",
    "just to get you thinking. I’ll release solutions and comments for each\n",
    "of these next week. I suggest that you try them as you reach them in the\n",
    "notes and that you save your answers into a script file (which we’ll\n",
    "find out about later in this handout).\n",
    "\n",
    "### Exercise\\*\n",
    "\n",
    "This is an exercise that you need to hand in this week (there may be\n",
    "more than one, though not this week).\n",
    "\n",
    "Python and Spyder\n",
    "-----------------\n",
    "\n",
    "### About Python\n",
    "\n",
    "A bit of blurb to go in here\n",
    "\n",
    "We are going to be using the the integrated development environment\n",
    "(IDE) Spyder to run our Python code. Spyder is open source and\n",
    "cross-platform, so you can **insert link re installing on own machine**\n",
    "\n",
    "#### Python 2 and Python 3\n",
    "\n",
    "Quick explanation\n",
    "\n",
    "### Launching Spyder\n",
    "\n",
    "How to launch spyder\n",
    "\n",
    "### Spyder windows\n",
    "\n",
    "A bit of info about the various windows in Spyder\n",
    "\n",
    "<!-- Python as a calculator -->\n",
    "\n",
    "Python as a calculator\n",
    "----------------------\n",
    "\n",
    "The simplest way to use Python is to enter a command in the *Console*\n",
    "and allow Python to execute it and return the result. I’m showing you\n",
    "the command and output here, but feel free to copy and paste or write\n",
    "commands in Python to follow along. The *\\>\\>\\>* represents the Python\n",
    "prompt, which varies with IDE. Copy and paste, or enter, the code after\n",
    "the prompt into Spyder."
   ],
   "id": "44aa64ec96b04391"
  },
  {
   "cell_type": "code",
   "execution_count": null,
   "metadata": {
    "data-code-dir": "input",
    "data-gutter-symbol": ">>>"
   },
   "outputs": [],
   "source": [
    "2+2"
   ],
   "id": "e5afc9ff4c65a754"
  },
  {
   "cell_type": "code",
   "execution_count": null,
   "metadata": {
    "data-code-dir": "input",
    "data-gutter-symbol": ">>>"
   },
   "outputs": [],
   "source": [
    "2/3"
   ],
   "id": "38e1eb7e53045768"
  },
  {
   "cell_type": "markdown",
   "metadata": {},
   "source": [
    "Note that you can access the value of any previous output using\n",
    "`Out[n]`. This is a little bit like the `Ans` on your calculator (well,\n",
    "on my calculator at least).\n",
    "\n",
    "<!-- Variable assignment -->\n",
    "\n",
    "Variable Assignment\n",
    "-------------------\n",
    "\n",
    "You can assign values to variables, in the Console again, we’re going to\n",
    "set a variable `x` equal to -3:"
   ],
   "id": "c6e72a96188d6cb9"
  },
  {
   "cell_type": "code",
   "execution_count": null,
   "metadata": {
    "data-code-dir": "input",
    "data-gutter-symbol": ">>>"
   },
   "outputs": [],
   "source": [
    "x = -3"
   ],
   "id": "22e6e20ee6ddbdb2"
  },
  {
   "cell_type": "markdown",
   "metadata": {},
   "source": [
    "Note that Python is pretty quiet - it doesn’t make a lot of fuss. You\n",
    "can see that `x` has definitely been set in the *Variable explorer*, but\n",
    "if you want to display its value in the Console:"
   ],
   "id": "e387531e15f1fe0b"
  },
  {
   "cell_type": "code",
   "execution_count": null,
   "metadata": {
    "data-code-dir": "input",
    "data-gutter-symbol": ">>>"
   },
   "outputs": [],
   "source": [
    "x"
   ],
   "id": "dbdb10b0a3c7e5e0"
  },
  {
   "cell_type": "markdown",
   "metadata": {},
   "source": [
    "or as we’ll do later from scripts using the funtion `print()`"
   ],
   "id": "6ce4ed291a1bc7e7"
  },
  {
   "cell_type": "code",
   "execution_count": null,
   "metadata": {
    "data-code-dir": "input",
    "data-gutter-symbol": ">>>"
   },
   "outputs": [],
   "source": [
    "print(x)"
   ],
   "id": "4697198c960f15e4"
  },
  {
   "cell_type": "markdown",
   "metadata": {},
   "source": [
    "Let’s let $y=x^2$. This can be done like this:"
   ],
   "id": "17ca58eedb86bc41"
  },
  {
   "cell_type": "code",
   "execution_count": null,
   "metadata": {
    "data-code-dir": "input",
    "data-gutter-symbol": ">>>"
   },
   "outputs": [],
   "source": [
    "y = x**2"
   ],
   "id": "2f634acf7f9acd78"
  },
  {
   "cell_type": "markdown",
   "metadata": {},
   "source": [
    "Take a look again at the *Variable explorer*. Here you can keep an eye\n",
    "on the type and value of variables.\n",
    "\n",
    "There are some rules to follow when naming and using variables:\n",
    "\n",
    "-   Python is case sensitive, so the variable `x` is not the same as\n",
    "    `X`.\n",
    "-   variable names can contain numbers, but cannot start with a number.\n",
    "-   variable names cannot contain spaces (however you can use an\n",
    "    underscore if you like).\n",
    "-   when we do more extensive code, descriptive variable names will help\n",
    "    when you come back to look at your code.\n",
    "\n",
    "### Arithmetic operators\n",
    "\n",
    "You might have expected to use `^` in place of `**`. Here are Python’s\n",
    "arithmetic operators in a useful table\n",
    "\n",
    "| Operator    | Example input | Example Output |\n",
    "|-------------|---------------|----------------|\n",
    "| \\+          | `2 + 2`       | 4              |\n",
    "| \\-          | `3 - 2`       | 1              |\n",
    "| \\*          | `2 * 3`       | 6              |\n",
    "| /           | `4 / 2`       | 2              |\n",
    "| \\*\\*        | `2 ** 3`      | 8              |\n",
    "| % (modulus) | `10 % 3`      | 1              |\n",
    "\n",
    "Go ahead and play around with some of these commands in the Console.\n",
    "\n",
    "\\*Note that an alternative to \\*\\* is the function `pow()`. Let’s talk\n",
    "about functions next, after an interlude…\n",
    "\n",
    "### Interlude 1.1\n",
    "\n",
    "You can use modular arithmetic to figure out if a year is a leap year\n",
    "(year divides by 4). Like next year:"
   ],
   "id": "97c584a07b17ccb3"
  },
  {
   "cell_type": "code",
   "execution_count": null,
   "metadata": {
    "data-code-dir": "input",
    "data-gutter-symbol": ">>>"
   },
   "outputs": [],
   "source": [
    "2020 % 4"
   ],
   "id": "41b66a370a09a4f5"
  },
  {
   "cell_type": "markdown",
   "metadata": {},
   "source": [
    "But did you also know that keeping our (Gregorian) calendar in line with\n",
    "the time required for the Earth to revolve about the Sun requires more\n",
    "correction than this? As an additional fix, a year that is divisible by\n",
    "100 is a leap year only if it is also divisible by 400. I won’t make it\n",
    "to 2100, but you might… and you may be surprised to find it isn’t a leap\n",
    "year. Off…topic…\n",
    "\n",
    "<!-- Using functions -->\n",
    "\n",
    "Using Functions\n",
    "---------------\n",
    "\n",
    "The function `pow` can also be used to square a number, or in fact to\n",
    "raise any number to a power."
   ],
   "id": "5cb68edce3308afe"
  },
  {
   "cell_type": "code",
   "execution_count": null,
   "metadata": {
    "data-code-dir": "input",
    "data-gutter-symbol": ">>>"
   },
   "outputs": [],
   "source": [
    "pow(x,2)"
   ],
   "id": "42593ad161ad76a7"
  },
  {
   "cell_type": "code",
   "execution_count": null,
   "metadata": {
    "data-code-dir": "input",
    "data-gutter-symbol": ">>>"
   },
   "outputs": [],
   "source": [
    "pow(x,3)"
   ],
   "id": "a53afb6bc3753f4a"
  },
  {
   "cell_type": "markdown",
   "metadata": {},
   "source": [
    "The function `pow()` is known as a built-in function - it is one that is\n",
    "part of Python’s standard library. To do more with Python we need to\n",
    "find out how to use more of these…\n",
    "\n",
    "Much like a mathematical function, a function on a computer takes some\n",
    "input, does some stuff and returns some output.\n",
    "\n",
    "In the command"
   ],
   "id": "86b2ecafd8718f8"
  },
  {
   "cell_type": "code",
   "execution_count": null,
   "metadata": {
    "data-code-dir": "input",
    "data-gutter-symbol": ">>>"
   },
   "outputs": [],
   "source": [
    "pow(x, 2)"
   ],
   "id": "f5fd397c14f31647"
  },
  {
   "cell_type": "markdown",
   "metadata": {},
   "source": [
    "The `x` and `2` are the input *arguments* to the function. `pow()`\n",
    "computes $x^2$ and returns its value. The output from a function could\n",
    "be assigned to a new variable:"
   ],
   "id": "88efa9a0d8d50d01"
  },
  {
   "cell_type": "code",
   "execution_count": null,
   "metadata": {
    "data-code-dir": "input",
    "data-gutter-symbol": ">>>"
   },
   "outputs": [],
   "source": [
    "y = pow(x, 2)"
   ],
   "id": "33c0ad98810124b9"
  },
  {
   "cell_type": "markdown",
   "metadata": {},
   "source": [
    "Here are some functions that we’ll use from the Python standard library\n",
    "\n",
    "| function  | Description                                         |\n",
    "|:----------|:----------------------------------------------------|\n",
    "| `abs()`   | Return the absolute value of a number               |\n",
    "| `len()`   | Return the length of an object                      |\n",
    "| `max()`   | Find the largest value in a list or similar object  |\n",
    "| `min()`   | Find the smallest value in a list or similar object |\n",
    "| `print()` | Print the value of an object                        |\n",
    "| `round()` | Round a number to a specified precision             |\n",
    "| `sum()`   | Sum the values in a list or similar object          |\n",
    "\n",
    "Lets take a look at a couple of examples"
   ],
   "id": "183007b046e9753f"
  },
  {
   "cell_type": "code",
   "execution_count": null,
   "metadata": {
    "data-code-dir": "input",
    "data-gutter-symbol": ">>>"
   },
   "outputs": [],
   "source": [
    "abs(-3)"
   ],
   "id": "1ae1b396875ef2b5"
  },
  {
   "cell_type": "code",
   "execution_count": null,
   "metadata": {
    "data-code-dir": "input",
    "data-gutter-symbol": ">>>"
   },
   "outputs": [],
   "source": [
    "round(2.555,2)"
   ],
   "id": "dd151db065bda6ab"
  },
  {
   "cell_type": "markdown",
   "metadata": {},
   "source": [
    "So we can square a number, find its absolute value - good start - but as\n",
    "physicists we are going to want to do a lot more. We might expect to\n",
    "be able to do"
   ],
   "id": "8039a6db60f5a40e"
  },
  {
   "cell_type": "code",
   "execution_count": null,
   "metadata": {
    "data-code-dir": "input",
    "data-gutter-symbol": ">>>"
   },
   "outputs": [],
   "source": [
    "cos(0)"
   ],
   "id": "a0da2c0daae80dc7"
  },
  {
   "cell_type": "markdown",
   "metadata": {},
   "source": [
    "But this returns an error message. Why? Python is very modular, and its\n",
    "standard library only contains common, but fairly limited functions.\n",
    "\n",
    "Getting help\n",
    "------------\n",
    "\n",
    "You can find out what a function does, and what it expects as input\n",
    "arguments using another function: `help`"
   ],
   "id": "6629b39432d995a1"
  },
  {
   "cell_type": "code",
   "execution_count": null,
   "metadata": {
    "data-code-dir": "input",
    "data-gutter-symbol": ">>>"
   },
   "outputs": [],
   "source": [
    "help(pow)"
   ],
   "id": "795ce26afdcb2a69"
  },
  {
   "cell_type": "markdown",
   "metadata": {},
   "source": [
    "You can even do"
   ],
   "id": "c2c588c071597945"
  },
  {
   "cell_type": "code",
   "execution_count": null,
   "metadata": {
    "data-code-dir": "input",
    "data-gutter-symbol": ">>>"
   },
   "outputs": [],
   "source": [
    "help(help)"
   ],
   "id": "f7add466ac1f935f"
  },
  {
   "cell_type": "markdown",
   "metadata": {},
   "source": [
    "if you like!\n",
    "\n",
    "There is an alternative interactive way of getting help in Spyder. Click\n",
    "on the Help tab on the right and you will prompted to explore your code\n",
    "using CTRL-I - this can be in the Console or the Editor window when we\n",
    "use that later. Move your cursor, say to the `print()` function a couple\n",
    "of commands ago, and press that button combination to get some nicely\n",
    "formatted information.\n",
    "\n",
    "\\*\\* animation here \\*\\*\n",
    "\n",
    "To get more information you can also consult the online documentation.\n",
    "Click on *Help* nad then *online documentation* and choose the *Python 3\n",
    "documentation* item.\n",
    "\n",
    "\\*\\* image or animation here \\*\\*\n",
    "\n",
    "Python modules\n",
    "--------------\n",
    "\n",
    "Modules are Python files which can contain function definitions (and\n",
    "possibly other stuff) that can be imported into your code. Later we will\n",
    "see how we can create our own modules, but for now we’ll learn how to\n",
    "import an existing one using the `import statement`. Try this out in the\n",
    "Editor:"
   ],
   "id": "46d9656af93356c2"
  },
  {
   "cell_type": "code",
   "execution_count": null,
   "metadata": {
    "data-code-dir": "input",
    "data-gutter-symbol": ">>>"
   },
   "outputs": [],
   "source": [
    "import math"
   ],
   "id": "b4e89343db957632"
  },
  {
   "cell_type": "markdown",
   "metadata": {},
   "source": [
    "This imports the `math` module and will be imported quietly\n",
    "(successfully). Try running the same command with a different name and\n",
    "you will see what happens when a module cannot be found by Python, e.g."
   ],
   "id": "808c1dadf8df5a3c"
  },
  {
   "cell_type": "code",
   "execution_count": null,
   "metadata": {
    "data-code-dir": "input",
    "data-gutter-symbol": ">>>"
   },
   "outputs": [],
   "source": [
    "import maths"
   ],
   "id": "91409543757682f3"
  },
  {
   "cell_type": "markdown",
   "metadata": {},
   "source": [
    "gives the error *ModuleNotFoundError: No module named ‘maths’*.\n",
    "\n",
    "Returning to our correct `math` module, the reference guide\n",
    "https://docs.code .python.org/3/library/math.html contains a full list\n",
    "of the functions and definitions contained in the `math` module and we\n",
    "note that there is a function `cos`."
   ],
   "id": "48d713ea46c8ada2"
  },
  {
   "cell_type": "code",
   "execution_count": null,
   "metadata": {
    "data-code-dir": "input",
    "data-gutter-symbol": ">>>"
   },
   "outputs": [],
   "source": [
    "import math\n",
    "y = math.cos(0)"
   ],
   "id": "1f309d54becfe08b"
  },
  {
   "cell_type": "markdown",
   "metadata": {},
   "source": [
    "Note the syntax to use the `cos` function from the `math` package. This\n",
    "is important, because there may be (are in fact any seond) other modules\n",
    "which also have a `cos` function.\n",
    "\n",
    "### The `numpy` module\n",
    "\n",
    "The *numpy* module declares itself “the fundamental package for\n",
    "scientific computing with Python”. It is a key module that we will use a\n",
    "lot.\n",
    "\n",
    "Load the module with"
   ],
   "id": "f517969e3a435b30"
  },
  {
   "cell_type": "code",
   "execution_count": null,
   "metadata": {
    "data-code-dir": "input",
    "data-gutter-symbol": ">>>"
   },
   "outputs": [],
   "source": [
    "import numpy"
   ],
   "id": "2044df2674276c1c"
  },
  {
   "cell_type": "markdown",
   "metadata": {},
   "source": [
    "Just like the `math` module it also has a `cos` function"
   ],
   "id": "7bb7f300b450f405"
  },
  {
   "cell_type": "code",
   "execution_count": null,
   "metadata": {
    "data-code-dir": "input",
    "data-gutter-symbol": ">>>"
   },
   "outputs": [],
   "source": [
    "numpy.cos(0)"
   ],
   "id": "eb315ba99293ef93"
  },
  {
   "cell_type": "markdown",
   "metadata": {},
   "source": [
    "And an awful lot more"
   ],
   "id": "4db78871e2b9cb12"
  },
  {
   "cell_type": "code",
   "execution_count": null,
   "metadata": {
    "data-code-dir": "input",
    "data-gutter-symbol": ">>>"
   },
   "outputs": [],
   "source": [
    "numpy.sqrt(numpy.pi)"
   ],
   "id": "7faa8f06b91f475c"
  },
  {
   "cell_type": "markdown",
   "metadata": {},
   "source": [
    "It’s pretty laborious writing out “numpy” every time you run a command,\n",
    "so Python has a shortcut. You can do this:"
   ],
   "id": "7da449f92d0be64"
  },
  {
   "cell_type": "code",
   "execution_count": null,
   "metadata": {
    "data-code-dir": "input",
    "data-gutter-symbol": ">>>"
   },
   "outputs": [],
   "source": [
    "import numpy as np"
   ],
   "id": "1a7a42252af00e7e"
  },
  {
   "cell_type": "markdown",
   "metadata": {},
   "source": [
    "and then"
   ],
   "id": "bbfb30b93b2dd5ff"
  },
  {
   "cell_type": "code",
   "execution_count": null,
   "metadata": {
    "data-code-dir": "input",
    "data-gutter-symbol": ">>>"
   },
   "outputs": [],
   "source": [
    "np.cos(np.pi)"
   ],
   "id": "4608bf6484a08ea9"
  },
  {
   "cell_type": "markdown",
   "metadata": {},
   "source": [
    "Let’s use some functions from the *numpy* module to do our first\n",
    "exercise…\n",
    "\n",
    "### Exercise 1.1\n",
    "\n",
    "The hyperbolic sine function $\\sinh(x)$ can be defined in terms of\n",
    "exponentials as:\n",
    "\n",
    "$$ \\sinh(x)=\\frac{e^x-e^{-x}}{2}. $$\n",
    "\n",
    "-   Use the function `exp` to calculate $\\sinh(\\pi)$ using the\n",
    "    expression on the right of the above equation.\n",
    "-   Verify that you get the same answer with the command `sinh(pi)`.\n",
    "\n",
    "Note that the above documentation tells us that there is both a function\n",
    "`math.exp` as well as a mathematical constant `math.e`. Either could be\n",
    "used here.\n",
    "\n",
    "Data Types\n",
    "----------\n",
    "\n",
    "An understanding of different data types is important for any\n",
    "programming language.\n",
    "\n",
    "Following on from some of the trigonometry in the previous section, have\n",
    "a go at this:"
   ],
   "id": "495e0daf0b4f507f"
  },
  {
   "cell_type": "code",
   "execution_count": null,
   "metadata": {
    "data-code-dir": "input",
    "data-gutter-symbol": ">>>"
   },
   "outputs": [],
   "source": [
    "z = np.sin(np.pi/3)"
   ],
   "id": "8eb3bd9e67dcf17e"
  },
  {
   "cell_type": "markdown",
   "metadata": {},
   "source": [
    "We all know that $\\sin(\\pi/3)=\\sqrt{3/2}$, but we don’t get a nicely\n",
    "answer like this (try it and you will get 0.8660254037844386). Python\n",
    "makes its computations in what is known as floating point arithmetic (by\n",
    "default); when it makes its calculation it thinks of pi as a decimal,\n",
    "hence the decimal output. There are symbolic mathematics packages for\n",
    "Python but we won’t use those in this module.\n",
    "\n",
    "In the variable explorer you will find that the type of the variable `z`\n",
    "is a *float*. You might also have some integers with type *int* still in\n",
    "your workspace. Let’s find out more about these and other data types…\n",
    "\n",
    "The function `type` can tell us the data type of a variable.\n",
    "\n",
    "### Integers\n",
    "\n",
    "Python stores integers as a separate data type which it calls *int*.\n",
    "Why? Well there’s no point in storing a load of decimal places if you\n",
    "have whole numbers."
   ],
   "id": "37b29614d015a342"
  },
  {
   "cell_type": "code",
   "execution_count": null,
   "metadata": {
    "data-code-dir": "input",
    "data-gutter-symbol": ">>>"
   },
   "outputs": [],
   "source": [
    "type(2)"
   ],
   "id": "fe742c3b01cfd45e"
  },
  {
   "cell_type": "markdown",
   "metadata": {},
   "source": [
    "Other data types can be converted to integers using the function `int`.\n",
    "Here `x` is a decimal number."
   ],
   "id": "49742b1cb54c5d3e"
  },
  {
   "cell_type": "code",
   "execution_count": null,
   "metadata": {
    "data-code-dir": "input",
    "data-gutter-symbol": ">>>"
   },
   "outputs": [],
   "source": [
    "x = 2.0\n",
    "int(x)"
   ],
   "id": "a22c717f63676da"
  },
  {
   "cell_type": "markdown",
   "metadata": {},
   "source": [
    "Note that the intended use is not rounding or formatting numbers. We’ll\n",
    "come back to that later.\n",
    "\n",
    "### Floating point numbers\n",
    "\n",
    "In the last section we dealt with some decimal numbers… strictly\n",
    "speaking these were really what are called floating-point numbers, and\n",
    "Python refers to them as a *float*."
   ],
   "id": "38a63da4b774dcfa"
  },
  {
   "cell_type": "code",
   "execution_count": null,
   "metadata": {
    "data-code-dir": "input",
    "data-gutter-symbol": ">>>"
   },
   "outputs": [],
   "source": [
    "type(math.pi)"
   ],
   "id": "c3e6378ebeb31673"
  },
  {
   "cell_type": "markdown",
   "metadata": {},
   "source": [
    "The function `float` will take a different data type and turn it into a\n",
    "float. Here `x` is an integer."
   ],
   "id": "41654ce5d7b43f89"
  },
  {
   "cell_type": "code",
   "execution_count": null,
   "metadata": {
    "data-code-dir": "input",
    "data-gutter-symbol": ">>>"
   },
   "outputs": [],
   "source": [
    "x = 2\n",
    "float(x)"
   ],
   "id": "3f1f16e789579e30"
  },
  {
   "cell_type": "markdown",
   "metadata": {},
   "source": [
    "### Complex numbers\n",
    "\n",
    "You may or not have already come across complex numbers. Well, this is\n",
    "as good a place as any to mention them, even if we don’t really use them\n",
    "in this bit of course.\n",
    "\n",
    "You can define a complex number as follows"
   ],
   "id": "b6cd971fc7606f2e"
  },
  {
   "cell_type": "code",
   "execution_count": null,
   "metadata": {
    "data-code-dir": "input",
    "data-gutter-symbol": ">>>"
   },
   "outputs": [],
   "source": [
    "z = 2+3j\n",
    "type(z)"
   ],
   "id": "3991871f93012b6"
  },
  {
   "cell_type": "markdown",
   "metadata": {},
   "source": [
    "and easily query its real and imaginary parts"
   ],
   "id": "1a57b3c6f05beac0"
  },
  {
   "cell_type": "code",
   "execution_count": null,
   "metadata": {
    "data-code-dir": "input",
    "data-gutter-symbol": ">>>"
   },
   "outputs": [],
   "source": [
    "z.real"
   ],
   "id": "ba944f3184ca87a6"
  },
  {
   "cell_type": "code",
   "execution_count": null,
   "metadata": {
    "data-code-dir": "input",
    "data-gutter-symbol": ">>>"
   },
   "outputs": [],
   "source": [
    "z.imaj"
   ],
   "id": "acf063185005a8cb"
  },
  {
   "cell_type": "markdown",
   "metadata": {},
   "source": [
    "### Booleans\n",
    "\n",
    "A boolean is an object that is either true or false and is referred to\n",
    "as type *bool* in Python. There are only two values for this data type:\n",
    "`True` and `False`"
   ],
   "id": "5eb020104c771890"
  },
  {
   "cell_type": "code",
   "execution_count": null,
   "metadata": {
    "data-code-dir": "input",
    "data-gutter-symbol": ">>>"
   },
   "outputs": [],
   "source": [
    "type(True)"
   ],
   "id": "671f2380cb172567"
  },
  {
   "cell_type": "markdown",
   "metadata": {},
   "source": [
    "Note that computers store boolean values as 0s (for false) and 1s (for\n",
    "true), so the result of this sort of conversion is not surprising:"
   ],
   "id": "542be8abc22b39e5"
  },
  {
   "cell_type": "code",
   "execution_count": null,
   "metadata": {
    "data-code-dir": "input",
    "data-gutter-symbol": ">>>"
   },
   "outputs": [],
   "source": [
    "int(True)"
   ],
   "id": "e6605b39852b6c0e"
  },
  {
   "cell_type": "code",
   "execution_count": null,
   "metadata": {
    "data-code-dir": "input",
    "data-gutter-symbol": ">>>"
   },
   "outputs": [],
   "source": [
    "bool(1)"
   ],
   "id": "7a342d6faf8f3e59"
  },
  {
   "cell_type": "markdown",
   "metadata": {},
   "source": [
    "### Strings\n",
    "\n",
    "*Strings* (words!), sometimes called character strings, could be used as\n",
    "part of data that we are working with, or when naming files, and so on.\n",
    "Python calls this type of data *str*.\n",
    "\n",
    "You can define a complex number as follows"
   ],
   "id": "5f6844eeda63d8c1"
  },
  {
   "cell_type": "code",
   "execution_count": null,
   "metadata": {
    "data-code-dir": "input",
    "data-gutter-symbol": ">>>"
   },
   "outputs": [],
   "source": [
    "type(\"a string\")"
   ],
   "id": "f2d89692449fdadc"
  },
  {
   "cell_type": "markdown",
   "metadata": {},
   "source": [
    "You can use either single or double quotes to enclose a string. Unlike\n",
    "other languages, there is no real precedent for using one over the\n",
    "other, but it’s best to stick with one and being consistent. In that\n",
    "spirit, I’m going for double quotes…\n",
    "\n",
    "### Exercise 1.2\n",
    "\n",
    "Assign some strings to two variables, preferably two words or phrases\n",
    "that when put together will be hilarious.\n",
    "\n",
    "-   Look up a function or method to join the two strings into one. What\n",
    "    is the technical name for this operation? When I say look up, Google\n",
    "    is your friend! *Other search engines are available.*\n",
    "-   Use the function `len` to find out how many characters are in your\n",
    "    masterpiece.\n",
    "\n",
    "Note that there are several ways to do this, some more sophisticated\n",
    "than others. What happens if you use your method to join a string and an\n",
    "integer? The simplest method of joining strings doesn’t allow this and\n",
    "returns an error. If you wanted to do such a thing then you may need\n",
    "another way.\n",
    "\n",
    "Lists and arrays\n",
    "----------------\n",
    "\n",
    "Lists and arrays are used by Python to store data in a vector- or\n",
    "matrix-like structure.\n",
    "\n",
    "### Lists\n",
    "\n",
    "Lists are very straightforward to set up. Place a comma-separated list\n",
    "of any variable type inside square brackets."
   ],
   "id": "2b86614934462215"
  },
  {
   "cell_type": "code",
   "execution_count": null,
   "metadata": {
    "data-code-dir": "input",
    "data-gutter-symbol": ">>>"
   },
   "outputs": [],
   "source": [
    "x = [3,8,5,6]"
   ],
   "id": "1be079c8515f2f38"
  },
  {
   "cell_type": "markdown",
   "metadata": {},
   "source": [
    "An element of the list can be accessed, or *indexed*, as follows,"
   ],
   "id": "27c758196290820d"
  },
  {
   "cell_type": "code",
   "execution_count": null,
   "metadata": {
    "data-code-dir": "input",
    "data-gutter-symbol": ">>>"
   },
   "outputs": [],
   "source": [
    "x[3]"
   ],
   "id": "dc9435787dafbaee"
  },
  {
   "cell_type": "markdown",
   "metadata": {},
   "source": [
    "And individual elements can be set with,"
   ],
   "id": "b443126596878d7c"
  },
  {
   "cell_type": "code",
   "execution_count": null,
   "metadata": {
    "data-code-dir": "input",
    "data-gutter-symbol": ">>>"
   },
   "outputs": [],
   "source": [
    "x[3] = 10"
   ],
   "id": "b3bad5ff200015e7"
  },
  {
   "cell_type": "markdown",
   "metadata": {},
   "source": [
    "Note - **very important** - Python indexing begins at 0, not 1, i.e. the\n",
    "element with index 3 above is the fourth in the list! There are long and\n",
    "boring reasons why, which I won’t waste pixels with, but importantly\n",
    "this is different in other languages (including R, which you will learn\n",
    "next semester), so take care!\n",
    "\n",
    "Lists can be used with other data types too. For example strings:"
   ],
   "id": "b180006d1e4d2f7b"
  },
  {
   "cell_type": "code",
   "execution_count": null,
   "metadata": {
    "data-code-dir": "input",
    "data-gutter-symbol": ">>>"
   },
   "outputs": [],
   "source": [
    "y = [\"oranges\",\"apples\",\"bananas\"]\n",
    "y[1]"
   ],
   "id": "3b5862bc1e2986e0"
  },
  {
   "cell_type": "markdown",
   "metadata": {},
   "source": [
    "We are now in a position to use some more of the built-in functions that\n",
    "were introduced earlier in the handout."
   ],
   "id": "7c1f6d390ceeb20"
  },
  {
   "cell_type": "code",
   "execution_count": null,
   "metadata": {
    "data-code-dir": "input",
    "data-gutter-symbol": ">>>"
   },
   "outputs": [],
   "source": [
    "x = [1,5,7,2,4,6,3,9,1,-1]"
   ],
   "id": "d9508f598c12a1d3"
  },
  {
   "cell_type": "code",
   "execution_count": null,
   "metadata": {
    "data-code-dir": "input",
    "data-gutter-symbol": ">>>"
   },
   "outputs": [],
   "source": [
    "len(x)"
   ],
   "id": "3f87ac4a5327d3bc"
  },
  {
   "cell_type": "code",
   "execution_count": null,
   "metadata": {
    "data-code-dir": "input",
    "data-gutter-symbol": ">>>"
   },
   "outputs": [],
   "source": [
    "min(x)"
   ],
   "id": "d79df6d503854fe8"
  },
  {
   "cell_type": "code",
   "execution_count": null,
   "metadata": {
    "data-code-dir": "input",
    "data-gutter-symbol": ">>>"
   },
   "outputs": [],
   "source": [
    "max(x)"
   ],
   "id": "f028d801876407ab"
  },
  {
   "cell_type": "code",
   "execution_count": null,
   "metadata": {
    "data-code-dir": "input",
    "data-gutter-symbol": ">>>"
   },
   "outputs": [],
   "source": [
    "sum(x)"
   ],
   "id": "be0a2914b144928f"
  },
  {
   "cell_type": "markdown",
   "metadata": {},
   "source": [
    "### The `range` function\n",
    "\n",
    "The range function creates a sequence of integer numbers. We will use\n",
    "this a lot!\n",
    "\n",
    "With one argument, `range(stop)` for some integer `stop`, the function\n",
    "returns the sequence from 0 up to **but not including** `stop`."
   ],
   "id": "47fc52b783cf8e40"
  },
  {
   "cell_type": "code",
   "execution_count": null,
   "metadata": {},
   "outputs": [],
   "source": [
    "range(10)"
   ],
   "id": "4712c162157ecd31"
  },
  {
   "cell_type": "markdown",
   "metadata": {},
   "source": [
    "creates a sequence of numbers $0,1,2\\cdots 9$.\n",
    "\n",
    "You can display these numbers in a list using the `list` function:"
   ],
   "id": "e8db43647f9c50bc"
  },
  {
   "cell_type": "code",
   "execution_count": null,
   "metadata": {},
   "outputs": [],
   "source": [
    "list(range(10))"
   ],
   "id": "37d00083878dc0d1"
  },
  {
   "cell_type": "markdown",
   "metadata": {},
   "source": [
    "If `range` is given two arguments, it treats them as `range(start,stop)`\n",
    "and returns the sequence from `start` up to **but not including**\n",
    "`stop`."
   ],
   "id": "31daf45a964ef926"
  },
  {
   "cell_type": "code",
   "execution_count": null,
   "metadata": {},
   "outputs": [],
   "source": [
    "list(range(2,10))"
   ],
   "id": "81a424d157148648"
  },
  {
   "cell_type": "markdown",
   "metadata": {},
   "source": [
    "returns the sequence $2,3,4\\cdots 9$.\n",
    "\n",
    "If range has a third argument then it does ‘list(start,stop,step)’"
   ],
   "id": "7a510dcd5882314a"
  },
  {
   "cell_type": "code",
   "execution_count": null,
   "metadata": {},
   "outputs": [],
   "source": [
    "list(range(2,10,2))"
   ],
   "id": "ead9c9ec7a7df723"
  },
  {
   "cell_type": "markdown",
   "metadata": {},
   "source": [
    "returns the sequence $2,4,6,8$.\n",
    "\n",
    "Just like before, we can query elements in a sequence"
   ],
   "id": "356f790cda5e2e52"
  },
  {
   "cell_type": "code",
   "execution_count": null,
   "metadata": {},
   "outputs": [],
   "source": [
    "x = range(2,10,2)\n",
    "x[3]"
   ],
   "id": "cdd944c2c26b4832"
  },
  {
   "cell_type": "markdown",
   "metadata": {},
   "source": [
    "### Exercise 1.3\n",
    "\n",
    "Run the following command:\n",
    "\n",
    "``` octave\n",
    "list(range(2, -3))\n",
    "```\n",
    "\n",
    "-   What do you think was the intended sequence of numbers?\n",
    "-   What is the result instead?\n",
    "-   Can you figure out how to ‘fix’ it.\n",
    "\n",
    "### List methods\n",
    "\n",
    "*methods* in Python are similar to a little bit like a function: they\n",
    "are tasks associated with a particular type (technically class, we’ll\n",
    "come back to that later in the module) of object. In this case there are\n",
    "a number of methods associated with lists. Note that these change the\n",
    "list itself:"
   ],
   "id": "822967cad5c2689f"
  },
  {
   "cell_type": "code",
   "execution_count": null,
   "metadata": {
    "data-code-dir": "input",
    "data-gutter-symbol": ">>>"
   },
   "outputs": [],
   "source": [
    "x = range(0,10)\n",
    "x.reverse()\n",
    "print(x)"
   ],
   "id": "9bf3689e27bb4510"
  },
  {
   "cell_type": "code",
   "execution_count": null,
   "metadata": {
    "data-code-dir": "input",
    "data-gutter-symbol": ">>>"
   },
   "outputs": [],
   "source": [
    "x = [2,7,3,8]\n",
    "x.sort()\n",
    "print(x)"
   ],
   "id": "a1aff10a4b6eb7ed"
  },
  {
   "cell_type": "code",
   "execution_count": null,
   "metadata": {
    "data-code-dir": "input",
    "data-gutter-symbol": ">>>"
   },
   "outputs": [],
   "source": [
    "x = [\"oranges\",\"bananas\"]\n",
    "x.append(\"apples\")\n",
    "print(x)"
   ],
   "id": "cdc880e3cd02b18c"
  },
  {
   "cell_type": "markdown",
   "metadata": {},
   "source": [
    "Here is a [https://docs.code\n",
    ".python.org/3/tutorial/datastructures.html](reference%20page%20for%20more%20list%20methods).\n",
    "You can also view all of the methods available for any object using the\n",
    "`dir()` function."
   ],
   "id": "6124239f59674df0"
  },
  {
   "cell_type": "code",
   "execution_count": null,
   "metadata": {
    "data-code-dir": "input",
    "data-gutter-symbol": ">>>"
   },
   "outputs": [],
   "source": [
    "dir(x)"
   ],
   "id": "6bc373f16bb82db4"
  },
  {
   "cell_type": "markdown",
   "metadata": {},
   "source": [
    "### Exercise 1.4\n",
    "\n",
    "Consider the following:"
   ],
   "id": "f04c39139d360d8c"
  },
  {
   "cell_type": "code",
   "execution_count": null,
   "metadata": {
    "data-code-dir": "input",
    "data-gutter-symbol": ">>>"
   },
   "outputs": [],
   "source": [
    "fizzy_drinks = [\"Cola\", \"Lemonade\", \"Sparkling Water\"] \n",
    "stll_drinks = [\"Orange Juice\", \"Still Water\"]"
   ],
   "id": "ac76c16af1af70e3"
  },
  {
   "cell_type": "markdown",
   "metadata": {},
   "source": [
    "Find a way to combine the two lists into one list named `all_drinks`\n",
    "(hint: use the method `copy()` followed by `extend()`) and then sort it\n",
    "alphabetically using `sort()`.\n",
    "\n",
    "### Limitation of lists\n",
    "\n",
    "This is all very neat and don’t forget about lists, as they are great!\n",
    "However, they are not ideal for arithmetic operations. I might well like\n",
    "to do something like the following"
   ],
   "id": "e438723acf7d3bd3"
  },
  {
   "cell_type": "code",
   "execution_count": null,
   "metadata": {
    "data-code-dir": "input",
    "data-gutter-symbol": ">>>"
   },
   "outputs": [],
   "source": [
    "x = [3,6,9]\n",
    "x/3"
   ],
   "id": "684c3a9d45a8efa2"
  },
  {
   "cell_type": "markdown",
   "metadata": {},
   "source": [
    "and hope to get back\n",
    "\n",
    "    [1,2,3]\n",
    "\n",
    "however what I get back is\n",
    "\n",
    "    TypeError: unsupported operand type(s) for /: 'list' and 'int'\n",
    "\n",
    "Because we’re physicists, we are likely to want to do this sort of\n",
    "thing. Fortunately *numpy* is brilliant at this…\n",
    "\n",
    "Arrays in *numpy*\n",
    "-----------------\n",
    "\n",
    "Setting up a vector using numpy goes like this:"
   ],
   "id": "eb2f58ca90e0179a"
  },
  {
   "cell_type": "code",
   "execution_count": null,
   "metadata": {
    "data-code-dir": "input",
    "data-gutter-symbol": ">>>"
   },
   "outputs": [],
   "source": [
    "import numpy as np\n",
    "a = np.array([3,6,9])"
   ],
   "id": "e6618d688659a91f"
  },
  {
   "cell_type": "markdown",
   "metadata": {},
   "source": [
    "*numpy* also has support for sequences of numbers with a function\n",
    "`arange`."
   ],
   "id": "bfa6bb95789926cd"
  },
  {
   "cell_type": "code",
   "execution_count": null,
   "metadata": {
    "data-code-dir": "input",
    "data-gutter-symbol": ">>>"
   },
   "outputs": [],
   "source": [
    "np.arange(3,6)"
   ],
   "id": "757ca27b508b699"
  },
  {
   "cell_type": "code",
   "execution_count": null,
   "metadata": {
    "data-code-dir": "input",
    "data-gutter-symbol": ">>>"
   },
   "outputs": [],
   "source": [
    "np.arange(1,10,2)"
   ],
   "id": "439c8fbbb8cc9460"
  },
  {
   "cell_type": "markdown",
   "metadata": {},
   "source": [
    "Vector arithmetic\n",
    "-----------------\n",
    "\n",
    "We can now do some vector arithmetic. In the following command"
   ],
   "id": "6a136b721ca12d48"
  },
  {
   "cell_type": "code",
   "execution_count": null,
   "metadata": {
    "data-code-dir": "input",
    "data-gutter-symbol": ">>>"
   },
   "outputs": [],
   "source": [
    "import numpy as np\n",
    "x = np.array([3,6,9])\n",
    "y = x/3"
   ],
   "id": "1ee9866e1f128afc"
  },
  {
   "cell_type": "markdown",
   "metadata": {},
   "source": [
    "each term in `x` is divided by 3, so that `y` is an array of length 3\n",
    "containing the values 1,2,3. The division is done ‘element-wise’.\n",
    "\n",
    "Similarly we can do vector multiplication"
   ],
   "id": "b17e74b59d168346"
  },
  {
   "cell_type": "code",
   "execution_count": null,
   "metadata": {
    "data-code-dir": "input",
    "data-gutter-symbol": ">>>"
   },
   "outputs": [],
   "source": [
    "import numpy as np\n",
    "3*x"
   ],
   "id": "c11d10fce8d4e8da"
  },
  {
   "cell_type": "markdown",
   "metadata": {},
   "source": [
    "and addition and subtraction"
   ],
   "id": "a3a286c219f800a9"
  },
  {
   "cell_type": "code",
   "execution_count": null,
   "metadata": {
    "data-code-dir": "input",
    "data-gutter-symbol": ">>>"
   },
   "outputs": [],
   "source": [
    "x = np.array([1,2,3])\n",
    "y = np.array([4,5,6])\n",
    "x + y"
   ],
   "id": "6def120695ad4d8c"
  },
  {
   "cell_type": "markdown",
   "metadata": {},
   "source": [
    "Similarly, functions which would normally be used for a scalar number\n",
    "operate element-wise. Consider for example `np.deg2rad()` which converts\n",
    "degrees to radians:"
   ],
   "id": "14d7d71b04782249"
  },
  {
   "cell_type": "code",
   "execution_count": null,
   "metadata": {
    "data-code-dir": "input",
    "data-gutter-symbol": ">>>"
   },
   "outputs": [],
   "source": [
    "a = np.array([0,90,180])\n",
    "np.deg2rad(a)"
   ],
   "id": "2a3df8a6550343ae"
  },
  {
   "cell_type": "markdown",
   "metadata": {},
   "source": [
    "Let’s see how this works in practice by constructing some triangular\n",
    "numbers\n",
    "\n",
    "$$t_n = \\frac{n(n+1)}{2}$$\n",
    "\n",
    "Say we are interested in $n$ from 1 to 10. Let’s set up an array using\n",
    "`arange()`"
   ],
   "id": "e7b5c1896ef2b5a6"
  },
  {
   "cell_type": "code",
   "execution_count": null,
   "metadata": {
    "data-code-dir": "input",
    "data-gutter-symbol": ">>>"
   },
   "outputs": [],
   "source": [
    "n = np.arange(1,11)"
   ],
   "id": "8d8f9e1841130c78"
  },
  {
   "cell_type": "markdown",
   "metadata": {},
   "source": [
    "Because all of the arithmetic is element-wise, the triangular numbers\n",
    "are simply given by"
   ],
   "id": "cb7bc184bef9a97c"
  },
  {
   "cell_type": "code",
   "execution_count": null,
   "metadata": {
    "data-code-dir": "input",
    "data-gutter-symbol": ">>>"
   },
   "outputs": [],
   "source": [
    "t = n*(n+1)/2"
   ],
   "id": "73d2df49444e59af"
  },
  {
   "cell_type": "markdown",
   "metadata": {},
   "source": [
    "### Exercise 1.5\n",
    "\n",
    "Using the above, find the sum of the first 100 triangle numbers.\n",
    "\n",
    "Querying and manipulating arrays\n",
    "--------------------------------\n",
    "\n",
    "Consider the following array set up using `arange`"
   ],
   "id": "efb71c5212400508"
  },
  {
   "cell_type": "code",
   "execution_count": null,
   "metadata": {
    "data-code-dir": "input",
    "data-gutter-symbol": ">>>"
   },
   "outputs": [],
   "source": [
    "x = np.arange(0,15)"
   ],
   "id": "ff7056f446bf6549"
  },
  {
   "cell_type": "markdown",
   "metadata": {},
   "source": [
    "We saw earlier that, for example, the element with index 5 (6th in the\n",
    "list) can be found with"
   ],
   "id": "9492929158ee0dd6"
  },
  {
   "cell_type": "code",
   "execution_count": null,
   "metadata": {
    "data-code-dir": "input",
    "data-gutter-symbol": ">>>"
   },
   "outputs": [],
   "source": [
    "x[0]"
   ],
   "id": "c154ab4a5f927aa4"
  },
  {
   "cell_type": "markdown",
   "metadata": {},
   "source": [
    "And we can also use this to set a value"
   ],
   "id": "2b9a8e1a0386f347"
  },
  {
   "cell_type": "code",
   "execution_count": null,
   "metadata": {
    "data-code-dir": "input",
    "data-gutter-symbol": ">>>"
   },
   "outputs": [],
   "source": [
    "x[0] = 5"
   ],
   "id": "54830a97027c3cdb"
  },
  {
   "cell_type": "markdown",
   "metadata": {},
   "source": [
    "Using a similar idea, we can find the values greater than"
   ],
   "id": "222f9bb0b309c67"
  },
  {
   "cell_type": "code",
   "execution_count": null,
   "metadata": {
    "data-code-dir": "input",
    "data-gutter-symbol": ">>>"
   },
   "outputs": [],
   "source": [
    "x[x>10]"
   ],
   "id": "b562b5ee1ea042e4"
  },
  {
   "cell_type": "markdown",
   "metadata": {},
   "source": [
    "We could also find the number of values"
   ],
   "id": "3cb82ad5b22f3d29"
  },
  {
   "cell_type": "code",
   "execution_count": null,
   "metadata": {
    "data-code-dir": "input",
    "data-gutter-symbol": ">>>"
   },
   "outputs": [],
   "source": [
    "len(x[x>10])"
   ],
   "id": "4616c0c4fa99edc9"
  },
  {
   "cell_type": "markdown",
   "metadata": {},
   "source": [
    "Note that the command `x>10` returns an array of logicals"
   ],
   "id": "5cda9ac618832b53"
  },
  {
   "cell_type": "code",
   "execution_count": null,
   "metadata": {
    "data-code-dir": "input",
    "data-gutter-symbol": ">>>"
   },
   "outputs": [],
   "source": [
    "x>10"
   ],
   "id": "31387975c735fbb8"
  },
  {
   "cell_type": "markdown",
   "metadata": {},
   "source": [
    "i.e. a `True` or `False` for each element in the array. We’ll come back\n",
    "to logical expressions next week.\n",
    "\n",
    "### Exercise 1.6\n",
    "\n",
    "Look up the help for the *numpy* function `zeros()` to create a vector\n",
    "\n",
    "$$[0, 0, 0, 0, 1, 0, 0, 0, 0, 0]$$\n",
    "\n",
    "(i.e. don’t just add the elements individually)\n",
    "\n",
    "It’s likely that your array will contain floating point numbers. Take\n",
    "another look at the help for `zeros` and see if you set up the array\n",
    "with integers instead\n",
    "\n",
    "### Matrices in `numpy`\n",
    "\n",
    "From a programming point of view, a matrix is a two-dimensional array,\n",
    "and can also be set up using the *numpy* `array` function. The syntax is\n",
    "as follows"
   ],
   "id": "a1cdea5003b65b0f"
  },
  {
   "cell_type": "code",
   "execution_count": null,
   "metadata": {
    "data-code-dir": "input",
    "data-gutter-symbol": ">>>"
   },
   "outputs": [],
   "source": [
    "A = np.array([[2,1,3],[2,3,3],[1,2,0]])"
   ],
   "id": "ef67fe01bbdcae1a"
  },
  {
   "cell_type": "markdown",
   "metadata": {},
   "source": [
    "As for lists, the *numpy* array class of objects has methods. You can\n",
    "view these for our object `A` with"
   ],
   "id": "64e622bea5b49a29"
  },
  {
   "cell_type": "code",
   "execution_count": null,
   "metadata": {
    "data-code-dir": "input",
    "data-gutter-symbol": ">>>"
   },
   "outputs": [],
   "source": [
    "dir(A)"
   ],
   "id": "130b1c0cd38b0b70"
  },
  {
   "cell_type": "markdown",
   "metadata": {},
   "source": [
    "The shape of a *numpy* array can be queried with the shape method"
   ],
   "id": "93e79d28f367d519"
  },
  {
   "cell_type": "code",
   "execution_count": null,
   "metadata": {
    "data-code-dir": "input",
    "data-gutter-symbol": ">>>"
   },
   "outputs": [],
   "source": [
    "A.shape"
   ],
   "id": "2d01f6c744fe877b"
  },
  {
   "cell_type": "markdown",
   "metadata": {},
   "source": [
    "The methods for a numpy array include some common tasks used when\n",
    "working with matrices, for example"
   ],
   "id": "3d756e64087bd2b3"
  },
  {
   "cell_type": "code",
   "execution_count": null,
   "metadata": {
    "data-code-dir": "input",
    "data-gutter-symbol": ">>>"
   },
   "outputs": [],
   "source": [
    "A.transpose()"
   ],
   "id": "17ba27f39eed0d2a"
  },
  {
   "cell_type": "markdown",
   "metadata": {},
   "source": [
    "*numpy* also has functions which operate on matrices, such as\n",
    "`numpy.linalg.inv()`, to calculate the inverse of a matrix."
   ],
   "id": "ea11551bfbf427b"
  },
  {
   "cell_type": "code",
   "execution_count": null,
   "metadata": {
    "data-code-dir": "input",
    "data-gutter-symbol": ">>>"
   },
   "outputs": [],
   "source": [
    "numpy.linalg.inv(A)"
   ],
   "id": "69905f557f63c20c"
  },
  {
   "cell_type": "markdown",
   "metadata": {},
   "source": [
    "The function `np.linalg.solve(A,b)` solves an equation in the matrix\n",
    "form $Ax=b$ for matrix $A$ and columb nector $b$. For example, let’s\n",
    "solve the system of linear equations\n",
    "\n",
    "$$ \n",
    "x +  y + z = 6 \\\\\n",
    "2y + 5z = −4   \\\\\n",
    "2x + 5y − z = 27   \\\\\n",
    "$$\n",
    "\n",
    "We’ll write the system in the form\n",
    "\n",
    "$$ Ax = b $$\n",
    "\n",
    "$$\n",
    "\\begin{pmatrix} 1 & 1 & 1 \\\\ 0 & 2 & 5 \\\\ 2 & 5 & -1 \\\\ \\end{pmatrix} \\begin{pmatrix} x \\\\ y \\\\ z\\end{pmatrix} = \\begin{pmatrix} 6 \\\\ -4 \\\\ 27\\end{pmatrix}\n",
    "$$\n",
    "\n",
    "and create `A` and `b` in Python using *numpy*"
   ],
   "id": "819eba0cb0bbad92"
  },
  {
   "cell_type": "code",
   "execution_count": null,
   "metadata": {
    "data-code-dir": "input",
    "data-gutter-symbol": ">>>"
   },
   "outputs": [],
   "source": [
    "A = np.array([[1,1,1],[0,2,3],[2,5,-1]])"
   ],
   "id": "112d95a4cd77e9a6"
  },
  {
   "cell_type": "code",
   "execution_count": null,
   "metadata": {
    "data-code-dir": "input",
    "data-gutter-symbol": ">>>"
   },
   "outputs": [],
   "source": [
    "B = np.array([[6],[0],[27]])"
   ],
   "id": "b1c98e21fec73229"
  },
  {
   "cell_type": "markdown",
   "metadata": {},
   "source": [
    "Then $x$ is then given by"
   ],
   "id": "5e4d5c4a2b08212c"
  },
  {
   "cell_type": "code",
   "execution_count": null,
   "metadata": {
    "data-code-dir": "input",
    "data-gutter-symbol": ">>>"
   },
   "outputs": [],
   "source": [
    "x = np.linalg.solve(A,b) \n",
    "print(x)"
   ],
   "id": "7fcda29e405f6cff"
  },
  {
   "cell_type": "markdown",
   "metadata": {},
   "source": [
    "A matrix element can be accessed as `A[i][j]` where `i` is the row index\n",
    "and `j` the column index"
   ],
   "id": "7cb1f3a2317245aa"
  },
  {
   "cell_type": "code",
   "execution_count": null,
   "metadata": {
    "data-code-dir": "input",
    "data-gutter-symbol": ">>>"
   },
   "outputs": [],
   "source": [
    "A[1][2]"
   ],
   "id": "4e7bd9d54e08ae1f"
  },
  {
   "cell_type": "markdown",
   "metadata": {},
   "source": [
    "Or alternatively"
   ],
   "id": "6f1c02fe808bcad1"
  },
  {
   "cell_type": "code",
   "execution_count": null,
   "metadata": {
    "data-code-dir": "input",
    "data-gutter-symbol": ">>>"
   },
   "outputs": [],
   "source": [
    "A[1,2]"
   ],
   "id": "527bbc69f5379453"
  },
  {
   "cell_type": "markdown",
   "metadata": {},
   "source": [
    "A colon acts as a ‘wilcard’, so this returns the first column (remember\n",
    "the first column has index 0),"
   ],
   "id": "93f282285f20418b"
  },
  {
   "cell_type": "code",
   "execution_count": null,
   "metadata": {
    "data-code-dir": "input",
    "data-gutter-symbol": ">>>"
   },
   "outputs": [],
   "source": [
    "A[:,0]"
   ],
   "id": "d39e0732a415a1cb"
  },
  {
   "cell_type": "markdown",
   "metadata": {},
   "source": [
    "Read this as “show me the any row and the first column”. Similarly,"
   ],
   "id": "66620ccd83bafe8a"
  },
  {
   "cell_type": "code",
   "execution_count": null,
   "metadata": {
    "data-code-dir": "input",
    "data-gutter-symbol": ">>>"
   },
   "outputs": [],
   "source": [
    "A[0,:]"
   ],
   "id": "6b0a106f97605aa2"
  },
  {
   "cell_type": "markdown",
   "metadata": {},
   "source": [
    "gives the “first row and any column”.\n",
    "\n",
    "### Exercise 1.7\n",
    "\n",
    "Create the matrix\n",
    "\n",
    "$$\n",
    "\\begin{pmatrix} 1 & 2 & 3 & 4 & 5  \\\\ 6 & 7 & 8 & 9 & 10 \\\\ 11 & 12 & 13 & 14 & 15 \\end{pmatrix}\n",
    "$$\n",
    "\n",
    "There are three levels of sophistication here:\n",
    "\n",
    "-   Create the matrix entering individual elements.\n",
    "-   Create the matrix from the 3 sequences. You’ll need the *numpy*\n",
    "    functions `arange()` and `column_stack()` (see\n",
    "    `help(np.column_stack)`)\n",
    "-   Create the matrix from 1 sequence. Take a look at help(np.reshape).\n",
    "\n",
    "<!-- Working with files -->\n",
    "\n",
    "Python Scripts\n",
    "--------------\n",
    "\n",
    "Whilst the Console window is an important part of the environment,\n",
    "especially as it contains the output to our code, it’s not a convenient\n",
    "place to put multiple lines of code. And of course we’re going to need\n",
    "more code if we want to do amazing things with Python.\n",
    "\n",
    "You’ll have noticed that big space on the left of Spyder. This is the\n",
    "*Editor* and is used to edit files. We’ll use files to store our code,\n",
    "so that we can edit, save, re-open and re-use code.\n",
    "\n",
    "### Opening a blank file\n",
    "\n",
    "Hit the `New file` button or go to *File -\\> New file..*.\n",
    "\n",
    "\\*\\* pic \\*\\*\n",
    "\n",
    "You’ll have a file with a bunch of stuff at the top. The first two lines\n",
    "are comments (actually the first is known as a *shebang*) and the but in\n",
    "green is a multiline string. You can delete this bit if you like.\n",
    "\n",
    "Let’s go ahead and put some code into our file from earlier."
   ],
   "id": "d1ff9d4dfed2b35e"
  },
  {
   "cell_type": "code",
   "execution_count": null,
   "metadata": {
    "data-code-dir": "input",
    "data-gutter-symbol": ">>>"
   },
   "outputs": [],
   "source": [
    "import numpy as np\n",
    "x = np.arange(0,10)\n",
    "y = np.cos(x)"
   ],
   "id": "6bfc84d6d69ae8be"
  },
  {
   "cell_type": "markdown",
   "metadata": {},
   "source": [
    "Click the play button, or hit f5 to run the file. You will be prompted\n",
    "to save your file. It’s a good idea to give it a sensible name and\n",
    "location, maybe even think about creating a folder for today’s session.\n",
    "\n",
    "In the console you’ll see a line like"
   ],
   "id": "3d69a4b1b15f3312"
  },
  {
   "cell_type": "code",
   "execution_count": null,
   "metadata": {
    "data-code-dir": "input",
    "data-gutter-symbol": ">>>"
   },
   "outputs": [],
   "source": [
    "runfile('/Users/chris/.spyder-py3/myfile.py', wdir='/Users/chris/.spyder-py3')"
   ],
   "id": "ff37baf6106e6ae3"
  },
  {
   "cell_type": "markdown",
   "metadata": {},
   "source": [
    "but not much else. I did say that Python is quiet! Let’s use the `print`\n",
    "function to print out the value of y. Change your code in the editor to"
   ],
   "id": "9b9dfdcc93e077bd"
  },
  {
   "cell_type": "code",
   "execution_count": null,
   "metadata": {
    "data-code-dir": "input",
    "data-gutter-symbol": ">>>"
   },
   "outputs": [],
   "source": [
    "import numpy as np\n",
    "x = np.arange(0,10)\n",
    "y = np.cos(x)\n",
    "print(y)"
   ],
   "id": "586ff752afbe8d08"
  },
  {
   "cell_type": "markdown",
   "metadata": {},
   "source": [
    "and you will see the value of `y` printed in the Console.\n",
    "\n",
    "Next week we’ll talk about best practices for commenting your files,\n",
    "which is very important. In brief, lines with a \\# are treated as\n",
    "comments"
   ],
   "id": "ff911e921dfc6398"
  },
  {
   "cell_type": "code",
   "execution_count": null,
   "metadata": {
    "data-code-dir": "input",
    "data-gutter-symbol": ">>>"
   },
   "outputs": [],
   "source": [
    "# import numpy\n",
    "import numpy as np\n",
    "\n",
    "# do some stuff\n",
    "x = np.arange(0,10)\n",
    "y = np.cos(x)\n",
    "\n",
    "# print y\n",
    "print(y)"
   ],
   "id": "a5fb3809fd64242e"
  },
  {
   "cell_type": "markdown",
   "metadata": {},
   "source": [
    "<!-- Hand In exercise -->\n",
    "\n",
    "### Exercise 1.8\\*\n",
    "\n",
    "In the 14th century, the Indian astronomer and mathematician, Madhava of\n",
    "Sangamagrama, proposed the following method for computing the value of\n",
    "the number $\\pi$:\n",
    "\n",
    "$$ \\pi = \\sqrt{12}\\sum_{k=0}^{n}\\frac{(-3)^{-k}}{2k+1} $$\n",
    "\n",
    "Madhava computed the first 21 terms in the series.\n",
    "\n",
    "-   Create a vector `k` containing the integers $0$ to $20$ using a\n",
    "    *numpy* array.\n",
    "-   Use `k` to create a new vector which contains the terms in the\n",
    "    series (*Hint: see the vector arithmetic section*).\n",
    "-   Use your vector to calculate $\\pi$ using Madhava’s method.\n",
    "-   To how many decimal places was Madhava correct?\n",
    "\n",
    "Put your commands into a .py script and upload it to NESS before\n",
    "Neversday at midnight.\n",
    "\n",
    "Next Time\n",
    "---------\n",
    "\n",
    "In the next session we will look at Python’s impressive plotting\n",
    "capabilities and my teaching materials will be a whole load more\n",
    "colourful!\n",
    "\n",
    "\\*\\* image to go in \\*\\*\n",
    "\n",
    "------------------------------------------------------------------------"
   ],
   "id": "9106a71e58a3e263"
  }
 ],
 "nbformat": 4,
 "nbformat_minor": 5,
 "metadata": {}
}
